{
  "nbformat": 4,
  "nbformat_minor": 0,
  "metadata": {
    "colab": {
      "name": "img_Lab3.ipynb",
      "provenance": [],
      "collapsed_sections": [],
      "include_colab_link": true
    },
    "kernelspec": {
      "display_name": "Python 3",
      "language": "python",
      "name": "python3"
    },
    "language_info": {
      "codemirror_mode": {
        "name": "ipython",
        "version": 3
      },
      "file_extension": ".py",
      "mimetype": "text/x-python",
      "name": "python",
      "nbconvert_exporter": "python",
      "pygments_lexer": "ipython3",
      "version": "3.7.6"
    },
    "accelerator": "GPU"
  },
  "cells": [
    {
      "cell_type": "markdown",
      "metadata": {
        "id": "view-in-github",
        "colab_type": "text"
      },
      "source": [
        "<a href=\"https://colab.research.google.com/github/d-dimos/image_video_analysis_ntua/blob/main/img_Lab3.ipynb\" target=\"_parent\"><img src=\"https://colab.research.google.com/assets/colab-badge.svg\" alt=\"Open In Colab\"/></a>"
      ]
    },
    {
      "cell_type": "markdown",
      "metadata": {
        "id": "LpnEVMCYYlnD"
      },
      "source": [
        "# 3η ομαδική άσκηση στη Τεχνολογία και Ανάλυση Εικόνων και Βίντεο"
      ]
    },
    {
      "cell_type": "markdown",
      "metadata": {
        "id": "Q-5UaTREeLBx"
      },
      "source": [
        "## <p style=\"text-align: center;\"> Τεχνολογία και Ανάλυση Εικόνων και Βίντεο - Ροή Υ </p>\n",
        "### 3η Εργαστηριακή Άσκηση, Άνοιξη 2021\n",
        "\n",
        "    'Αμπατζή Ναυσικά (03117198) - nafsika.abatzi@gmail.com'\n",
        "    'Δήμος Δημήτρης (03117165) - dimitris.dimos647@gmail.com'"
      ]
    },
    {
      "cell_type": "markdown",
      "metadata": {
        "id": "6Rr4syQOebYP"
      },
      "source": [
        "## 1. Θεωρητικό  Μέρος"
      ]
    },
    {
      "cell_type": "markdown",
      "metadata": {
        "id": "MgJK85oGemzT"
      },
      "source": [
        "### Ερώτηση 1: Γιατί και πώς τα συνελικτικά δίκτυα άλλαξαν το τοπίο της παραδοσιακής επεξεργασίας εικόνας;\n",
        "\n",
        "    Απάντηση\n",
        "\n",
        "Η παραδοσιακή επεξεργασία εικόνας χρησιμοποιούσε κατά κόρον τεχνικές εξαγωγής χαρακτηριστικών (interest feature extraction) που παρουσίαζαν κάποιο ενδιαφέρον κι, εν γένει, αναλυτικές προσεγγίσεις προκειμένου να αναπτυχθούν αλγόριθμοι μηχανικής μάθησης. Με την ανάδυση των συνελικτικών νευρωνικών δικτύων, οι προσεγγίσεις αυτές αντικαθίσταται από περισσότερο προσιτές που συμπεριλάμβανουν τροφοδότηση ολόκληρων εικόνων (με κατάλληλη προεπεξεργασία) σε αυτά (τα CNNs). Αυτή η αλλαγή σήμαινε ότι μπορούσαν να διαμορφωθούν αρχιτεκτονικές ικανές να επεξεργαστούν μεγάλο όγκο πληροφορίας χαμηλού επιπέδου, χωρίς να χρειάζεται επιπλέον εξειδίκευση στους αλγορίθμους που χρησιμοποιούνται ανάλογα με το είδος του προβλήματος και των εικόνων εισόδου. Στη συνέχεια, τα CNNs επιτυγχάνουν καλύτερη γενίκευση σε προβλήματα όρασης, μειώνοντας δραματικά τον αριθμό των ελεύθερων παραμέτρων που εκμαθαίνονται, ελαττώνοντας με αυτόν τον τρόπο τις απαιτήσεις σε μνήμη για το \"τρέξιμο\" του δικτύου κι επιτρέποντας την εκπαίδευση μεγαλύτερων, πιο ισχυρών δικτύων. Σε απευθείας σύγκριση με τα απλά feedforward neural networks (που αποτελούνται από περίπου ίσο αριθμό επιπέδων), σημειώνουμε ότι τα συνελικτικά δίκτυα έχουν σημαντικά λιγότερες συνδέσεις (άρα και ελέυθερες παραμέτρους), με συνέπεια να εκπαιδεύονται γρηγορότερα, χωρίς σημαντική πτώση της απόδοσής τους. Τέλος, τα CNNs παρέχουν σημαντική διευκόλυνση ως προς την άντληση, χρήση κι επεξεργασία εικόνων που \"κατεβάζονται\" από το διαδίκτυο ως μαζικό σύνολο δεδομένων. Κι αυτό, διότι μπορούν και αξιοποιούν τις GPU τεχνολογίες και τις τεχνικές γρήγορης υλοποίησης της συνέλιξης δύο διαστάσεων, με αποτέλεσμα να μπορούν να εκπαιδεύονται γρήγορα και αποτελεσματικά πάνω σε μεγάλα databases."
      ]
    },
    {
      "cell_type": "markdown",
      "metadata": {
        "id": "fLmZWVOAPic9"
      },
      "source": [
        "### Ερώτηση 2: Περιγράψτε τη λειτουργία της Rectified Linear Unit (ReLU).\n",
        "\n",
        "    Απάντηση\n",
        "    \n",
        "Η ReLU ορίζεται ως:\n",
        "\n",
        "$$ReLU(x) = max(0,x)$$\n",
        "\n",
        "και χρησιμοποιείται ευρέως ως συνάρτηση ενεργοποίησης σε πολλά νευρωνικά δίκτυα. Πρόκειται για μη γραμμική συνάρτηση που πλεονεκτεί έναντι άλλων συναρτήσεων (επίσης μη γραμμικών) που χρησιμοποιούνται για την ενεργοποίηση των νευρώνων, καθώς επιφέρει γρηγορότερη σύγκλιση των αλγορίθμων εκπαίδευσης, μειώνει την πιθανότητα να συμβεί το φαινόμενο του \"vanishing gradient\" και πετυχαίνει αραιή ενεργοποίηση των νευρώνων. Άλλα χαρακτηριστικά του δικτύου περιλαμβάνουν την - συγκριτικά με άλλες -  εύκολότερη υλοποίηση, το scale invariance και το γεγονός ότι πρόκειται για αναλυτική συνάρτηση που περιλαμβάνει προσθέσεις, συγκρίσεις και πολλαπλασιασμούς."
      ]
    },
    {
      "cell_type": "markdown",
      "metadata": {
        "id": "FXUHIH3kPoj7"
      },
      "source": [
        "### Ερώτηση 3: Παρουσιάστε έναν συγκριτικό πίνακα με τα επίπεδα, το μέγεθος των φίλτρων, συνάρτηση ενεργοποίησης, πλήθος παραμέτρων και τεχνικές pooling και dropout που χρησιμοποιούν τα 3 διαφορετικά δίκτυα που παρουσιάζονται στα προαναφερθέντα άρθρα και σχολιάστε επαρκώς τις διαφορές τους. Ποιά χαρακτηριστικά αυτών των τριών δικτύων είναι κατά τη γνώμη σας αυτά που συνέβαλαν στη σταδιακή αύξηση της ακρίβειας ταξινόμησης;\n",
        "\n",
        "    Απάντηση\n",
        "\n",
        "$$\n",
        "    \\begin{array}\n",
        "                          && VGG & AlexNet                & LeNet \\\\\\hline\n",
        "    \\text{Επίπεδα}              & 16    & 8                     & 7\\\\\n",
        "    \\text{Μέγεθος φίλτρων}        & \\text{3x3x3} \\text{ kernel-sized filters} & \\text{3x3x3, 5x5x3, 11x11x3} \\text{ kernel-sized filters} & \\text{5x5x3} \\text{ kernel-sized filters}\\\\\n",
        "    \\text{Συνάρτηση ενεργοποίησης}   & ReLU, Softmax & ReLU & Sigmoid \\\\\n",
        "    \\text{Πλήθος παραμέτρων}      & 138 million & 62 million & 3246 \\\\\n",
        "    \\text{Τεχνικές pooling}        & \\text{max-pooling of size 2x2 with strides of 2} & \\text{max-pooling of size 3x3 with a stride of 2} & \\text{average-pooling of size 2x2 with a stride of 2} \\\\\n",
        "    \\text{Τεχνικές dropout}        & - & Yes (p=50\\%) & -\n",
        "    \\end{array}\n",
        "$$\n",
        "\n",
        "Στη συνέχεια σχολιάζουμε τις διαφορές των δικτύων:\n",
        "\n",
        "Αρχίζοντας από το Lenet δίκτυο, παρατηρούμε ότι έχει τον μικρότερο αριθμό επιπέδων και τις λιγότερες (με διαφορά) παραμέτρους. Είναι το μόνο εκ των τριών που χρησιμοποιεί την σιγμοειδή συνάρτηση έναντι της ReLU και χρησιμοποιεί την τεχνική average-polling αντί για max-pooling. Η δομή του είναι εν γένει πιο απλή σε σχέση με τα άλλα δύο δίκτυα. Συνεχίζοντας στο AlexNet δίκτυο, βλέπουμε ότι χρησιμοποιεί τα μεγαλύτερα σε διάσταση φίλτρα και είναι το μόνο που χρησιμοποιεί τριών διαστάσεων φίλτρα ανα επίπεδο. Επιπλέον, ανάμεσα στα τρία CNNs, μόνο αυτό χρησιμοποιεί dropout για αποφυγή του overfitting. Όσον αφορά το VGG δίκτυο, αυτό έχει το μεγαλύτερο βάθος, έχοντας πολλά επίπεδα και εκατομμύρια παραμέτρους. Φυσικά, ως άμεση συνέπεια απορρέει η βραδεία εκπαίδευσή του (όπως βλέπουμε και κατά τη διάρκεια της εκπαίδευσής του στο εργαστηριακό μέρος). Τέλος, ανάμεσα στα τρία CNNs είναι το μόνο που χρησιμοποιεί στο τελευταίο του επίπεδο τη συνάρτηση ενεργοποίησης Softmax.\n",
        "\n",
        "Η σταδιακή αύξηση της ακρίβειας ταξινόμησης οφείλεται, καταρχάς, στη χρήση συναρτήσεων ενεργοποίησης (εξ αιτίας των οποίων η εκπαίδευση παύει να είναι γραμμική διαδικασία). Επιπλέον, η αξιοποίηση πολλαπλών επιπέδων εκπαίδευσης καθιστά πιο εύκολη τη διαδικασία εκπαίδευσης, καθώς μπορούμε και εισάγουμε απευθείας ολόκληρες εικόνες, οι οποίες \"αποσυντίθενται\" εντός του νευρωνικού σε επιμέρους features και εξυπηρετούν classification tasks. Όπως επισημάνθηκε και σε προηγούμενη ερώτηση, τα CNNs έχουν χαμηλό αριθμό παραμέτρων προς εκμάθηση και μπορούν και αξιοποιούν τις τεχνολογίες GPU. Τέλος, η σταδιακή αύξηση της ακρίβειας ταξινόμησης οφείλεται και σε ένα επιπλέον χαρακτηριστικό των τριών εν λόγω δικτύων: η εύκολη αλλαγή των δομικών παραμέτρων τους (επίπεδα, αριθμός νευρώνων) και η χρήση τεχνικών pooling και dropout που αποσκοπούν στην αντιμετώπιση του overfitting και του vanishing gradient."
      ]
    },
    {
      "cell_type": "markdown",
      "metadata": {
        "id": "2Pgj4APrenCu"
      },
      "source": [
        "## 2. Εργαστηρικό Μέρος"
      ]
    },
    {
      "cell_type": "markdown",
      "metadata": {
        "id": "DfEMjsB4Yurm"
      },
      "source": [
        "## Εισαγωγή και επισκόπηση του συνόλου δεδομένων\n",
        "\n",
        "\n"
      ]
    },
    {
      "cell_type": "code",
      "metadata": {
        "id": "STXQMBuN3nZ6"
      },
      "source": [
        "from __future__ import absolute_import, division, print_function, unicode_literals # legacy compatibility\n",
        "\n",
        "import numpy as np\n",
        "import pandas as pd\n",
        "import matplotlib.pyplot as plt"
      ],
      "execution_count": null,
      "outputs": []
    },
    {
      "cell_type": "code",
      "metadata": {
        "id": "2WSEGPI9Q7tW"
      },
      "source": [
        "# helper functions\n",
        "\n",
        "# select from from_list elements with index in index_list\n",
        "def select_from_list(from_list, index_list):\n",
        "  filtered_list= [from_list[i] for i in index_list]\n",
        "  return(filtered_list)\n",
        "\n",
        "# append in filtered_list the index of each element of unfilterd_list if it exists in in target_list\n",
        "def get_ds_index(unfiliterd_list, target_list):\n",
        "  index = 0\n",
        "  filtered_list=[]\n",
        "  for i_ in unfiliterd_list:\n",
        "    if i_[0] in target_list:\n",
        "      filtered_list.append(index)\n",
        "    index += 1\n",
        "  return(filtered_list)\n"
      ],
      "execution_count": null,
      "outputs": []
    },
    {
      "cell_type": "code",
      "metadata": {
        "id": "OCW71UaGzz0Q"
      },
      "source": [
        "# load the entire dataset\n",
        "import tensorflow as tf\n",
        "from tensorflow.keras import datasets, layers, models\n",
        "\n",
        "(x_train_all, y_train_all), (x_test_all, y_test_all) = tf.keras.datasets.cifar100.load_data(label_mode='fine')"
      ],
      "execution_count": null,
      "outputs": []
    },
    {
      "cell_type": "code",
      "metadata": {
        "colab": {
          "base_uri": "https://localhost:8080/"
        },
        "id": "kGKYHffEE1do",
        "outputId": "4c468b21-deb2-49a2-a14d-5b1cb1638d80"
      },
      "source": [
        "print(x_train_all.shape)"
      ],
      "execution_count": null,
      "outputs": [
        {
          "output_type": "stream",
          "text": [
            "(50000, 32, 32, 3)\n"
          ],
          "name": "stdout"
        }
      ]
    },
    {
      "cell_type": "markdown",
      "metadata": {
        "id": "9PO9wIwYUf0R"
      },
      "source": [
        "Η κάθε ομάδα θα δουλέψει με διαφορετικό υποσύνολο του dataset.\n",
        "Στο επόμενο κελί, αντικαταστήστε την τιμή της μεταβλητής `team_seed` με τον αριθμό που αντιστοιχεί στην ομάδας σας. "
      ]
    },
    {
      "cell_type": "code",
      "metadata": {
        "id": "NN0kEze7uZ_G"
      },
      "source": [
        "# REPLACE WITH YOUR TEAM NUMBER (16)\n",
        "team_seed = 16"
      ],
      "execution_count": null,
      "outputs": []
    },
    {
      "cell_type": "code",
      "metadata": {
        "id": "RhbZJW6PxUDJ"
      },
      "source": [
        "# select from CIFAR100 20 classes\n",
        "cifar100_classes_url = \"https://pastebin.com/raw/nzE1n98V\"\n",
        "classes_num = 20"
      ],
      "execution_count": null,
      "outputs": []
    },
    {
      "cell_type": "markdown",
      "metadata": {
        "id": "yO9f6wb0Wi0H"
      },
      "source": [
        "Δημιουργούμε το μοναδικό dataset της ομάδας μας:"
      ]
    },
    {
      "cell_type": "code",
      "metadata": {
        "id": "PgIN2h_KuCp_"
      },
      "source": [
        "team_classes = pd.read_csv(cifar100_classes_url, sep=',', header=None)\n",
        "CIFAR100_LABELS_LIST = pd.read_csv('https://pastebin.com/raw/qgDaNggt', sep=',', header=None).astype(str).values.tolist()[0]\n",
        "\n",
        "our_index = team_classes.iloc[team_seed,:].values.tolist()\n",
        "our_classes = select_from_list(CIFAR100_LABELS_LIST, our_index)\n",
        "train_index = get_ds_index(y_train_all, our_index)\n",
        "test_index = get_ds_index(y_test_all, our_index)\n",
        "\n",
        "x_train_ds = np.asarray(select_from_list(x_train_all, train_index))\n",
        "y_train_ds = np.asarray(select_from_list(y_train_all, train_index))\n",
        "x_test_ds = np.asarray(select_from_list(x_test_all, test_index))\n",
        "y_test_ds = np.asarray(select_from_list(y_test_all, test_index))"
      ],
      "execution_count": null,
      "outputs": []
    },
    {
      "cell_type": "code",
      "metadata": {
        "colab": {
          "base_uri": "https://localhost:8080/"
        },
        "id": "_B4-tvVOQq3j",
        "outputId": "3967112e-3dd7-4b98-c009-2a4b96de4734"
      },
      "source": [
        "# print our classes\n",
        "print(our_classes)"
      ],
      "execution_count": null,
      "outputs": [
        {
          "output_type": "stream",
          "text": [
            "[' aquarium_fish', ' beaver', ' bed', ' bottle', ' boy', ' bridge', ' bus', ' camel', ' caterpillar', ' cockroach', ' crab', ' fox', ' lawn_mower', ' mountain', ' oak_tree', ' poppy', ' porcupine', ' possum', ' raccoon', ' rocket']\n"
          ],
          "name": "stdout"
        }
      ]
    },
    {
      "cell_type": "code",
      "metadata": {
        "colab": {
          "base_uri": "https://localhost:8080/"
        },
        "id": "bk5wy0u7GGMj",
        "outputId": "7b27e6b8-08f5-41ca-803a-4ae97e1924f5"
      },
      "source": [
        "print(x_train_ds[1].shape)"
      ],
      "execution_count": null,
      "outputs": [
        {
          "output_type": "stream",
          "text": [
            "(32, 32, 3)\n"
          ],
          "name": "stdout"
        }
      ]
    },
    {
      "cell_type": "code",
      "metadata": {
        "colab": {
          "base_uri": "https://localhost:8080/",
          "height": 444
        },
        "id": "QpGXgTs_5ZCk",
        "outputId": "402515f0-e667-4975-b209-214f10e475ff"
      },
      "source": [
        "# get (train) dataset dimensions\n",
        "data_size, img_rows, img_cols, img_channels = x_train_ds.shape\n",
        "\n",
        "# set validation set percentage (wrt the training set size)\n",
        "validation_percentage = 0.15\n",
        "val_size = round(validation_percentage * data_size)\n",
        "\n",
        "# Reserve val_size samples for validation and normalize all values\n",
        "x_val = x_train_ds[-val_size:]/255\n",
        "y_val = y_train_ds[-val_size:]\n",
        "x_train = x_train_ds[:-val_size]/255\n",
        "y_train = y_train_ds[:-val_size]\n",
        "x_test = x_test_ds/255\n",
        "y_test = y_test_ds\n",
        "\n",
        "# summarize loaded dataset\n",
        "print('Train: X=%s, y=%s' % (x_train.shape, y_train.shape))\n",
        "print('Validation: X=%s, y=%s' % (x_val.shape, y_val.shape))\n",
        "print('Test: X=%s, y=%s' % (x_test.shape, y_test.shape))\n",
        "\n",
        "# get class label from class index\n",
        "def class_label_from_index(fine_category):\n",
        "  return(CIFAR100_LABELS_LIST[fine_category.item(0)])\n",
        "\n",
        "# plot first few images\n",
        "plt.figure(figsize=(6, 6))\n",
        "for i in range(9):\n",
        "\t# define subplot\n",
        "  plt.subplot(330 + 1 + i).set_title(class_label_from_index(y_train[i]))\n",
        "\t# plot raw pixel data\n",
        "  plt.imshow(x_train[i], cmap=plt.get_cmap('gray'))\n",
        "  #show the figure\n",
        "plt.show()"
      ],
      "execution_count": null,
      "outputs": [
        {
          "output_type": "stream",
          "text": [
            "Train: X=(8500, 32, 32, 3), y=(8500, 1)\n",
            "Validation: X=(1500, 32, 32, 3), y=(1500, 1)\n",
            "Test: X=(2000, 32, 32, 3), y=(2000, 1)\n"
          ],
          "name": "stdout"
        },
        {
          "output_type": "display_data",
          "data": {
            "image/png": "[encoded data removed]",
            "text/plain": [
              "<Figure size 432x432 with 9 Axes>"
            ]
          },
          "metadata": {
            "tags": [],
            "needs_background": "light"
          }
        }
      ]
    },
    {
      "cell_type": "code",
      "metadata": {
        "id": "iUwyFE7tF_gs"
      },
      "source": [
        "# We have to map our classes [0, num_classes-1] -> [0,19]\n",
        "def mapping(array,di): \n",
        "    return [di[x] for x in array]\n",
        "\n",
        "def dict_mapp(array):\n",
        "    dictionary = {}\n",
        "    i = 0\n",
        "    for label in array:\n",
        "        if label not in dictionary.keys():\n",
        "            dictionary[label] = i\n",
        "            i+=1\n",
        "    return dictionary\n",
        "\n"
      ],
      "execution_count": null,
      "outputs": []
    },
    {
      "cell_type": "code",
      "metadata": {
        "id": "Qx_QXYBrF_gs"
      },
      "source": [
        "label_dictionary = dict_mapp(y_train.reshape(1,-1)[0])\n",
        "# Apply Mapping\n",
        "y_train = mapping(y_train.reshape(1,-1)[0], label_dictionary)\n",
        "y_test = mapping(y_test.reshape(1,-1)[0], label_dictionary)\n",
        "y_val = mapping(y_val.reshape(1,-1)[0], label_dictionary)\n",
        "\n",
        "\n",
        "y_train = np.array([[i] for i in y_train])\n",
        "y_test = np.array([[i] for i in y_test])\n",
        "y_val = np.array([[i] for i in y_val])"
      ],
      "execution_count": null,
      "outputs": []
    },
    {
      "cell_type": "markdown",
      "metadata": {
        "id": "EO_hqB4eF_gt"
      },
      "source": [
        "## Ερώτημα 1"
      ]
    },
    {
      "cell_type": "markdown",
      "metadata": {
        "id": "dZD_dI8bF_gt"
      },
      "source": [
        "### Σχεδίαση, μεταγλώττιση και εκπαίδευση των μοντέλων"
      ]
    },
    {
      "cell_type": "markdown",
      "metadata": {
        "id": "nmc4Ev3-F_gt"
      },
      "source": [
        " 1. Σχεδίαστε, μεταγλωττίστε και εκπαιδεύστε τα μοντέλα  **LeNet, AlexNet και  VGG**, καθώς και ένα δικό σας μοντέλο (ονομάστε το π.χ. **MyCNN**) χρησιμοποιώντας διαφορετικούς συνδυασμούς (τουλάχιστον 2 ανά μοντέλο) για [optimizer](https://keras.io/api/optimizers/), [loss](https://keras.io/api/losses/), batch size και epoch.  Για [metrics](https://keras.io/api/metrics/) να χρησιμοποιήσετε την ορθότητα (όπως στο Lab9.1)."
      ]
    },
    {
      "cell_type": "markdown",
      "metadata": {
        "id": "k5XJfJgdF_gt"
      },
      "source": [
        "####**Μοντέλο1: LeNet** "
      ]
    },
    {
      "cell_type": "code",
      "metadata": {
        "id": "X7ZyzczXF_gt"
      },
      "source": [
        "# CONV(32, 3), SIGMOID, POOL(2), CONV(32,3), SIGMOID, POOL(2), FC(512, SIGMOID, FC(200),SOFTMAX\n",
        "LeNet_1 = models.Sequential()\n",
        "LeNet_1.add(layers.Conv2D(32, (3, 3), activation='sigmoid', input_shape=(32, 32, 3)))\n",
        "LeNet_1.add(layers.MaxPooling2D((2, 2)))\n",
        "LeNet_1.add(layers.Conv2D(32, (3, 3), activation='sigmoid'))\n",
        "LeNet_1.add(layers.MaxPooling2D((2, 2)))\n",
        "\n",
        "LeNet_1.add(layers.Flatten())\n",
        "\n",
        "LeNet_1.add(layers.Dense(512, activation='sigmoid'))\n",
        "LeNet_1.add(layers.Dense(200, activation='sigmoid'))\n",
        "LeNet_1.add(layers.Dense(20, activation='softmax'))\n",
        "LeNet_1.compile(optimizer='adam', loss= tf.keras.losses.sparse_categorical_crossentropy, metrics=[\"accuracy\"])"
      ],
      "execution_count": null,
      "outputs": []
    },
    {
      "cell_type": "code",
      "metadata": {
        "colab": {
          "base_uri": "https://localhost:8080/"
        },
        "id": "AzsaPptUF_gu",
        "outputId": "f5a3107a-0410-4a3f-9030-1cdd9056300a"
      },
      "source": [
        "# LeNet using Adam Optimizer \n",
        "LeNet_1.summary()"
      ],
      "execution_count": null,
      "outputs": [
        {
          "output_type": "stream",
          "text": [
            "Model: \"sequential_6\"\n",
            "_________________________________________________________________\n",
            "Layer (type)                 Output Shape              Param #   \n",
            "=================================================================\n",
            "conv2d_30 (Conv2D)           (None, 30, 30, 32)        896       \n",
            "_________________________________________________________________\n",
            "max_pooling2d_18 (MaxPooling (None, 15, 15, 32)        0         \n",
            "_________________________________________________________________\n",
            "conv2d_31 (Conv2D)           (None, 13, 13, 32)        9248      \n",
            "_________________________________________________________________\n",
            "max_pooling2d_19 (MaxPooling (None, 6, 6, 32)          0         \n",
            "_________________________________________________________________\n",
            "flatten_6 (Flatten)          (None, 1152)              0         \n",
            "_________________________________________________________________\n",
            "dense_16 (Dense)             (None, 512)               590336    \n",
            "_________________________________________________________________\n",
            "dense_17 (Dense)             (None, 200)               102600    \n",
            "_________________________________________________________________\n",
            "dense_18 (Dense)             (None, 20)                4020      \n",
            "=================================================================\n",
            "Total params: 707,100\n",
            "Trainable params: 707,100\n",
            "Non-trainable params: 0\n",
            "_________________________________________________________________\n"
          ],
          "name": "stdout"
        }
      ]
    },
    {
      "cell_type": "code",
      "metadata": {
        "colab": {
          "base_uri": "https://localhost:8080/"
        },
        "id": "MR1d7NGtF_gu",
        "outputId": "19a68eaf-fe9d-40bb-d170-69126bc466d2"
      },
      "source": [
        "# 20 epochs, batch_size = 64\n",
        "history1 = LeNet_1.fit(x_train, y_train, epochs=20, batch_size=64, validation_data=(x_val, y_val))\n",
        "LeNet_1.save('LeNet_1.h5')"
      ],
      "execution_count": null,
      "outputs": [
        {
          "output_type": "stream",
          "text": [
            "Epoch 1/20\n",
            "133/133 [==============================] - 1s 7ms/step - loss: 3.0287 - accuracy: 0.0525 - val_loss: 3.0014 - val_accuracy: 0.0427\n",
            "Epoch 2/20\n",
            "133/133 [==============================] - 1s 4ms/step - loss: 2.8494 - accuracy: 0.1189 - val_loss: 2.6513 - val_accuracy: 0.2040\n",
            "Epoch 3/20\n",
            "133/133 [==============================] - 1s 4ms/step - loss: 2.5639 - accuracy: 0.2140 - val_loss: 2.5685 - val_accuracy: 0.2140\n",
            "Epoch 4/20\n",
            "133/133 [==============================] - 1s 4ms/step - loss: 2.4792 - accuracy: 0.2394 - val_loss: 2.4737 - val_accuracy: 0.2500\n",
            "Epoch 5/20\n",
            "133/133 [==============================] - 1s 4ms/step - loss: 2.4259 - accuracy: 0.2605 - val_loss: 2.4431 - val_accuracy: 0.2513\n",
            "Epoch 6/20\n",
            "133/133 [==============================] - 1s 4ms/step - loss: 2.3516 - accuracy: 0.2734 - val_loss: 2.3337 - val_accuracy: 0.2800\n",
            "Epoch 7/20\n",
            "133/133 [==============================] - 1s 4ms/step - loss: 2.2435 - accuracy: 0.3073 - val_loss: 2.2176 - val_accuracy: 0.3193\n",
            "Epoch 8/20\n",
            "133/133 [==============================] - 1s 4ms/step - loss: 2.1399 - accuracy: 0.3404 - val_loss: 2.1424 - val_accuracy: 0.3420\n",
            "Epoch 9/20\n",
            "133/133 [==============================] - 1s 4ms/step - loss: 2.0710 - accuracy: 0.3564 - val_loss: 2.1202 - val_accuracy: 0.3413\n",
            "Epoch 10/20\n",
            "133/133 [==============================] - 1s 4ms/step - loss: 2.0215 - accuracy: 0.3707 - val_loss: 2.0753 - val_accuracy: 0.3593\n",
            "Epoch 11/20\n",
            "133/133 [==============================] - 1s 4ms/step - loss: 1.9601 - accuracy: 0.3901 - val_loss: 2.0364 - val_accuracy: 0.3733\n",
            "Epoch 12/20\n",
            "133/133 [==============================] - 1s 4ms/step - loss: 1.9330 - accuracy: 0.4021 - val_loss: 2.0269 - val_accuracy: 0.3860\n",
            "Epoch 13/20\n",
            "133/133 [==============================] - 1s 4ms/step - loss: 1.8823 - accuracy: 0.4174 - val_loss: 2.0431 - val_accuracy: 0.3747\n",
            "Epoch 14/20\n",
            "133/133 [==============================] - 1s 4ms/step - loss: 1.8449 - accuracy: 0.4227 - val_loss: 1.9819 - val_accuracy: 0.3867\n",
            "Epoch 15/20\n",
            "133/133 [==============================] - 1s 4ms/step - loss: 1.8186 - accuracy: 0.4336 - val_loss: 1.9769 - val_accuracy: 0.3980\n",
            "Epoch 16/20\n",
            "133/133 [==============================] - 1s 4ms/step - loss: 1.7804 - accuracy: 0.4444 - val_loss: 1.9205 - val_accuracy: 0.4047\n",
            "Epoch 17/20\n",
            "133/133 [==============================] - 1s 4ms/step - loss: 1.7334 - accuracy: 0.4586 - val_loss: 1.8976 - val_accuracy: 0.4213\n",
            "Epoch 18/20\n",
            "133/133 [==============================] - 1s 4ms/step - loss: 1.6847 - accuracy: 0.4700 - val_loss: 1.9147 - val_accuracy: 0.4140\n",
            "Epoch 19/20\n",
            "133/133 [==============================] - 1s 4ms/step - loss: 1.6550 - accuracy: 0.4833 - val_loss: 1.8856 - val_accuracy: 0.4213\n",
            "Epoch 20/20\n",
            "133/133 [==============================] - 1s 4ms/step - loss: 1.6260 - accuracy: 0.4889 - val_loss: 1.8689 - val_accuracy: 0.4347\n"
          ],
          "name": "stdout"
        }
      ]
    },
    {
      "cell_type": "code",
      "metadata": {
        "id": "TTF-vFo4F_gu"
      },
      "source": [
        "# LeNet using Stochastic Gradient Descent Optimizer\n",
        "# CONV(32, 3), SIGMOID, POOL(2), CONV(32,3), SIGMOID, POOL(2), FC(512, SIGMOID, FC(200),SOFTMAX\n",
        "LeNet_2 = models.Sequential()\n",
        "LeNet_2.add(layers.Conv2D(32, (3, 3), activation='sigmoid', input_shape=(32, 32, 3)))\n",
        "LeNet_2.add(layers.MaxPooling2D((2, 2)))\n",
        "LeNet_2.add(layers.Conv2D(32, (3, 3), activation='sigmoid'))\n",
        "LeNet_2.add(layers.MaxPooling2D((2, 2)))\n",
        "\n",
        "LeNet_2.add(layers.Flatten())\n",
        "\n",
        "LeNet_2.add(layers.Dense(512, activation='sigmoid'))\n",
        "LeNet_2.add(layers.Dense(200, activation='sigmoid'))\n",
        "LeNet_2.add(layers.Dense(20, activation='softmax'))\n",
        "LeNet_2.compile(optimizer='sgd', loss= tf.keras.losses.sparse_categorical_crossentropy, metrics=[\"accuracy\"])"
      ],
      "execution_count": null,
      "outputs": []
    },
    {
      "cell_type": "code",
      "metadata": {
        "colab": {
          "base_uri": "https://localhost:8080/"
        },
        "id": "t7awBkFsF_gu",
        "outputId": "c19abefa-80e4-47ef-8368-e8e79fb97d73"
      },
      "source": [
        "LeNet_2.summary()"
      ],
      "execution_count": null,
      "outputs": [
        {
          "output_type": "stream",
          "text": [
            "Model: \"sequential_7\"\n",
            "_________________________________________________________________\n",
            "Layer (type)                 Output Shape              Param #   \n",
            "=================================================================\n",
            "conv2d_32 (Conv2D)           (None, 30, 30, 32)        896       \n",
            "_________________________________________________________________\n",
            "max_pooling2d_20 (MaxPooling (None, 15, 15, 32)        0         \n",
            "_________________________________________________________________\n",
            "conv2d_33 (Conv2D)           (None, 13, 13, 32)        9248      \n",
            "_________________________________________________________________\n",
            "max_pooling2d_21 (MaxPooling (None, 6, 6, 32)          0         \n",
            "_________________________________________________________________\n",
            "flatten_7 (Flatten)          (None, 1152)              0         \n",
            "_________________________________________________________________\n",
            "dense_19 (Dense)             (None, 512)               590336    \n",
            "_________________________________________________________________\n",
            "dense_20 (Dense)             (None, 200)               102600    \n",
            "_________________________________________________________________\n",
            "dense_21 (Dense)             (None, 20)                4020      \n",
            "=================================================================\n",
            "Total params: 707,100\n",
            "Trainable params: 707,100\n",
            "Non-trainable params: 0\n",
            "_________________________________________________________________\n"
          ],
          "name": "stdout"
        }
      ]
    },
    {
      "cell_type": "code",
      "metadata": {
        "colab": {
          "base_uri": "https://localhost:8080/"
        },
        "id": "E8ss00a1F_gv",
        "outputId": "edbc9121-5197-4911-dc07-89d7f391fd58"
      },
      "source": [
        "# 40 epochs, batch_size = 128\n",
        "history2 = LeNet_2.fit(x_train, y_train, epochs=40, batch_size=128, validation_data=(x_val, y_val))\n",
        "LeNet_2.save('LeNet_2.h5')"
      ],
      "execution_count": null,
      "outputs": [
        {
          "output_type": "stream",
          "text": [
            "Epoch 1/40\n",
            "67/67 [==============================] - 1s 10ms/step - loss: 3.0375 - accuracy: 0.0471 - val_loss: 2.9977 - val_accuracy: 0.0620\n",
            "Epoch 2/40\n",
            "67/67 [==============================] - 0s 6ms/step - loss: 2.9980 - accuracy: 0.0484 - val_loss: 2.9977 - val_accuracy: 0.0533\n",
            "Epoch 3/40\n",
            "67/67 [==============================] - 0s 6ms/step - loss: 2.9976 - accuracy: 0.0473 - val_loss: 2.9997 - val_accuracy: 0.0387\n",
            "Epoch 4/40\n",
            "67/67 [==============================] - 0s 6ms/step - loss: 2.9977 - accuracy: 0.0441 - val_loss: 2.9981 - val_accuracy: 0.0420\n",
            "Epoch 5/40\n",
            "67/67 [==============================] - 0s 6ms/step - loss: 2.9975 - accuracy: 0.0445 - val_loss: 2.9967 - val_accuracy: 0.0553\n",
            "Epoch 6/40\n",
            "67/67 [==============================] - 0s 6ms/step - loss: 2.9977 - accuracy: 0.0501 - val_loss: 2.9991 - val_accuracy: 0.0533\n",
            "Epoch 7/40\n",
            "67/67 [==============================] - 0s 6ms/step - loss: 2.9975 - accuracy: 0.0465 - val_loss: 2.9997 - val_accuracy: 0.0380\n",
            "Epoch 8/40\n",
            "67/67 [==============================] - 0s 6ms/step - loss: 2.9974 - accuracy: 0.0493 - val_loss: 2.9977 - val_accuracy: 0.0500\n",
            "Epoch 9/40\n",
            "67/67 [==============================] - 0s 6ms/step - loss: 2.9978 - accuracy: 0.0459 - val_loss: 2.9971 - val_accuracy: 0.0427\n",
            "Epoch 10/40\n",
            "67/67 [==============================] - 0s 6ms/step - loss: 2.9973 - accuracy: 0.0468 - val_loss: 2.9982 - val_accuracy: 0.0460\n",
            "Epoch 11/40\n",
            "67/67 [==============================] - 0s 6ms/step - loss: 2.9972 - accuracy: 0.0484 - val_loss: 2.9974 - val_accuracy: 0.0487\n",
            "Epoch 12/40\n",
            "67/67 [==============================] - 0s 6ms/step - loss: 2.9974 - accuracy: 0.0487 - val_loss: 2.9991 - val_accuracy: 0.0387\n",
            "Epoch 13/40\n",
            "67/67 [==============================] - 0s 6ms/step - loss: 2.9976 - accuracy: 0.0504 - val_loss: 2.9985 - val_accuracy: 0.0420\n",
            "Epoch 14/40\n",
            "67/67 [==============================] - 0s 6ms/step - loss: 2.9975 - accuracy: 0.0487 - val_loss: 2.9992 - val_accuracy: 0.0500\n",
            "Epoch 15/40\n",
            "67/67 [==============================] - 0s 6ms/step - loss: 2.9977 - accuracy: 0.0473 - val_loss: 2.9985 - val_accuracy: 0.0500\n",
            "Epoch 16/40\n",
            "67/67 [==============================] - 0s 6ms/step - loss: 2.9972 - accuracy: 0.0496 - val_loss: 2.9979 - val_accuracy: 0.0493\n",
            "Epoch 17/40\n",
            "67/67 [==============================] - 0s 6ms/step - loss: 2.9973 - accuracy: 0.0473 - val_loss: 2.9974 - val_accuracy: 0.0433\n",
            "Epoch 18/40\n",
            "67/67 [==============================] - 0s 6ms/step - loss: 2.9974 - accuracy: 0.0499 - val_loss: 2.9978 - val_accuracy: 0.0500\n",
            "Epoch 19/40\n",
            "67/67 [==============================] - 0s 6ms/step - loss: 2.9973 - accuracy: 0.0484 - val_loss: 2.9998 - val_accuracy: 0.0427\n",
            "Epoch 20/40\n",
            "67/67 [==============================] - 0s 6ms/step - loss: 2.9977 - accuracy: 0.0491 - val_loss: 2.9990 - val_accuracy: 0.0460\n",
            "Epoch 21/40\n",
            "67/67 [==============================] - 0s 6ms/step - loss: 2.9974 - accuracy: 0.0414 - val_loss: 3.0001 - val_accuracy: 0.0387\n",
            "Epoch 22/40\n",
            "67/67 [==============================] - 0s 6ms/step - loss: 2.9975 - accuracy: 0.0481 - val_loss: 2.9989 - val_accuracy: 0.0433\n",
            "Epoch 23/40\n",
            "67/67 [==============================] - 0s 6ms/step - loss: 2.9972 - accuracy: 0.0496 - val_loss: 2.9976 - val_accuracy: 0.0433\n",
            "Epoch 24/40\n",
            "67/67 [==============================] - 0s 6ms/step - loss: 2.9974 - accuracy: 0.0487 - val_loss: 2.9985 - val_accuracy: 0.0433\n",
            "Epoch 25/40\n",
            "67/67 [==============================] - 0s 6ms/step - loss: 2.9972 - accuracy: 0.0475 - val_loss: 3.0008 - val_accuracy: 0.0427\n",
            "Epoch 26/40\n",
            "67/67 [==============================] - 0s 6ms/step - loss: 2.9975 - accuracy: 0.0509 - val_loss: 2.9975 - val_accuracy: 0.0500\n",
            "Epoch 27/40\n",
            "67/67 [==============================] - 0s 6ms/step - loss: 2.9972 - accuracy: 0.0493 - val_loss: 2.9985 - val_accuracy: 0.0420\n",
            "Epoch 28/40\n",
            "67/67 [==============================] - 0s 6ms/step - loss: 2.9974 - accuracy: 0.0502 - val_loss: 2.9990 - val_accuracy: 0.0387\n",
            "Epoch 29/40\n",
            "67/67 [==============================] - 0s 6ms/step - loss: 2.9974 - accuracy: 0.0461 - val_loss: 2.9985 - val_accuracy: 0.0420\n",
            "Epoch 30/40\n",
            "67/67 [==============================] - 0s 6ms/step - loss: 2.9973 - accuracy: 0.0493 - val_loss: 2.9990 - val_accuracy: 0.0387\n",
            "Epoch 31/40\n",
            "67/67 [==============================] - 0s 6ms/step - loss: 2.9974 - accuracy: 0.0438 - val_loss: 2.9986 - val_accuracy: 0.0420\n",
            "Epoch 32/40\n",
            "67/67 [==============================] - 0s 6ms/step - loss: 2.9972 - accuracy: 0.0485 - val_loss: 2.9988 - val_accuracy: 0.0387\n",
            "Epoch 33/40\n",
            "67/67 [==============================] - 0s 6ms/step - loss: 2.9975 - accuracy: 0.0484 - val_loss: 2.9977 - val_accuracy: 0.0513\n",
            "Epoch 34/40\n",
            "67/67 [==============================] - 0s 6ms/step - loss: 2.9973 - accuracy: 0.0507 - val_loss: 2.9975 - val_accuracy: 0.0420\n",
            "Epoch 35/40\n",
            "67/67 [==============================] - 0s 6ms/step - loss: 2.9972 - accuracy: 0.0485 - val_loss: 2.9983 - val_accuracy: 0.0460\n",
            "Epoch 36/40\n",
            "67/67 [==============================] - 0s 6ms/step - loss: 2.9975 - accuracy: 0.0494 - val_loss: 2.9974 - val_accuracy: 0.0473\n",
            "Epoch 37/40\n",
            "67/67 [==============================] - 0s 6ms/step - loss: 2.9973 - accuracy: 0.0485 - val_loss: 2.9980 - val_accuracy: 0.0473\n",
            "Epoch 38/40\n",
            "67/67 [==============================] - 0s 6ms/step - loss: 2.9973 - accuracy: 0.0456 - val_loss: 2.9976 - val_accuracy: 0.0420\n",
            "Epoch 39/40\n",
            "67/67 [==============================] - 0s 6ms/step - loss: 2.9973 - accuracy: 0.0467 - val_loss: 2.9988 - val_accuracy: 0.0387\n",
            "Epoch 40/40\n",
            "67/67 [==============================] - 0s 6ms/step - loss: 2.9973 - accuracy: 0.0441 - val_loss: 2.9996 - val_accuracy: 0.0513\n"
          ],
          "name": "stdout"
        }
      ]
    },
    {
      "cell_type": "markdown",
      "metadata": {
        "id": "YP3tD-vJF_gv"
      },
      "source": [
        "Από τις παραπάνω διαδικασίες, παρατηρούμε ότι ο Adam Optimizer έχει καλύτερα αποτελέσματα σε σχέση με τον Stochastic Gradient Descent Optimizer. Αυτό φαίνεται καθώς ο πρώτος επιφέρει καλύτερα αποτελέσματα χρησιμοποιώντας λιγότερες εποχές εκπαίδευσης (τις μισές εδώ)."
      ]
    },
    {
      "cell_type": "markdown",
      "metadata": {
        "id": "T-Jamf3UF_gv"
      },
      "source": [
        "####**Μοντέλο2: AlexNet**"
      ]
    },
    {
      "cell_type": "code",
      "metadata": {
        "id": "EIucE56hF_gv"
      },
      "source": [
        "# AlexNet using Adam Optimizer \n",
        "\n",
        "AlexNet_1 = models.Sequential()\n",
        "AlexNet_1.add(layers.experimental.preprocessing.Resizing(224, 224, interpolation=\"bilinear\", input_shape=x_train.shape[1:]))\n",
        "AlexNet_1.add(layers.Conv2D(96, 11, strides=4, padding='same'))\n",
        "AlexNet_1.add(tf.keras.layers.BatchNormalization(momentum=0.8))\n",
        "AlexNet_1.add(layers.Lambda(tf.nn.local_response_normalization))\n",
        "AlexNet_1.add(layers.Activation('relu'))\n",
        "AlexNet_1.add(layers.MaxPooling2D(3, strides=2))\n",
        "AlexNet_1.add(layers.Conv2D(256, 5, strides=4, padding='same'))\n",
        "AlexNet_1.add(tf.keras.layers.BatchNormalization(momentum=0.8))\n",
        "AlexNet_1.add(layers.Lambda(tf.nn.local_response_normalization))\n",
        "AlexNet_1.add(layers.Activation('relu'))\n",
        "AlexNet_1.add(layers.MaxPooling2D(3, strides=2))\n",
        "AlexNet_1.add(layers.Conv2D(384, 3, strides=4, padding='same'))\n",
        "AlexNet_1.add(tf.keras.layers.BatchNormalization(momentum=0.8))\n",
        "AlexNet_1.add(layers.Activation('relu'))\n",
        "AlexNet_1.add(layers.Conv2D(384, 3, strides=4, padding='same'))\n",
        "AlexNet_1.add(tf.keras.layers.BatchNormalization(momentum=0.8))\n",
        "AlexNet_1.add(layers.Activation('relu'))\n",
        "AlexNet_1.add(layers.Conv2D(256, 3, strides=4, padding='same'))\n",
        "AlexNet_1.add(tf.keras.layers.BatchNormalization(momentum=0.8))\n",
        "AlexNet_1.add(layers.Activation('relu'))\n",
        "AlexNet_1.add(layers.Flatten())\n",
        "AlexNet_1.add(layers.Dense(4096, activation='relu'))\n",
        "AlexNet_1.add(layers.Dropout(0.5))\n",
        "AlexNet_1.add(layers.Dense(4096, activation='relu'))\n",
        "AlexNet_1.add(layers.Dropout(0.5))\n",
        "AlexNet_1.add(layers.Dense(classes_num, activation='softmax'))\n",
        "\n",
        "AlexNet_1.compile(optimizer='adam', loss= tf.keras.losses.sparse_categorical_crossentropy, metrics=['accuracy'])"
      ],
      "execution_count": null,
      "outputs": []
    },
    {
      "cell_type": "code",
      "metadata": {
        "id": "4wMDoXRpF_gw",
        "colab": {
          "base_uri": "https://localhost:8080/"
        },
        "outputId": "e84b6f6b-2f28-4de1-9dc1-0a4e3e29e526"
      },
      "source": [
        "AlexNet_1.summary()"
      ],
      "execution_count": null,
      "outputs": [
        {
          "output_type": "stream",
          "text": [
            "Model: \"sequential_9\"\n",
            "_________________________________________________________________\n",
            "Layer (type)                 Output Shape              Param #   \n",
            "=================================================================\n",
            "resizing_3 (Resizing)        (None, 224, 224, 3)       0         \n",
            "_________________________________________________________________\n",
            "conv2d_47 (Conv2D)           (None, 56, 56, 96)        34944     \n",
            "_________________________________________________________________\n",
            "batch_normalization_31 (Batc (None, 56, 56, 96)        384       \n",
            "_________________________________________________________________\n",
            "lambda_2 (Lambda)            (None, 56, 56, 96)        0         \n",
            "_________________________________________________________________\n",
            "activation_5 (Activation)    (None, 56, 56, 96)        0         \n",
            "_________________________________________________________________\n",
            "max_pooling2d_28 (MaxPooling (None, 27, 27, 96)        0         \n",
            "_________________________________________________________________\n",
            "conv2d_48 (Conv2D)           (None, 7, 7, 256)         614656    \n",
            "_________________________________________________________________\n",
            "batch_normalization_32 (Batc (None, 7, 7, 256)         1024      \n",
            "_________________________________________________________________\n",
            "lambda_3 (Lambda)            (None, 7, 7, 256)         0         \n",
            "_________________________________________________________________\n",
            "activation_6 (Activation)    (None, 7, 7, 256)         0         \n",
            "_________________________________________________________________\n",
            "max_pooling2d_29 (MaxPooling (None, 3, 3, 256)         0         \n",
            "_________________________________________________________________\n",
            "conv2d_49 (Conv2D)           (None, 1, 1, 384)         885120    \n",
            "_________________________________________________________________\n",
            "batch_normalization_33 (Batc (None, 1, 1, 384)         1536      \n",
            "_________________________________________________________________\n",
            "activation_7 (Activation)    (None, 1, 1, 384)         0         \n",
            "_________________________________________________________________\n",
            "conv2d_50 (Conv2D)           (None, 1, 1, 384)         1327488   \n",
            "_________________________________________________________________\n",
            "batch_normalization_34 (Batc (None, 1, 1, 384)         1536      \n",
            "_________________________________________________________________\n",
            "activation_8 (Activation)    (None, 1, 1, 384)         0         \n",
            "_________________________________________________________________\n",
            "conv2d_51 (Conv2D)           (None, 1, 1, 256)         884992    \n",
            "_________________________________________________________________\n",
            "batch_normalization_35 (Batc (None, 1, 1, 256)         1024      \n",
            "_________________________________________________________________\n",
            "activation_9 (Activation)    (None, 1, 1, 256)         0         \n",
            "_________________________________________________________________\n",
            "flatten_9 (Flatten)          (None, 256)               0         \n",
            "_________________________________________________________________\n",
            "dense_25 (Dense)             (None, 4096)              1052672   \n",
            "_________________________________________________________________\n",
            "dropout_2 (Dropout)          (None, 4096)              0         \n",
            "_________________________________________________________________\n",
            "dense_26 (Dense)             (None, 4096)              16781312  \n",
            "_________________________________________________________________\n",
            "dropout_3 (Dropout)          (None, 4096)              0         \n",
            "_________________________________________________________________\n",
            "dense_27 (Dense)             (None, 20)                81940     \n",
            "=================================================================\n",
            "Total params: 21,668,628\n",
            "Trainable params: 21,665,876\n",
            "Non-trainable params: 2,752\n",
            "_________________________________________________________________\n"
          ],
          "name": "stdout"
        }
      ]
    },
    {
      "cell_type": "code",
      "metadata": {
        "id": "xdbVWJ95F_gw",
        "colab": {
          "base_uri": "https://localhost:8080/"
        },
        "outputId": "0ac33f7d-848f-4c35-e05f-8e54e0efcd37"
      },
      "source": [
        "# 13 epochs\n",
        "history3 = AlexNet_1.fit(x_train, y_train,  epochs=13, validation_data=(x_val, y_val)) \n",
        "AlexNet_1.save('AlexNet_1.h5')"
      ],
      "execution_count": null,
      "outputs": [
        {
          "output_type": "stream",
          "text": [
            "Epoch 1/13\n",
            "266/266 [==============================] - 35s 127ms/step - loss: 2.3980 - accuracy: 0.2828 - val_loss: 2.1872 - val_accuracy: 0.3433\n",
            "Epoch 2/13\n",
            "266/266 [==============================] - 33s 126ms/step - loss: 2.0450 - accuracy: 0.3918 - val_loss: 2.0345 - val_accuracy: 0.3947\n",
            "Epoch 3/13\n",
            "266/266 [==============================] - 33s 125ms/step - loss: 1.8044 - accuracy: 0.4629 - val_loss: 1.8372 - val_accuracy: 0.4693\n",
            "Epoch 4/13\n",
            "266/266 [==============================] - 33s 125ms/step - loss: 1.6593 - accuracy: 0.5113 - val_loss: 1.6586 - val_accuracy: 0.5100\n",
            "Epoch 5/13\n",
            "266/266 [==============================] - 33s 126ms/step - loss: 1.4957 - accuracy: 0.5627 - val_loss: 1.6360 - val_accuracy: 0.5187\n",
            "Epoch 6/13\n",
            "266/266 [==============================] - 33s 126ms/step - loss: 1.3551 - accuracy: 0.6021 - val_loss: 1.4534 - val_accuracy: 0.5840\n",
            "Epoch 7/13\n",
            "266/266 [==============================] - 33s 125ms/step - loss: 1.2405 - accuracy: 0.6362 - val_loss: 1.3965 - val_accuracy: 0.5940\n",
            "Epoch 8/13\n",
            "266/266 [==============================] - 33s 125ms/step - loss: 1.1266 - accuracy: 0.6645 - val_loss: 1.4221 - val_accuracy: 0.5787\n",
            "Epoch 9/13\n",
            "266/266 [==============================] - 33s 126ms/step - loss: 1.0160 - accuracy: 0.7029 - val_loss: 1.4495 - val_accuracy: 0.5947\n",
            "Epoch 10/13\n",
            "266/266 [==============================] - 33s 125ms/step - loss: 0.9005 - accuracy: 0.7421 - val_loss: 1.3463 - val_accuracy: 0.6287\n",
            "Epoch 11/13\n",
            "266/266 [==============================] - 33s 125ms/step - loss: 0.8160 - accuracy: 0.7622 - val_loss: 1.4035 - val_accuracy: 0.6180\n",
            "Epoch 12/13\n",
            "266/266 [==============================] - 33s 125ms/step - loss: 0.7523 - accuracy: 0.7766 - val_loss: 1.3702 - val_accuracy: 0.6333\n",
            "Epoch 13/13\n",
            "266/266 [==============================] - 33s 126ms/step - loss: 0.6723 - accuracy: 0.8066 - val_loss: 1.3647 - val_accuracy: 0.6327\n"
          ],
          "name": "stdout"
        }
      ]
    },
    {
      "cell_type": "code",
      "metadata": {
        "id": "8r23yNogF_gx"
      },
      "source": [
        "# AlexNet using Stochastic Gradient Descent Optimizer\n",
        "\n",
        "AlexNet_2 = models.Sequential()\n",
        "AlexNet_2.add(layers.experimental.preprocessing.Resizing(224, 224, interpolation=\"bilinear\", input_shape=x_train.shape[1:]))\n",
        "AlexNet_2.add(layers.Conv2D(96, 11, strides=4, padding='same'))\n",
        "AlexNet_2.add(tf.keras.layers.BatchNormalization(momentum=0.8))\n",
        "AlexNet_2.add(layers.Lambda(tf.nn.local_response_normalization))\n",
        "AlexNet_2.add(layers.Activation('relu'))\n",
        "AlexNet_2.add(layers.MaxPooling2D(3, strides=2))\n",
        "AlexNet_2.add(layers.Conv2D(256, 5, strides=4, padding='same'))\n",
        "AlexNet_2.add(tf.keras.layers.BatchNormalization(momentum=0.8))\n",
        "AlexNet_2.add(layers.Lambda(tf.nn.local_response_normalization))\n",
        "AlexNet_2.add(layers.Activation('relu'))\n",
        "AlexNet_2.add(layers.MaxPooling2D(3, strides=2))\n",
        "AlexNet_2.add(layers.Conv2D(384, 3, strides=4, padding='same'))\n",
        "AlexNet_2.add(tf.keras.layers.BatchNormalization(momentum=0.8))\n",
        "AlexNet_2.add(layers.Activation('relu'))\n",
        "AlexNet_2.add(layers.Conv2D(384, 3, strides=4, padding='same'))\n",
        "AlexNet_2.add(tf.keras.layers.BatchNormalization(momentum=0.8))\n",
        "AlexNet_2.add(layers.Activation('relu'))\n",
        "AlexNet_2.add(layers.Conv2D(256, 3, strides=4, padding='same'))\n",
        "AlexNet_2.add(tf.keras.layers.BatchNormalization(momentum=0.8))\n",
        "AlexNet_2.add(layers.Activation('relu'))\n",
        "AlexNet_2.add(layers.Flatten())\n",
        "AlexNet_2.add(layers.Dense(4096, activation='relu'))\n",
        "AlexNet_2.add(layers.Dropout(0.5))\n",
        "AlexNet_2.add(layers.Dense(4096, activation='relu'))\n",
        "AlexNet_2.add(layers.Dropout(0.5))\n",
        "AlexNet_2.add(layers.Dense(classes_num, activation='softmax'))\n",
        "\n",
        "AlexNet_2.compile(optimizer='sgd', loss= tf.keras.losses.sparse_categorical_crossentropy, metrics=['accuracy'])"
      ],
      "execution_count": null,
      "outputs": []
    },
    {
      "cell_type": "code",
      "metadata": {
        "colab": {
          "base_uri": "https://localhost:8080/"
        },
        "id": "VnoqaPU5F_gx",
        "outputId": "cdb78dd3-fea2-4f99-ce9a-4d127ab3e9f1"
      },
      "source": [
        "AlexNet_2.summary()"
      ],
      "execution_count": null,
      "outputs": [
        {
          "output_type": "stream",
          "text": [
            "Model: \"sequential\"\n",
            "_________________________________________________________________\n",
            "Layer (type)                 Output Shape              Param #   \n",
            "=================================================================\n",
            "resizing (Resizing)          (None, 224, 224, 3)       0         \n",
            "_________________________________________________________________\n",
            "conv2d (Conv2D)              (None, 56, 56, 96)        34944     \n",
            "_________________________________________________________________\n",
            "batch_normalization (BatchNo (None, 56, 56, 96)        384       \n",
            "_________________________________________________________________\n",
            "lambda (Lambda)              (None, 56, 56, 96)        0         \n",
            "_________________________________________________________________\n",
            "activation (Activation)      (None, 56, 56, 96)        0         \n",
            "_________________________________________________________________\n",
            "max_pooling2d (MaxPooling2D) (None, 27, 27, 96)        0         \n",
            "_________________________________________________________________\n",
            "conv2d_1 (Conv2D)            (None, 7, 7, 256)         614656    \n",
            "_________________________________________________________________\n",
            "batch_normalization_1 (Batch (None, 7, 7, 256)         1024      \n",
            "_________________________________________________________________\n",
            "lambda_1 (Lambda)            (None, 7, 7, 256)         0         \n",
            "_________________________________________________________________\n",
            "activation_1 (Activation)    (None, 7, 7, 256)         0         \n",
            "_________________________________________________________________\n",
            "max_pooling2d_1 (MaxPooling2 (None, 3, 3, 256)         0         \n",
            "_________________________________________________________________\n",
            "conv2d_2 (Conv2D)            (None, 1, 1, 384)         885120    \n",
            "_________________________________________________________________\n",
            "batch_normalization_2 (Batch (None, 1, 1, 384)         1536      \n",
            "_________________________________________________________________\n",
            "activation_2 (Activation)    (None, 1, 1, 384)         0         \n",
            "_________________________________________________________________\n",
            "conv2d_3 (Conv2D)            (None, 1, 1, 384)         1327488   \n",
            "_________________________________________________________________\n",
            "batch_normalization_3 (Batch (None, 1, 1, 384)         1536      \n",
            "_________________________________________________________________\n",
            "activation_3 (Activation)    (None, 1, 1, 384)         0         \n",
            "_________________________________________________________________\n",
            "conv2d_4 (Conv2D)            (None, 1, 1, 256)         884992    \n",
            "_________________________________________________________________\n",
            "batch_normalization_4 (Batch (None, 1, 1, 256)         1024      \n",
            "_________________________________________________________________\n",
            "activation_4 (Activation)    (None, 1, 1, 256)         0         \n",
            "_________________________________________________________________\n",
            "flatten (Flatten)            (None, 256)               0         \n",
            "_________________________________________________________________\n",
            "dense (Dense)                (None, 4096)              1052672   \n",
            "_________________________________________________________________\n",
            "dropout (Dropout)            (None, 4096)              0         \n",
            "_________________________________________________________________\n",
            "dense_1 (Dense)              (None, 4096)              16781312  \n",
            "_________________________________________________________________\n",
            "dropout_1 (Dropout)          (None, 4096)              0         \n",
            "_________________________________________________________________\n",
            "dense_2 (Dense)              (None, 20)                81940     \n",
            "=================================================================\n",
            "Total params: 21,668,628\n",
            "Trainable params: 21,665,876\n",
            "Non-trainable params: 2,752\n",
            "_________________________________________________________________\n"
          ],
          "name": "stdout"
        }
      ]
    },
    {
      "cell_type": "code",
      "metadata": {
        "colab": {
          "base_uri": "https://localhost:8080/"
        },
        "id": "ZKiuMUzFHU5Y",
        "outputId": "991d7517-a430-4957-fee9-ce605a806b63"
      },
      "source": [
        "# 25 epochs\n",
        "history4 = AlexNet_2.fit(x_train, y_train,  epochs=25, validation_data=(x_val, y_val)) \n",
        "AlexNet_2.save('AlexNet_2.h5')"
      ],
      "execution_count": null,
      "outputs": [
        {
          "output_type": "stream",
          "text": [
            "Epoch 1/25\n",
            "266/266 [==============================] - 63s 125ms/step - loss: 2.5766 - accuracy: 0.2222 - val_loss: 2.2083 - val_accuracy: 0.3440\n",
            "Epoch 2/25\n",
            "266/266 [==============================] - 33s 123ms/step - loss: 2.0573 - accuracy: 0.3753 - val_loss: 2.0222 - val_accuracy: 0.3713\n",
            "Epoch 3/25\n",
            "266/266 [==============================] - 33s 123ms/step - loss: 1.7726 - accuracy: 0.4588 - val_loss: 2.1781 - val_accuracy: 0.3687\n",
            "Epoch 4/25\n",
            "266/266 [==============================] - 32s 122ms/step - loss: 1.5335 - accuracy: 0.5236 - val_loss: 1.7352 - val_accuracy: 0.4900\n",
            "Epoch 5/25\n",
            "266/266 [==============================] - 32s 122ms/step - loss: 1.3516 - accuracy: 0.5869 - val_loss: 1.5353 - val_accuracy: 0.5433\n",
            "Epoch 6/25\n",
            "266/266 [==============================] - 33s 124ms/step - loss: 1.1862 - accuracy: 0.6361 - val_loss: 1.5304 - val_accuracy: 0.5540\n",
            "Epoch 7/25\n",
            "266/266 [==============================] - 32s 122ms/step - loss: 1.0264 - accuracy: 0.6800 - val_loss: 1.8056 - val_accuracy: 0.5220\n",
            "Epoch 8/25\n",
            "266/266 [==============================] - 32s 122ms/step - loss: 0.8658 - accuracy: 0.7260 - val_loss: 2.2145 - val_accuracy: 0.4720\n",
            "Epoch 9/25\n",
            "266/266 [==============================] - 33s 123ms/step - loss: 0.7469 - accuracy: 0.7629 - val_loss: 1.8225 - val_accuracy: 0.5387\n",
            "Epoch 10/25\n",
            "266/266 [==============================] - 33s 122ms/step - loss: 0.6151 - accuracy: 0.8044 - val_loss: 1.6418 - val_accuracy: 0.5793\n",
            "Epoch 11/25\n",
            "266/266 [==============================] - 32s 122ms/step - loss: 0.5074 - accuracy: 0.8408 - val_loss: 2.6772 - val_accuracy: 0.4420\n",
            "Epoch 12/25\n",
            "266/266 [==============================] - 33s 122ms/step - loss: 0.4534 - accuracy: 0.8551 - val_loss: 2.0285 - val_accuracy: 0.5347\n",
            "Epoch 13/25\n",
            "266/266 [==============================] - 33s 125ms/step - loss: 0.3705 - accuracy: 0.8800 - val_loss: 1.9795 - val_accuracy: 0.5573\n",
            "Epoch 14/25\n",
            "266/266 [==============================] - 33s 122ms/step - loss: 0.3217 - accuracy: 0.8942 - val_loss: 2.0050 - val_accuracy: 0.5507\n",
            "Epoch 15/25\n",
            "266/266 [==============================] - 32s 121ms/step - loss: 0.2622 - accuracy: 0.9158 - val_loss: 2.2183 - val_accuracy: 0.5440\n",
            "Epoch 16/25\n",
            "266/266 [==============================] - 32s 121ms/step - loss: 0.2372 - accuracy: 0.9255 - val_loss: 1.9816 - val_accuracy: 0.5780\n",
            "Epoch 17/25\n",
            "266/266 [==============================] - 33s 123ms/step - loss: 0.1935 - accuracy: 0.9398 - val_loss: 1.8724 - val_accuracy: 0.5940\n",
            "Epoch 18/25\n",
            "266/266 [==============================] - 33s 123ms/step - loss: 0.1708 - accuracy: 0.9446 - val_loss: 3.1881 - val_accuracy: 0.4507\n",
            "Epoch 19/25\n",
            "266/266 [==============================] - 32s 122ms/step - loss: 0.1602 - accuracy: 0.9468 - val_loss: 1.8842 - val_accuracy: 0.6153\n",
            "Epoch 20/25\n",
            "266/266 [==============================] - 32s 122ms/step - loss: 0.1451 - accuracy: 0.9516 - val_loss: 2.0094 - val_accuracy: 0.5900\n",
            "Epoch 21/25\n",
            "266/266 [==============================] - 33s 123ms/step - loss: 0.1222 - accuracy: 0.9608 - val_loss: 2.5959 - val_accuracy: 0.5420\n",
            "Epoch 22/25\n",
            "266/266 [==============================] - 32s 122ms/step - loss: 0.1035 - accuracy: 0.9701 - val_loss: 2.0384 - val_accuracy: 0.5933\n",
            "Epoch 23/25\n",
            "266/266 [==============================] - 32s 121ms/step - loss: 0.0997 - accuracy: 0.9695 - val_loss: 2.0853 - val_accuracy: 0.5933\n",
            "Epoch 24/25\n",
            "266/266 [==============================] - 32s 122ms/step - loss: 0.0657 - accuracy: 0.9807 - val_loss: 2.5221 - val_accuracy: 0.5547\n",
            "Epoch 25/25\n",
            "266/266 [==============================] - 32s 122ms/step - loss: 0.0797 - accuracy: 0.9745 - val_loss: 2.4363 - val_accuracy: 0.5747\n"
          ],
          "name": "stdout"
        }
      ]
    },
    {
      "cell_type": "markdown",
      "metadata": {
        "id": "9_giQUqBPSCv"
      },
      "source": [
        "####**Μοντέλο3: VGG**"
      ]
    },
    {
      "cell_type": "code",
      "metadata": {
        "id": "hCUftRH-HVbS"
      },
      "source": [
        "# VGG Model using Adam Optimizer\n",
        "\n",
        "VGG_1 = models.Sequential()\n",
        "VGG_1.add(layers.experimental.preprocessing.Resizing(224, 224, interpolation=\"bilinear\", input_shape=x_train.shape[1:]))\n",
        "VGG_1.add(layers.Conv2D(input_shape=(224,224,3),filters=64,kernel_size=(3,3),padding=\"same\", activation=\"relu\"))\n",
        "VGG_1.add(tf.keras.layers.BatchNormalization(momentum=0.8))\n",
        "VGG_1.add(layers.Conv2D(filters=64,kernel_size=(3,3),padding=\"same\", activation=\"relu\"))\n",
        "VGG_1.add(tf.keras.layers.BatchNormalization(momentum=0.8))\n",
        "VGG_1.add(layers.MaxPool2D(pool_size=(2,2),strides=(2,2)))\n",
        "VGG_1.add(layers.Conv2D(filters=128, kernel_size=(3,3), padding=\"same\", activation=\"relu\"))\n",
        "VGG_1.add(tf.keras.layers.BatchNormalization(momentum=0.8))\n",
        "VGG_1.add(layers.Conv2D(filters=128, kernel_size=(3,3), padding=\"same\", activation=\"relu\"))\n",
        "VGG_1.add(tf.keras.layers.BatchNormalization(momentum=0.8))\n",
        "VGG_1.add(layers.MaxPool2D(pool_size=(2,2),strides=(2,2)))\n",
        "VGG_1.add(layers.Conv2D(filters=256, kernel_size=(3,3), padding=\"same\", activation=\"relu\"))\n",
        "VGG_1.add(tf.keras.layers.BatchNormalization(momentum=0.8))\n",
        "VGG_1.add(layers.Conv2D(filters=256, kernel_size=(3,3), padding=\"same\", activation=\"relu\"))\n",
        "VGG_1.add(tf.keras.layers.BatchNormalization(momentum=0.8))\n",
        "VGG_1.add(layers.Conv2D(filters=256, kernel_size=(3,3), padding=\"same\", activation=\"relu\"))\n",
        "VGG_1.add(tf.keras.layers.BatchNormalization(momentum=0.8))\n",
        "VGG_1.add(layers.MaxPool2D(pool_size=(2,2),strides=(2,2)))\n",
        "VGG_1.add(layers.Conv2D(filters=512, kernel_size=(3,3), padding=\"same\", activation=\"relu\"))\n",
        "VGG_1.add(tf.keras.layers.BatchNormalization(momentum=0.8))\n",
        "VGG_1.add(layers.Conv2D(filters=512, kernel_size=(3,3), padding=\"same\", activation=\"relu\"))\n",
        "VGG_1.add(tf.keras.layers.BatchNormalization(momentum=0.8))\n",
        "VGG_1.add(layers.Conv2D(filters=512, kernel_size=(3,3), padding=\"same\", activation=\"relu\"))\n",
        "VGG_1.add(tf.keras.layers.BatchNormalization(momentum=0.8))\n",
        "VGG_1.add(layers.MaxPool2D(pool_size=(2,2),strides=(2,2)))\n",
        "VGG_1.add(layers.Conv2D(filters=512, kernel_size=(3,3), padding=\"same\", activation=\"relu\"))\n",
        "VGG_1.add(tf.keras.layers.BatchNormalization(momentum=0.8))\n",
        "VGG_1.add(layers.Conv2D(filters=512, kernel_size=(3,3), padding=\"same\", activation=\"relu\"))\n",
        "VGG_1.add(tf.keras.layers.BatchNormalization(momentum=0.8))\n",
        "VGG_1.add(layers.Conv2D(filters=512, kernel_size=(3,3), padding=\"same\", activation=\"relu\"))\n",
        "VGG_1.add(tf.keras.layers.BatchNormalization(momentum=0.8))\n",
        "VGG_1.add(layers.MaxPool2D(pool_size=(2,2),strides=(2,2)))\n",
        "VGG_1.add(layers.Flatten())\n",
        "VGG_1.add(layers.Dense(units=4096,activation=\"relu\"))\n",
        "VGG_1.add(layers.Dense(units=4096,activation=\"relu\"))\n",
        "VGG_1.add(layers.Dense(classes_num, activation=\"softmax\"))\n",
        "\n",
        "VGG_1.compile(optimizer='adam', loss=tf.keras.losses.sparse_categorical_crossentropy, metrics=['accuracy'])\n"
      ],
      "execution_count": null,
      "outputs": []
    },
    {
      "cell_type": "code",
      "metadata": {
        "colab": {
          "base_uri": "https://localhost:8080/"
        },
        "id": "f1bqcUaqHVg3",
        "outputId": "dd3308e2-8875-40fa-911d-1ce0419a61aa"
      },
      "source": [
        "VGG_1.summary()"
      ],
      "execution_count": null,
      "outputs": [
        {
          "output_type": "stream",
          "text": [
            "Model: \"sequential_1\"\n",
            "_________________________________________________________________\n",
            "Layer (type)                 Output Shape              Param #   \n",
            "=================================================================\n",
            "resizing_1 (Resizing)        (None, 224, 224, 3)       0         \n",
            "_________________________________________________________________\n",
            "conv2d_5 (Conv2D)            (None, 224, 224, 64)      1792      \n",
            "_________________________________________________________________\n",
            "batch_normalization_5 (Batch (None, 224, 224, 64)      256       \n",
            "_________________________________________________________________\n",
            "conv2d_6 (Conv2D)            (None, 224, 224, 64)      36928     \n",
            "_________________________________________________________________\n",
            "batch_normalization_6 (Batch (None, 224, 224, 64)      256       \n",
            "_________________________________________________________________\n",
            "max_pooling2d_2 (MaxPooling2 (None, 112, 112, 64)      0         \n",
            "_________________________________________________________________\n",
            "conv2d_7 (Conv2D)            (None, 112, 112, 128)     73856     \n",
            "_________________________________________________________________\n",
            "batch_normalization_7 (Batch (None, 112, 112, 128)     512       \n",
            "_________________________________________________________________\n",
            "conv2d_8 (Conv2D)            (None, 112, 112, 128)     147584    \n",
            "_________________________________________________________________\n",
            "batch_normalization_8 (Batch (None, 112, 112, 128)     512       \n",
            "_________________________________________________________________\n",
            "max_pooling2d_3 (MaxPooling2 (None, 56, 56, 128)       0         \n",
            "_________________________________________________________________\n",
            "conv2d_9 (Conv2D)            (None, 56, 56, 256)       295168    \n",
            "_________________________________________________________________\n",
            "batch_normalization_9 (Batch (None, 56, 56, 256)       1024      \n",
            "_________________________________________________________________\n",
            "conv2d_10 (Conv2D)           (None, 56, 56, 256)       590080    \n",
            "_________________________________________________________________\n",
            "batch_normalization_10 (Batc (None, 56, 56, 256)       1024      \n",
            "_________________________________________________________________\n",
            "conv2d_11 (Conv2D)           (None, 56, 56, 256)       590080    \n",
            "_________________________________________________________________\n",
            "batch_normalization_11 (Batc (None, 56, 56, 256)       1024      \n",
            "_________________________________________________________________\n",
            "max_pooling2d_4 (MaxPooling2 (None, 28, 28, 256)       0         \n",
            "_________________________________________________________________\n",
            "conv2d_12 (Conv2D)           (None, 28, 28, 512)       1180160   \n",
            "_________________________________________________________________\n",
            "batch_normalization_12 (Batc (None, 28, 28, 512)       2048      \n",
            "_________________________________________________________________\n",
            "conv2d_13 (Conv2D)           (None, 28, 28, 512)       2359808   \n",
            "_________________________________________________________________\n",
            "batch_normalization_13 (Batc (None, 28, 28, 512)       2048      \n",
            "_________________________________________________________________\n",
            "conv2d_14 (Conv2D)           (None, 28, 28, 512)       2359808   \n",
            "_________________________________________________________________\n",
            "batch_normalization_14 (Batc (None, 28, 28, 512)       2048      \n",
            "_________________________________________________________________\n",
            "max_pooling2d_5 (MaxPooling2 (None, 14, 14, 512)       0         \n",
            "_________________________________________________________________\n",
            "conv2d_15 (Conv2D)           (None, 14, 14, 512)       2359808   \n",
            "_________________________________________________________________\n",
            "batch_normalization_15 (Batc (None, 14, 14, 512)       2048      \n",
            "_________________________________________________________________\n",
            "conv2d_16 (Conv2D)           (None, 14, 14, 512)       2359808   \n",
            "_________________________________________________________________\n",
            "batch_normalization_16 (Batc (None, 14, 14, 512)       2048      \n",
            "_________________________________________________________________\n",
            "conv2d_17 (Conv2D)           (None, 14, 14, 512)       2359808   \n",
            "_________________________________________________________________\n",
            "batch_normalization_17 (Batc (None, 14, 14, 512)       2048      \n",
            "_________________________________________________________________\n",
            "max_pooling2d_6 (MaxPooling2 (None, 7, 7, 512)         0         \n",
            "_________________________________________________________________\n",
            "flatten_1 (Flatten)          (None, 25088)             0         \n",
            "_________________________________________________________________\n",
            "dense_3 (Dense)              (None, 4096)              102764544 \n",
            "_________________________________________________________________\n",
            "dense_4 (Dense)              (None, 4096)              16781312  \n",
            "_________________________________________________________________\n",
            "dense_5 (Dense)              (None, 20)                81940     \n",
            "=================================================================\n",
            "Total params: 134,359,380\n",
            "Trainable params: 134,350,932\n",
            "Non-trainable params: 8,448\n",
            "_________________________________________________________________\n"
          ],
          "name": "stdout"
        }
      ]
    },
    {
      "cell_type": "code",
      "metadata": {
        "colab": {
          "base_uri": "https://localhost:8080/"
        },
        "id": "W_t1TOfNQ-5-",
        "outputId": "7505d8ff-20dd-447c-e3a8-338fb76b5ef7"
      },
      "source": [
        "# 18 epochs, batch_size = 64\n",
        "model_history5 = VGG_1.fit(x_train, y_train, epochs=18, batch_size=64, validation_data=(x_val, y_val))\n",
        "VGG_1.save('VGG_1.h5')"
      ],
      "execution_count": null,
      "outputs": [
        {
          "output_type": "stream",
          "text": [
            "Epoch 1/18\n",
            "133/133 [==============================] - 319s 2s/step - loss: 8.8495 - accuracy: 0.1895 - val_loss: 2.5093 - val_accuracy: 0.2687\n",
            "Epoch 2/18\n",
            "133/133 [==============================] - 265s 2s/step - loss: 2.3442 - accuracy: 0.3014 - val_loss: 2.3097 - val_accuracy: 0.3027\n",
            "Epoch 3/18\n",
            "133/133 [==============================] - 265s 2s/step - loss: 2.1639 - accuracy: 0.3467 - val_loss: 2.1838 - val_accuracy: 0.3420\n",
            "Epoch 4/18\n",
            "133/133 [==============================] - 265s 2s/step - loss: 2.0023 - accuracy: 0.3829 - val_loss: 2.0718 - val_accuracy: 0.3707\n",
            "Epoch 5/18\n",
            "133/133 [==============================] - 265s 2s/step - loss: 1.8996 - accuracy: 0.4154 - val_loss: 2.0364 - val_accuracy: 0.4040\n",
            "Epoch 6/18\n",
            "133/133 [==============================] - 265s 2s/step - loss: 1.7885 - accuracy: 0.4479 - val_loss: 1.9258 - val_accuracy: 0.4207\n",
            "Epoch 7/18\n",
            "133/133 [==============================] - 265s 2s/step - loss: 1.6835 - accuracy: 0.4779 - val_loss: 1.9150 - val_accuracy: 0.4480\n",
            "Epoch 8/18\n",
            "133/133 [==============================] - 266s 2s/step - loss: 1.6014 - accuracy: 0.5060 - val_loss: 2.1005 - val_accuracy: 0.4040\n",
            "Epoch 9/18\n",
            "133/133 [==============================] - 266s 2s/step - loss: 1.5024 - accuracy: 0.5395 - val_loss: 1.9665 - val_accuracy: 0.4480\n",
            "Epoch 10/18\n",
            "133/133 [==============================] - 266s 2s/step - loss: 1.3888 - accuracy: 0.5704 - val_loss: 1.9201 - val_accuracy: 0.4480\n",
            "Epoch 11/18\n",
            "133/133 [==============================] - 266s 2s/step - loss: 1.2336 - accuracy: 0.6132 - val_loss: 1.9932 - val_accuracy: 0.4660\n",
            "Epoch 12/18\n",
            "133/133 [==============================] - 266s 2s/step - loss: 1.1441 - accuracy: 0.6436 - val_loss: 2.0100 - val_accuracy: 0.4787\n",
            "Epoch 13/18\n",
            "133/133 [==============================] - 266s 2s/step - loss: 1.0290 - accuracy: 0.6792 - val_loss: 2.1419 - val_accuracy: 0.4647\n",
            "Epoch 14/18\n",
            "133/133 [==============================] - 266s 2s/step - loss: 0.9123 - accuracy: 0.7184 - val_loss: 2.2024 - val_accuracy: 0.4640\n",
            "Epoch 15/18\n",
            "133/133 [==============================] - 266s 2s/step - loss: 0.8125 - accuracy: 0.7499 - val_loss: 2.3482 - val_accuracy: 0.4893\n",
            "Epoch 16/18\n",
            "133/133 [==============================] - 266s 2s/step - loss: 0.7246 - accuracy: 0.7793 - val_loss: 2.5425 - val_accuracy: 0.4853\n",
            "Epoch 17/18\n",
            "133/133 [==============================] - 266s 2s/step - loss: 0.6834 - accuracy: 0.7938 - val_loss: 2.6173 - val_accuracy: 0.4753\n",
            "Epoch 18/18\n",
            "133/133 [==============================] - 266s 2s/step - loss: 0.5571 - accuracy: 0.8292 - val_loss: 2.6337 - val_accuracy: 0.4913\n"
          ],
          "name": "stdout"
        }
      ]
    },
    {
      "cell_type": "code",
      "metadata": {
        "id": "cg2zpSaOQ_CY"
      },
      "source": [
        "# VGG using Stochastic Gradient Descent Optimizer\n",
        "# VGG Model using Adam Optimizer\n",
        "\n",
        "VGG_2 = models.Sequential()\n",
        "VGG_2.add(layers.experimental.preprocessing.Resizing(224, 224, interpolation=\"bilinear\", input_shape=x_train.shape[1:]))\n",
        "VGG_2.add(layers.Conv2D(input_shape=(224,224,3),filters=64,kernel_size=(3,3),padding=\"same\", activation=\"relu\"))\n",
        "VGG_2.add(tf.keras.layers.BatchNormalization(momentum=0.8))\n",
        "VGG_2.add(layers.Conv2D(filters=64,kernel_size=(3,3),padding=\"same\", activation=\"relu\"))\n",
        "VGG_2.add(tf.keras.layers.BatchNormalization(momentum=0.8))\n",
        "VGG_2.add(layers.MaxPool2D(pool_size=(2,2),strides=(2,2)))\n",
        "VGG_2.add(layers.Conv2D(filters=128, kernel_size=(3,3), padding=\"same\", activation=\"relu\"))\n",
        "VGG_2.add(tf.keras.layers.BatchNormalization(momentum=0.8))\n",
        "VGG_2.add(layers.Conv2D(filters=128, kernel_size=(3,3), padding=\"same\", activation=\"relu\"))\n",
        "VGG_2.add(tf.keras.layers.BatchNormalization(momentum=0.8))\n",
        "VGG_2.add(layers.MaxPool2D(pool_size=(2,2),strides=(2,2)))\n",
        "VGG_2.add(layers.Conv2D(filters=256, kernel_size=(3,3), padding=\"same\", activation=\"relu\"))\n",
        "VGG_2.add(tf.keras.layers.BatchNormalization(momentum=0.8))\n",
        "VGG_2.add(layers.Conv2D(filters=256, kernel_size=(3,3), padding=\"same\", activation=\"relu\"))\n",
        "VGG_2.add(tf.keras.layers.BatchNormalization(momentum=0.8))\n",
        "VGG_2.add(layers.Conv2D(filters=256, kernel_size=(3,3), padding=\"same\", activation=\"relu\"))\n",
        "VGG_2.add(tf.keras.layers.BatchNormalization(momentum=0.8))\n",
        "VGG_2.add(layers.MaxPool2D(pool_size=(2,2),strides=(2,2)))\n",
        "VGG_2.add(layers.Conv2D(filters=512, kernel_size=(3,3), padding=\"same\", activation=\"relu\"))\n",
        "VGG_2.add(tf.keras.layers.BatchNormalization(momentum=0.8))\n",
        "VGG_2.add(layers.Conv2D(filters=512, kernel_size=(3,3), padding=\"same\", activation=\"relu\"))\n",
        "VGG_2.add(tf.keras.layers.BatchNormalization(momentum=0.8))\n",
        "VGG_2.add(layers.Conv2D(filters=512, kernel_size=(3,3), padding=\"same\", activation=\"relu\"))\n",
        "VGG_2.add(tf.keras.layers.BatchNormalization(momentum=0.8))\n",
        "VGG_2.add(layers.MaxPool2D(pool_size=(2,2),strides=(2,2)))\n",
        "VGG_2.add(layers.Conv2D(filters=512, kernel_size=(3,3), padding=\"same\", activation=\"relu\"))\n",
        "VGG_2.add(tf.keras.layers.BatchNormalization(momentum=0.8))\n",
        "VGG_2.add(layers.Conv2D(filters=512, kernel_size=(3,3), padding=\"same\", activation=\"relu\"))\n",
        "VGG_2.add(tf.keras.layers.BatchNormalization(momentum=0.8))\n",
        "VGG_2.add(layers.Conv2D(filters=512, kernel_size=(3,3), padding=\"same\", activation=\"relu\"))\n",
        "VGG_2.add(tf.keras.layers.BatchNormalization(momentum=0.8))\n",
        "VGG_2.add(layers.MaxPool2D(pool_size=(2,2),strides=(2,2)))\n",
        "VGG_2.add(layers.Flatten())\n",
        "VGG_2.add(layers.Dense(units=4096,activation=\"relu\"))\n",
        "VGG_2.add(layers.Dense(units=4096,activation=\"relu\"))\n",
        "VGG_2.add(layers.Dense(classes_num, activation=\"softmax\"))\n",
        "\n",
        "VGG_2.compile(optimizer='sgd', loss=tf.keras.losses.sparse_categorical_crossentropy, metrics=['accuracy'])\n",
        "\n"
      ],
      "execution_count": null,
      "outputs": []
    },
    {
      "cell_type": "code",
      "metadata": {
        "colab": {
          "base_uri": "https://localhost:8080/"
        },
        "id": "Kd_hIdVYQ_Ie",
        "outputId": "56056967-7943-450f-b705-d35061afc1d9"
      },
      "source": [
        "VGG_2.summary()"
      ],
      "execution_count": null,
      "outputs": [
        {
          "output_type": "stream",
          "text": [
            "Model: \"sequential_2\"\n",
            "_________________________________________________________________\n",
            "Layer (type)                 Output Shape              Param #   \n",
            "=================================================================\n",
            "resizing_2 (Resizing)        (None, 224, 224, 3)       0         \n",
            "_________________________________________________________________\n",
            "conv2d_18 (Conv2D)           (None, 224, 224, 64)      1792      \n",
            "_________________________________________________________________\n",
            "batch_normalization_18 (Batc (None, 224, 224, 64)      256       \n",
            "_________________________________________________________________\n",
            "conv2d_19 (Conv2D)           (None, 224, 224, 64)      36928     \n",
            "_________________________________________________________________\n",
            "batch_normalization_19 (Batc (None, 224, 224, 64)      256       \n",
            "_________________________________________________________________\n",
            "max_pooling2d_7 (MaxPooling2 (None, 112, 112, 64)      0         \n",
            "_________________________________________________________________\n",
            "conv2d_20 (Conv2D)           (None, 112, 112, 128)     73856     \n",
            "_________________________________________________________________\n",
            "batch_normalization_20 (Batc (None, 112, 112, 128)     512       \n",
            "_________________________________________________________________\n",
            "conv2d_21 (Conv2D)           (None, 112, 112, 128)     147584    \n",
            "_________________________________________________________________\n",
            "batch_normalization_21 (Batc (None, 112, 112, 128)     512       \n",
            "_________________________________________________________________\n",
            "max_pooling2d_8 (MaxPooling2 (None, 56, 56, 128)       0         \n",
            "_________________________________________________________________\n",
            "conv2d_22 (Conv2D)           (None, 56, 56, 256)       295168    \n",
            "_________________________________________________________________\n",
            "batch_normalization_22 (Batc (None, 56, 56, 256)       1024      \n",
            "_________________________________________________________________\n",
            "conv2d_23 (Conv2D)           (None, 56, 56, 256)       590080    \n",
            "_________________________________________________________________\n",
            "batch_normalization_23 (Batc (None, 56, 56, 256)       1024      \n",
            "_________________________________________________________________\n",
            "conv2d_24 (Conv2D)           (None, 56, 56, 256)       590080    \n",
            "_________________________________________________________________\n",
            "batch_normalization_24 (Batc (None, 56, 56, 256)       1024      \n",
            "_________________________________________________________________\n",
            "max_pooling2d_9 (MaxPooling2 (None, 28, 28, 256)       0         \n",
            "_________________________________________________________________\n",
            "conv2d_25 (Conv2D)           (None, 28, 28, 512)       1180160   \n",
            "_________________________________________________________________\n",
            "batch_normalization_25 (Batc (None, 28, 28, 512)       2048      \n",
            "_________________________________________________________________\n",
            "conv2d_26 (Conv2D)           (None, 28, 28, 512)       2359808   \n",
            "_________________________________________________________________\n",
            "batch_normalization_26 (Batc (None, 28, 28, 512)       2048      \n",
            "_________________________________________________________________\n",
            "conv2d_27 (Conv2D)           (None, 28, 28, 512)       2359808   \n",
            "_________________________________________________________________\n",
            "batch_normalization_27 (Batc (None, 28, 28, 512)       2048      \n",
            "_________________________________________________________________\n",
            "max_pooling2d_10 (MaxPooling (None, 14, 14, 512)       0         \n",
            "_________________________________________________________________\n",
            "conv2d_28 (Conv2D)           (None, 14, 14, 512)       2359808   \n",
            "_________________________________________________________________\n",
            "batch_normalization_28 (Batc (None, 14, 14, 512)       2048      \n",
            "_________________________________________________________________\n",
            "conv2d_29 (Conv2D)           (None, 14, 14, 512)       2359808   \n",
            "_________________________________________________________________\n",
            "batch_normalization_29 (Batc (None, 14, 14, 512)       2048      \n",
            "_________________________________________________________________\n",
            "conv2d_30 (Conv2D)           (None, 14, 14, 512)       2359808   \n",
            "_________________________________________________________________\n",
            "batch_normalization_30 (Batc (None, 14, 14, 512)       2048      \n",
            "_________________________________________________________________\n",
            "max_pooling2d_11 (MaxPooling (None, 7, 7, 512)         0         \n",
            "_________________________________________________________________\n",
            "flatten_2 (Flatten)          (None, 25088)             0         \n",
            "_________________________________________________________________\n",
            "dense_6 (Dense)              (None, 4096)              102764544 \n",
            "_________________________________________________________________\n",
            "dense_7 (Dense)              (None, 4096)              16781312  \n",
            "_________________________________________________________________\n",
            "dense_8 (Dense)              (None, 20)                81940     \n",
            "=================================================================\n",
            "Total params: 134,359,380\n",
            "Trainable params: 134,350,932\n",
            "Non-trainable params: 8,448\n",
            "_________________________________________________________________\n"
          ],
          "name": "stdout"
        }
      ]
    },
    {
      "cell_type": "code",
      "metadata": {
        "colab": {
          "base_uri": "https://localhost:8080/"
        },
        "id": "TUpz3bUNnMWR",
        "outputId": "7e695d72-c0ab-47f9-8af4-2a66a144509a"
      },
      "source": [
        "# 25 epochs\n",
        "model_history6 = VGG_2.fit(x_train, y_train, epochs=25, batch_size=64, validation_data=(x_val, y_val)) # 20 epochs\n",
        "VGG_2.save('VGG_2.h5')"
      ],
      "execution_count": null,
      "outputs": [
        {
          "output_type": "stream",
          "text": [
            "Epoch 1/25\n",
            "133/133 [==============================] - 266s 2s/step - loss: 2.3608 - accuracy: 0.3598 - val_loss: 1.7600 - val_accuracy: 0.4667\n",
            "Epoch 2/25\n",
            "133/133 [==============================] - 264s 2s/step - loss: 1.4530 - accuracy: 0.5526 - val_loss: 1.5777 - val_accuracy: 0.5200\n",
            "Epoch 3/25\n",
            "133/133 [==============================] - 264s 2s/step - loss: 1.0213 - accuracy: 0.6873 - val_loss: 1.4825 - val_accuracy: 0.5580\n",
            "Epoch 4/25\n",
            "133/133 [==============================] - 264s 2s/step - loss: 0.6422 - accuracy: 0.8104 - val_loss: 1.4825 - val_accuracy: 0.5747\n",
            "Epoch 5/25\n",
            "133/133 [==============================] - 264s 2s/step - loss: 0.3528 - accuracy: 0.9133 - val_loss: 1.4230 - val_accuracy: 0.5900\n",
            "Epoch 6/25\n",
            "133/133 [==============================] - 263s 2s/step - loss: 0.1513 - accuracy: 0.9774 - val_loss: 1.3693 - val_accuracy: 0.6233\n",
            "Epoch 7/25\n",
            "133/133 [==============================] - 263s 2s/step - loss: 0.0599 - accuracy: 0.9959 - val_loss: 1.3804 - val_accuracy: 0.6260\n",
            "Epoch 8/25\n",
            "133/133 [==============================] - 263s 2s/step - loss: 0.0373 - accuracy: 0.9969 - val_loss: 1.3932 - val_accuracy: 0.6373\n",
            "Epoch 9/25\n",
            "133/133 [==============================] - 263s 2s/step - loss: 0.0252 - accuracy: 0.9985 - val_loss: 1.3879 - val_accuracy: 0.6413\n",
            "Epoch 10/25\n",
            "133/133 [==============================] - 263s 2s/step - loss: 0.0193 - accuracy: 0.9989 - val_loss: 1.4115 - val_accuracy: 0.6413\n",
            "Epoch 11/25\n",
            "133/133 [==============================] - 263s 2s/step - loss: 0.0179 - accuracy: 0.9987 - val_loss: 1.4027 - val_accuracy: 0.6333\n",
            "Epoch 12/25\n",
            "133/133 [==============================] - 263s 2s/step - loss: 0.0142 - accuracy: 0.9989 - val_loss: 1.4601 - val_accuracy: 0.6320\n",
            "Epoch 13/25\n",
            "133/133 [==============================] - 264s 2s/step - loss: 0.0117 - accuracy: 0.9996 - val_loss: 1.4569 - val_accuracy: 0.6353\n",
            "Epoch 14/25\n",
            "133/133 [==============================] - 266s 2s/step - loss: 0.0107 - accuracy: 0.9994 - val_loss: 1.4649 - val_accuracy: 0.6393\n",
            "Epoch 15/25\n",
            "133/133 [==============================] - 266s 2s/step - loss: 0.0082 - accuracy: 0.9996 - val_loss: 1.4628 - val_accuracy: 0.6393\n",
            "Epoch 16/25\n",
            "133/133 [==============================] - 265s 2s/step - loss: 0.0108 - accuracy: 0.9994 - val_loss: 1.4590 - val_accuracy: 0.6447\n",
            "Epoch 17/25\n",
            "133/133 [==============================] - 266s 2s/step - loss: 0.0078 - accuracy: 0.9995 - val_loss: 1.4662 - val_accuracy: 0.6440\n",
            "Epoch 18/25\n",
            "133/133 [==============================] - 265s 2s/step - loss: 0.0073 - accuracy: 0.9996 - val_loss: 1.4819 - val_accuracy: 0.6420\n",
            "Epoch 19/25\n",
            "133/133 [==============================] - 265s 2s/step - loss: 0.0052 - accuracy: 0.9999 - val_loss: 1.4896 - val_accuracy: 0.6380\n",
            "Epoch 20/25\n",
            "133/133 [==============================] - 266s 2s/step - loss: 0.0061 - accuracy: 0.9995 - val_loss: 1.5322 - val_accuracy: 0.6260\n",
            "Epoch 21/25\n",
            "133/133 [==============================] - 265s 2s/step - loss: 0.0052 - accuracy: 0.9998 - val_loss: 1.4930 - val_accuracy: 0.6407\n",
            "Epoch 22/25\n",
            "133/133 [==============================] - 265s 2s/step - loss: 0.0073 - accuracy: 0.9993 - val_loss: 1.5101 - val_accuracy: 0.6433\n",
            "Epoch 23/25\n",
            "133/133 [==============================] - 265s 2s/step - loss: 0.0045 - accuracy: 0.9999 - val_loss: 1.5010 - val_accuracy: 0.6433\n",
            "Epoch 24/25\n",
            "133/133 [==============================] - 265s 2s/step - loss: 0.0038 - accuracy: 0.9999 - val_loss: 1.5150 - val_accuracy: 0.6447\n",
            "Epoch 25/25\n",
            "133/133 [==============================] - 265s 2s/step - loss: 0.0031 - accuracy: 0.9998 - val_loss: 1.5153 - val_accuracy: 0.6387\n"
          ],
          "name": "stdout"
        }
      ]
    },
    {
      "cell_type": "markdown",
      "metadata": {
        "id": "3v2mugZTE4xw"
      },
      "source": [
        "Στο VGG μοντέλο ο Stochastic Gradient Descent Optimizer έχει καλύτερα αποτελέσματα σε σχέση με τα LeNet και AlexNet. Αυτό οφείλεται στα αυξημένα επίπεδα του δικτύου."
      ]
    },
    {
      "cell_type": "markdown",
      "metadata": {
        "id": "rory_d26FXHW"
      },
      "source": [
        "####**Μοντέλο4: MyCNN**"
      ]
    },
    {
      "cell_type": "markdown",
      "metadata": {
        "id": "aTeB4rsLIRLm"
      },
      "source": [
        "Στο σημείο αυτό δημιουργούμε ένα συνελικτικό μοντέλο το MyCNN. Για την υλοποίησή του επιλέγουμε μία ισχυρότερη συνελικτική βάση. Η σχεδίαση της κεφαλής της ταξινόμησης έγινε με τέτοιο τρόπο ώστε να έχουμε αρκατά καλά εποτελέσματα και να μην επιβαρύνουμε το νευρωνικό."
      ]
    },
    {
      "cell_type": "code",
      "metadata": {
        "id": "orK7ab_eMpce",
        "colab": {
          "base_uri": "https://localhost:8080/"
        },
        "outputId": "93d43534-efd9-4789-8c85-c68f4e47bc2a"
      },
      "source": [
        "# MyCNN Using Adam Optimizer\n",
        "MyCNN1 = models.Sequential()\n",
        "MyCNN1.add(layers.Conv2D(128, (3,3), padding=\"same\",input_shape=(32, 32, 3)))\n",
        "MyCNN1.add(tf.keras.layers.LeakyReLU())\n",
        "MyCNN1.add(layers.Conv2D(128, (3, 3), padding='same'))\n",
        "MyCNN1.add(layers.MaxPooling2D((2, 2)))\n",
        "MyCNN1.add(tf.keras.layers.LeakyReLU())\n",
        "MyCNN1.add(layers.Conv2D(256, (3, 3), padding='same'))\n",
        "MyCNN1.add(tf.keras.layers.LeakyReLU())\n",
        "MyCNN1.add(layers.MaxPooling2D((2, 2)))\n",
        "MyCNN1.add(layers.Conv2D(512, (3, 3), padding='same'))\n",
        "MyCNN1.add(tf.keras.layers.LeakyReLU())\n",
        "MyCNN1.add(layers.Conv2D(256, (3, 3)))\n",
        "MyCNN1.add(tf.keras.layers.LeakyReLU())\n",
        "MyCNN1.add(layers.MaxPooling2D((2, 2)))\n",
        "MyCNN1.add(layers.Flatten())\n",
        "MyCNN1.add(layers.Dense(1024))\n",
        "MyCNN1.add(tf.keras.layers.LeakyReLU())\n",
        "MyCNN1.add(layers.Dense(200))\n",
        "MyCNN1.add(layers.Dense(classes_num, activation='softmax'))\n",
        "MyCNN1.compile(optimizer='adam', loss= tf.keras.losses.sparse_categorical_crossentropy, metrics=['accuracy'])\n",
        "MyCNN1.summary()\n"
      ],
      "execution_count": null,
      "outputs": [
        {
          "output_type": "stream",
          "text": [
            "Model: \"sequential_4\"\n",
            "_________________________________________________________________\n",
            "Layer (type)                 Output Shape              Param #   \n",
            "=================================================================\n",
            "conv2d_20 (Conv2D)           (None, 32, 32, 128)       3584      \n",
            "_________________________________________________________________\n",
            "leaky_re_lu_24 (LeakyReLU)   (None, 32, 32, 128)       0         \n",
            "_________________________________________________________________\n",
            "conv2d_21 (Conv2D)           (None, 32, 32, 128)       147584    \n",
            "_________________________________________________________________\n",
            "max_pooling2d_12 (MaxPooling (None, 16, 16, 128)       0         \n",
            "_________________________________________________________________\n",
            "leaky_re_lu_25 (LeakyReLU)   (None, 16, 16, 128)       0         \n",
            "_________________________________________________________________\n",
            "conv2d_22 (Conv2D)           (None, 16, 16, 256)       295168    \n",
            "_________________________________________________________________\n",
            "leaky_re_lu_26 (LeakyReLU)   (None, 16, 16, 256)       0         \n",
            "_________________________________________________________________\n",
            "max_pooling2d_13 (MaxPooling (None, 8, 8, 256)         0         \n",
            "_________________________________________________________________\n",
            "conv2d_23 (Conv2D)           (None, 8, 8, 512)         1180160   \n",
            "_________________________________________________________________\n",
            "leaky_re_lu_27 (LeakyReLU)   (None, 8, 8, 512)         0         \n",
            "_________________________________________________________________\n",
            "conv2d_24 (Conv2D)           (None, 6, 6, 256)         1179904   \n",
            "_________________________________________________________________\n",
            "leaky_re_lu_28 (LeakyReLU)   (None, 6, 6, 256)         0         \n",
            "_________________________________________________________________\n",
            "max_pooling2d_14 (MaxPooling (None, 3, 3, 256)         0         \n",
            "_________________________________________________________________\n",
            "flatten_4 (Flatten)          (None, 2304)              0         \n",
            "_________________________________________________________________\n",
            "dense_10 (Dense)             (None, 1024)              2360320   \n",
            "_________________________________________________________________\n",
            "leaky_re_lu_29 (LeakyReLU)   (None, 1024)              0         \n",
            "_________________________________________________________________\n",
            "dense_11 (Dense)             (None, 200)               205000    \n",
            "_________________________________________________________________\n",
            "dense_12 (Dense)             (None, 20)                4020      \n",
            "=================================================================\n",
            "Total params: 5,375,740\n",
            "Trainable params: 5,375,740\n",
            "Non-trainable params: 0\n",
            "_________________________________________________________________\n"
          ],
          "name": "stdout"
        }
      ]
    },
    {
      "cell_type": "code",
      "metadata": {
        "colab": {
          "base_uri": "https://localhost:8080/"
        },
        "id": "prkIY0SYIQmB",
        "outputId": "a83ac26f-2541-45cd-ab7d-b1e57209cf11"
      },
      "source": [
        "# 15 epochs, batch_size = 128\n",
        "history7 = MyCNN1.fit(x_train, y_train, epochs=15, batch_size=128, validation_data=(x_val, y_val))\n",
        "MyCNN1.save('MyCNN.h5')"
      ],
      "execution_count": null,
      "outputs": [
        {
          "output_type": "stream",
          "text": [
            "Epoch 1/15\n",
            "67/67 [==============================] - 37s 64ms/step - loss: 2.6641 - accuracy: 0.1915 - val_loss: 2.1525 - val_accuracy: 0.3267\n",
            "Epoch 2/15\n",
            "67/67 [==============================] - 3s 47ms/step - loss: 1.9183 - accuracy: 0.4141 - val_loss: 1.7950 - val_accuracy: 0.4533\n",
            "Epoch 3/15\n",
            "67/67 [==============================] - 3s 47ms/step - loss: 1.5745 - accuracy: 0.5172 - val_loss: 1.6512 - val_accuracy: 0.5053\n",
            "Epoch 4/15\n",
            "67/67 [==============================] - 3s 47ms/step - loss: 1.3768 - accuracy: 0.5780 - val_loss: 1.4884 - val_accuracy: 0.5393\n",
            "Epoch 5/15\n",
            "67/67 [==============================] - 3s 47ms/step - loss: 1.1657 - accuracy: 0.6342 - val_loss: 1.3342 - val_accuracy: 0.6007\n",
            "Epoch 6/15\n",
            "67/67 [==============================] - 3s 47ms/step - loss: 0.9436 - accuracy: 0.7040 - val_loss: 1.3757 - val_accuracy: 0.6173\n",
            "Epoch 7/15\n",
            "67/67 [==============================] - 3s 47ms/step - loss: 0.7740 - accuracy: 0.7582 - val_loss: 1.3240 - val_accuracy: 0.6213\n",
            "Epoch 8/15\n",
            "67/67 [==============================] - 3s 47ms/step - loss: 0.6024 - accuracy: 0.8053 - val_loss: 1.3539 - val_accuracy: 0.6273\n",
            "Epoch 9/15\n",
            "67/67 [==============================] - 3s 47ms/step - loss: 0.5058 - accuracy: 0.8365 - val_loss: 1.5750 - val_accuracy: 0.6167\n",
            "Epoch 10/15\n",
            "67/67 [==============================] - 3s 48ms/step - loss: 0.3747 - accuracy: 0.8818 - val_loss: 1.7747 - val_accuracy: 0.6100\n",
            "Epoch 11/15\n",
            "67/67 [==============================] - 3s 48ms/step - loss: 0.2644 - accuracy: 0.9125 - val_loss: 2.0180 - val_accuracy: 0.6260\n",
            "Epoch 12/15\n",
            "67/67 [==============================] - 3s 48ms/step - loss: 0.2966 - accuracy: 0.9080 - val_loss: 2.0617 - val_accuracy: 0.6053\n",
            "Epoch 13/15\n",
            "67/67 [==============================] - 3s 48ms/step - loss: 0.2825 - accuracy: 0.9107 - val_loss: 2.1550 - val_accuracy: 0.6107\n",
            "Epoch 14/15\n",
            "67/67 [==============================] - 3s 48ms/step - loss: 0.2611 - accuracy: 0.9211 - val_loss: 2.3879 - val_accuracy: 0.6213\n",
            "Epoch 15/15\n",
            "67/67 [==============================] - 3s 48ms/step - loss: 0.2293 - accuracy: 0.9316 - val_loss: 2.4232 - val_accuracy: 0.6227\n"
          ],
          "name": "stdout"
        }
      ]
    },
    {
      "cell_type": "code",
      "metadata": {
        "id": "FM8Bo66BQBIT",
        "colab": {
          "base_uri": "https://localhost:8080/"
        },
        "outputId": "34fc6b6a-c5fc-496a-8cd8-df77ade5489f"
      },
      "source": [
        "# MyCNN Using Adagrad Optimizer\n",
        "model = models.Sequential()\n",
        "model.add(layers.Conv2D(128, (3,3), padding=\"same\",input_shape=(32, 32, 3)))\n",
        "model.add(tf.keras.layers.LeakyReLU())\n",
        "model.add(layers.Conv2D(128, (3, 3), padding='same'))\n",
        "model.add(layers.MaxPooling2D((2, 2)))\n",
        "model.add(tf.keras.layers.LeakyReLU())\n",
        "model.add(layers.Conv2D(256, (3, 3), padding='same'))\n",
        "model.add(tf.keras.layers.LeakyReLU())\n",
        "model.add(layers.MaxPooling2D((2, 2)))\n",
        "model.add(layers.Conv2D(512, (3, 3), padding='same'))\n",
        "model.add(tf.keras.layers.LeakyReLU())\n",
        "model.add(layers.Conv2D(256, (3, 3)))\n",
        "model.add(tf.keras.layers.LeakyReLU())\n",
        "model.add(layers.MaxPooling2D((2, 2)))\n",
        "model.add(layers.Flatten())\n",
        "model.add(layers.Dense(1024))\n",
        "model.add(tf.keras.layers.LeakyReLU())\n",
        "model.add(layers.Dense(200))\n",
        "model.add(layers.Dense(classes_num, activation='softmax'))\n",
        "model.compile(optimizer='adagrad', loss= tf.keras.losses.sparse_categorical_crossentropy, metrics=['accuracy'])\n",
        "model.summary()\n"
      ],
      "execution_count": null,
      "outputs": [
        {
          "output_type": "stream",
          "text": [
            "Model: \"sequential_5\"\n",
            "_________________________________________________________________\n",
            "Layer (type)                 Output Shape              Param #   \n",
            "=================================================================\n",
            "conv2d_25 (Conv2D)           (None, 32, 32, 128)       3584      \n",
            "_________________________________________________________________\n",
            "leaky_re_lu_30 (LeakyReLU)   (None, 32, 32, 128)       0         \n",
            "_________________________________________________________________\n",
            "conv2d_26 (Conv2D)           (None, 32, 32, 128)       147584    \n",
            "_________________________________________________________________\n",
            "max_pooling2d_15 (MaxPooling (None, 16, 16, 128)       0         \n",
            "_________________________________________________________________\n",
            "leaky_re_lu_31 (LeakyReLU)   (None, 16, 16, 128)       0         \n",
            "_________________________________________________________________\n",
            "conv2d_27 (Conv2D)           (None, 16, 16, 256)       295168    \n",
            "_________________________________________________________________\n",
            "leaky_re_lu_32 (LeakyReLU)   (None, 16, 16, 256)       0         \n",
            "_________________________________________________________________\n",
            "max_pooling2d_16 (MaxPooling (None, 8, 8, 256)         0         \n",
            "_________________________________________________________________\n",
            "conv2d_28 (Conv2D)           (None, 8, 8, 512)         1180160   \n",
            "_________________________________________________________________\n",
            "leaky_re_lu_33 (LeakyReLU)   (None, 8, 8, 512)         0         \n",
            "_________________________________________________________________\n",
            "conv2d_29 (Conv2D)           (None, 6, 6, 256)         1179904   \n",
            "_________________________________________________________________\n",
            "leaky_re_lu_34 (LeakyReLU)   (None, 6, 6, 256)         0         \n",
            "_________________________________________________________________\n",
            "max_pooling2d_17 (MaxPooling (None, 3, 3, 256)         0         \n",
            "_________________________________________________________________\n",
            "flatten_5 (Flatten)          (None, 2304)              0         \n",
            "_________________________________________________________________\n",
            "dense_13 (Dense)             (None, 1024)              2360320   \n",
            "_________________________________________________________________\n",
            "leaky_re_lu_35 (LeakyReLU)   (None, 1024)              0         \n",
            "_________________________________________________________________\n",
            "dense_14 (Dense)             (None, 200)               205000    \n",
            "_________________________________________________________________\n",
            "dense_15 (Dense)             (None, 20)                4020      \n",
            "=================================================================\n",
            "Total params: 5,375,740\n",
            "Trainable params: 5,375,740\n",
            "Non-trainable params: 0\n",
            "_________________________________________________________________\n"
          ],
          "name": "stdout"
        }
      ]
    },
    {
      "cell_type": "code",
      "metadata": {
        "colab": {
          "base_uri": "https://localhost:8080/"
        },
        "id": "9Y8Ex4kpxaDc",
        "outputId": "1eeed4aa-0199-4c79-fc30-86e5bc9df3fa"
      },
      "source": [
        "model.summary()"
      ],
      "execution_count": null,
      "outputs": [
        {
          "output_type": "stream",
          "text": [
            "Model: \"sequential_5\"\n",
            "_________________________________________________________________\n",
            "Layer (type)                 Output Shape              Param #   \n",
            "=================================================================\n",
            "conv2d_25 (Conv2D)           (None, 32, 32, 128)       3584      \n",
            "_________________________________________________________________\n",
            "leaky_re_lu_30 (LeakyReLU)   (None, 32, 32, 128)       0         \n",
            "_________________________________________________________________\n",
            "conv2d_26 (Conv2D)           (None, 32, 32, 128)       147584    \n",
            "_________________________________________________________________\n",
            "max_pooling2d_15 (MaxPooling (None, 16, 16, 128)       0         \n",
            "_________________________________________________________________\n",
            "leaky_re_lu_31 (LeakyReLU)   (None, 16, 16, 128)       0         \n",
            "_________________________________________________________________\n",
            "conv2d_27 (Conv2D)           (None, 16, 16, 256)       295168    \n",
            "_________________________________________________________________\n",
            "leaky_re_lu_32 (LeakyReLU)   (None, 16, 16, 256)       0         \n",
            "_________________________________________________________________\n",
            "max_pooling2d_16 (MaxPooling (None, 8, 8, 256)         0         \n",
            "_________________________________________________________________\n",
            "conv2d_28 (Conv2D)           (None, 8, 8, 512)         1180160   \n",
            "_________________________________________________________________\n",
            "leaky_re_lu_33 (LeakyReLU)   (None, 8, 8, 512)         0         \n",
            "_________________________________________________________________\n",
            "conv2d_29 (Conv2D)           (None, 6, 6, 256)         1179904   \n",
            "_________________________________________________________________\n",
            "leaky_re_lu_34 (LeakyReLU)   (None, 6, 6, 256)         0         \n",
            "_________________________________________________________________\n",
            "max_pooling2d_17 (MaxPooling (None, 3, 3, 256)         0         \n",
            "_________________________________________________________________\n",
            "flatten_5 (Flatten)          (None, 2304)              0         \n",
            "_________________________________________________________________\n",
            "dense_13 (Dense)             (None, 1024)              2360320   \n",
            "_________________________________________________________________\n",
            "leaky_re_lu_35 (LeakyReLU)   (None, 1024)              0         \n",
            "_________________________________________________________________\n",
            "dense_14 (Dense)             (None, 200)               205000    \n",
            "_________________________________________________________________\n",
            "dense_15 (Dense)             (None, 20)                4020      \n",
            "=================================================================\n",
            "Total params: 5,375,740\n",
            "Trainable params: 5,375,740\n",
            "Non-trainable params: 0\n",
            "_________________________________________________________________\n"
          ],
          "name": "stdout"
        }
      ]
    },
    {
      "cell_type": "code",
      "metadata": {
        "colab": {
          "base_uri": "https://localhost:8080/"
        },
        "id": "S9udHGSoQBO1",
        "outputId": "a06baa46-121d-47bf-918b-54dab687c8c1"
      },
      "source": [
        "# 10 epochs, batch_size = 64\n",
        "history8 = model.fit(x_train, y_train, epochs=15, batch_size=64, validation_data=(x_val, y_val))\n",
        "model.save('MyCNN2.h5')"
      ],
      "execution_count": null,
      "outputs": [
        {
          "output_type": "stream",
          "text": [
            "Epoch 1/15\n",
            "133/133 [==============================] - 5s 30ms/step - loss: 2.9900 - accuracy: 0.0666 - val_loss: 2.9851 - val_accuracy: 0.0613\n",
            "Epoch 2/15\n",
            "133/133 [==============================] - 4s 27ms/step - loss: 2.9795 - accuracy: 0.0928 - val_loss: 2.9751 - val_accuracy: 0.1053\n",
            "Epoch 3/15\n",
            "133/133 [==============================] - 4s 27ms/step - loss: 2.9658 - accuracy: 0.0946 - val_loss: 2.9591 - val_accuracy: 0.1100\n",
            "Epoch 4/15\n",
            "133/133 [==============================] - 4s 28ms/step - loss: 2.9437 - accuracy: 0.1125 - val_loss: 2.9319 - val_accuracy: 0.1187\n",
            "Epoch 5/15\n",
            "133/133 [==============================] - 4s 28ms/step - loss: 2.9018 - accuracy: 0.1434 - val_loss: 2.8739 - val_accuracy: 0.1967\n",
            "Epoch 6/15\n",
            "133/133 [==============================] - 4s 28ms/step - loss: 2.8019 - accuracy: 0.2075 - val_loss: 2.7303 - val_accuracy: 0.2220\n",
            "Epoch 7/15\n",
            "133/133 [==============================] - 4s 28ms/step - loss: 2.6071 - accuracy: 0.2334 - val_loss: 2.5435 - val_accuracy: 0.2340\n",
            "Epoch 8/15\n",
            "133/133 [==============================] - 4s 28ms/step - loss: 2.4666 - accuracy: 0.2531 - val_loss: 2.4671 - val_accuracy: 0.2393\n",
            "Epoch 9/15\n",
            "133/133 [==============================] - 4s 28ms/step - loss: 2.3931 - accuracy: 0.2745 - val_loss: 2.4054 - val_accuracy: 0.2800\n",
            "Epoch 10/15\n",
            "133/133 [==============================] - 4s 28ms/step - loss: 2.3446 - accuracy: 0.2904 - val_loss: 2.3820 - val_accuracy: 0.2560\n",
            "Epoch 11/15\n",
            "133/133 [==============================] - 4s 28ms/step - loss: 2.2961 - accuracy: 0.3061 - val_loss: 2.3398 - val_accuracy: 0.2760\n",
            "Epoch 12/15\n",
            "133/133 [==============================] - 4s 28ms/step - loss: 2.2526 - accuracy: 0.3218 - val_loss: 2.2791 - val_accuracy: 0.2820\n",
            "Epoch 13/15\n",
            "133/133 [==============================] - 4s 28ms/step - loss: 2.2118 - accuracy: 0.3312 - val_loss: 2.2803 - val_accuracy: 0.2940\n",
            "Epoch 14/15\n",
            "133/133 [==============================] - 4s 28ms/step - loss: 2.1758 - accuracy: 0.3434 - val_loss: 2.2257 - val_accuracy: 0.3227\n",
            "Epoch 15/15\n",
            "133/133 [==============================] - 4s 28ms/step - loss: 2.1462 - accuracy: 0.3539 - val_loss: 2.1806 - val_accuracy: 0.3480\n"
          ],
          "name": "stdout"
        }
      ]
    },
    {
      "cell_type": "markdown",
      "metadata": {
        "id": "All8voQTRH27"
      },
      "source": [
        "#### **Βήμα 2: Αξιολόγηση των μοντέλων**\n",
        "\n",
        "1. Για κάθε ένα από τα μοντέλα που εκπαιδεύσατε, απεικονίστε σε κοινό διάγραμμα την ορθότητα εκπαίδευσης και την ορθότητα επικύρωσης στο σύνολο των εποχών, για κάθε διαφορετικό συνδυασμό του βήματος 1 και επιλέξτε αυτό με την καλύτερη ορθότητα από κάθε μοντέλο (ένα από κάθε αρχιτεκτονική, συνολικά 4).\n",
        "2. Για κάθε ένα από τα μοντέλα με την καλύτερη ορθότητα (συνολικά **4**), απεικονίστε σε κοινό διάγραμμα την ορθότητα εκπαίδευσης και την ορθότητα επικύρωσης στο σύνολο των εποχών.\n",
        "3. Αξιολογήστε, αναλυτικά, τα αποτελέσματά σας ως προς τα εξής:\n",
        " - Επίδραση του πλήθους των δεδομένων/κλάσεων στην απόδοση του μοντέλου\n",
        " - Επίδραση του αλγόριθμου βελτιστοποίησης (optimizer)\n",
        " - Επίδραση του μεγέθους δέσμης (batch size)\n",
        " \n",
        " "
      ]
    },
    {
      "cell_type": "code",
      "metadata": {
        "id": "Vhxop73ISsUB"
      },
      "source": [
        "# Function for plotting\n",
        "def plot_acc(history):\n",
        "  fig = plt.figure()\n",
        "  plt.plot(history.history['accuracy'], label='accuracy')\n",
        "  plt.plot(history.history['val_accuracy'], label = 'val_accuracy')\n",
        "  plt.xlabel('Epoch')\n",
        "  plt.ylabel('Accuracy')\n",
        "  plt.legend(loc='lower right')"
      ],
      "execution_count": null,
      "outputs": []
    },
    {
      "cell_type": "markdown",
      "metadata": {
        "id": "-qHJ2gfwRtGV"
      },
      "source": [
        "####**Μοντέλο1: LeNet**"
      ]
    },
    {
      "cell_type": "code",
      "metadata": {
        "colab": {
          "base_uri": "https://localhost:8080/",
          "height": 279
        },
        "id": "Y23wvIpHRd5D",
        "outputId": "55c1a74e-3b90-4819-a6a4-8c3e27b69fb2"
      },
      "source": [
        "# Adam Optimizer\n",
        "plot_acc(history1)\n",
        "plt.show()"
      ],
      "execution_count": null,
      "outputs": [
        {
          "output_type": "display_data",
          "data": {
            "image/png": "[encoded data removed]",
            "text/plain": [
              "<Figure size 432x288 with 1 Axes>"
            ]
          },
          "metadata": {
            "tags": [],
            "needs_background": "light"
          }
        }
      ]
    },
    {
      "cell_type": "code",
      "metadata": {
        "colab": {
          "base_uri": "https://localhost:8080/",
          "height": 281
        },
        "id": "xO6_KWlOXOsW",
        "outputId": "caaf7e08-bb2c-4903-fd6e-dc336e6f475a"
      },
      "source": [
        "# Stochastic Gradient Descent Optimizer\n",
        "plot_acc(history2)\n",
        "plt.show()"
      ],
      "execution_count": null,
      "outputs": [
        {
          "output_type": "display_data",
          "data": {
            "image/png": "[encoded data removed]",
            "text/plain": [
              "<Figure size 432x288 with 1 Axes>"
            ]
          },
          "metadata": {
            "tags": [],
            "needs_background": "light"
          }
        }
      ]
    },
    {
      "cell_type": "markdown",
      "metadata": {
        "id": "-0NuangkYGhU"
      },
      "source": [
        "#### **Μοντέλο2: AlexNet**"
      ]
    },
    {
      "cell_type": "code",
      "metadata": {
        "id": "7ZKOmNc4XOx5",
        "colab": {
          "base_uri": "https://localhost:8080/",
          "height": 279
        },
        "outputId": "5411c226-2f56-47b3-9ed7-587b0823844a"
      },
      "source": [
        "# Adam Optimizer\n",
        "plot_acc(history3)\n",
        "plt.show()"
      ],
      "execution_count": null,
      "outputs": [
        {
          "output_type": "display_data",
          "data": {
            "image/png": "[encoded data removed]",
            "text/plain": [
              "<Figure size 432x288 with 1 Axes>"
            ]
          },
          "metadata": {
            "tags": [],
            "needs_background": "light"
          }
        }
      ]
    },
    {
      "cell_type": "code",
      "metadata": {
        "id": "6UAqL37WXO1X",
        "colab": {
          "base_uri": "https://localhost:8080/",
          "height": 279
        },
        "outputId": "b5439d7b-7111-49c6-e597-2ec8da26a0f3"
      },
      "source": [
        "# Stochastic Gradient Descent Optimizer\n",
        "plot_acc(history4)\n",
        "plt.show()"
      ],
      "execution_count": null,
      "outputs": [
        {
          "output_type": "display_data",
          "data": {
            "image/png": "[encoded data removed]",
            "text/plain": [
              "<Figure size 432x288 with 1 Axes>"
            ]
          },
          "metadata": {
            "tags": [],
            "needs_background": "light"
          }
        }
      ]
    },
    {
      "cell_type": "markdown",
      "metadata": {
        "id": "Potpb_y6eO3m"
      },
      "source": [
        "####**Μοντέλο3: VGG**"
      ]
    },
    {
      "cell_type": "code",
      "metadata": {
        "id": "O-cHq7NwXHXu",
        "colab": {
          "base_uri": "https://localhost:8080/",
          "height": 279
        },
        "outputId": "898a5a67-830e-4c99-da6f-767c0e278241"
      },
      "source": [
        "# Adam Optimizer\n",
        "plot_acc(model_history5)\n",
        "plt.show()"
      ],
      "execution_count": null,
      "outputs": [
        {
          "output_type": "display_data",
          "data": {
            "image/png": "[encoded data removed]",
            "text/plain": [
              "<Figure size 432x288 with 1 Axes>"
            ]
          },
          "metadata": {
            "tags": [],
            "needs_background": "light"
          }
        }
      ]
    },
    {
      "cell_type": "code",
      "metadata": {
        "colab": {
          "base_uri": "https://localhost:8080/",
          "height": 279
        },
        "id": "e5VgCivde0AM",
        "outputId": "253bff5f-03db-46ac-8667-7e0ce9b41734"
      },
      "source": [
        "# Stochastic Gradient Descent Optimizer\n",
        "plot_acc(model_history6)\n",
        "plt.show()"
      ],
      "execution_count": null,
      "outputs": [
        {
          "output_type": "display_data",
          "data": {
            "image/png": "[encoded data removed]",
            "text/plain": [
              "<Figure size 432x288 with 1 Axes>"
            ]
          },
          "metadata": {
            "tags": [],
            "needs_background": "light"
          }
        }
      ]
    },
    {
      "cell_type": "markdown",
      "metadata": {
        "id": "UnUgh1L2e-Xz"
      },
      "source": [
        "####**Μοντέλο4: MyCNN**"
      ]
    },
    {
      "cell_type": "code",
      "metadata": {
        "colab": {
          "base_uri": "https://localhost:8080/",
          "height": 279
        },
        "id": "chealB7re0Cq",
        "outputId": "31f33dab-9130-4772-b3d7-9259d5e7bd44"
      },
      "source": [
        "# Adam\n",
        "plot_acc(history7)\n",
        "plt.show()"
      ],
      "execution_count": null,
      "outputs": [
        {
          "output_type": "display_data",
          "data": {
            "image/png": "[encoded data removed]",
            "text/plain": [
              "<Figure size 432x288 with 1 Axes>"
            ]
          },
          "metadata": {
            "tags": [],
            "needs_background": "light"
          }
        }
      ]
    },
    {
      "cell_type": "code",
      "metadata": {
        "colab": {
          "base_uri": "https://localhost:8080/",
          "height": 279
        },
        "id": "NREoDKdOe0GV",
        "outputId": "a3e10105-429e-4767-e823-faec4debd95d"
      },
      "source": [
        "# Adagrad\n",
        "plot_acc(history8)\n",
        "plt.show()"
      ],
      "execution_count": null,
      "outputs": [
        {
          "output_type": "display_data",
          "data": {
            "image/png": "[encoded data removed]",
            "text/plain": [
              "<Figure size 432x288 with 1 Axes>"
            ]
          },
          "metadata": {
            "tags": [],
            "needs_background": "light"
          }
        }
      ]
    },
    {
      "cell_type": "markdown",
      "metadata": {
        "id": "XBySaToBfqz3"
      },
      "source": [
        "Από τις γραφικές παραστάσεις του μοντέλου MyCNN είναι εμφανές ότι ο πρώτος συνδυασμός επιφέρει καλύτερη ευστοχία."
      ]
    },
    {
      "cell_type": "markdown",
      "metadata": {
        "id": "i3CsflEhf-i9"
      },
      "source": [
        "Στη συνέχεια απεικονίζονται σε κοινό γράφημα η ακρίβεια εκπαίδευσης και η ακρίβεια επικύρωσης από τα 4 μοντέλα που εκπαιδεύσαμε σε κάθε εποχή. Επιλέγουμε τις περιπτώσεις με την καλύτερη ευστοχία."
      ]
    },
    {
      "cell_type": "code",
      "metadata": {
        "colab": {
          "base_uri": "https://localhost:8080/",
          "height": 730
        },
        "id": "pha1xUomfdDM",
        "outputId": "5880d110-d571-4373-b782-69df74143861"
      },
      "source": [
        "def all_models(h, arr):\n",
        "  fig = plt.figure(figsize=(12,12))\n",
        "  plt.title(\"Accuracy and Validation Accuracy of different Neural Network models\")\n",
        "  i=0\n",
        "  color_arr = ['r','b','m','g','y']\n",
        "  for history in h:\n",
        "    plt.plot(history.history['accuracy'], label=arr[i]+': accuracy', color=color_arr[i%5])\n",
        "    plt.plot(history.history['val_accuracy'], linestyle='dashed', label = arr[i] + ': val_accuracy',color=color_arr[i%5])\n",
        "    i+=1\n",
        "\n",
        "  plt.xlabel('Epoch')\n",
        "  plt.ylabel('Accuracy')\n",
        "  plt.legend(loc='lower right')\n",
        "\n",
        "all_models([history1, history3, model_history5, history7,], ['LeNet', 'AlexNet', 'VGG', 'MyCNN'])"
      ],
      "execution_count": null,
      "outputs": [
        {
          "output_type": "display_data",
          "data": {
            "image/png": "[encoded data removed]",
            "text/plain": [
              "<Figure size 864x864 with 1 Axes>"
            ]
          },
          "metadata": {
            "tags": [],
            "needs_background": "light"
          }
        }
      ]
    },
    {
      "cell_type": "markdown",
      "metadata": {
        "id": "Jd_dxAD_isYI"
      },
      "source": [
        "###**Αξιολόγηση Αποτελεσμάτων**"
      ]
    },
    {
      "cell_type": "markdown",
      "metadata": {
        "id": "GP8z7zK2iy-3"
      },
      "source": [
        "**1. Επίδραση του πλήθους των δεδομένων/κλάσεων στην απόδοση του μοντέλου**"
      ]
    },
    {
      "cell_type": "markdown",
      "metadata": {
        "id": "RnBhQ7efj1jd"
      },
      "source": [
        "Από τα παραπάνω παρατηρούμε ότι η απόδοση της εκπαίδευσης του CNN, μειώνεται όσο μεγαλώνουμε το πλήθος δεδομένων του CIFAR100, καθώς η εισαγωγή νέων εικόνων αυξάνει τις κλάσεις. Επίσης, ο χρόνος ολοκλήρωσης σε κάθε εποχή είναι αυξημένος αφού πρέπει να εισάγουμε μεγαλύτερο training set. Έτσι η εκπαίδευση του μοντέλου γίνεται πιο δύσκολη."
      ]
    },
    {
      "cell_type": "markdown",
      "metadata": {
        "id": "PEGoHszJlD_b"
      },
      "source": [
        "**2. Επίδραση του αλγόριθμου βελτιστοποίησης (optimizer)**"
      ]
    },
    {
      "cell_type": "markdown",
      "metadata": {
        "id": "Qf1jtmtplEEh"
      },
      "source": [
        "Με βάσει τις δοκιμές, παρατηρούμε ότι ο Adam Optimizer συγκλίνει γρήγορα σε αρκετές δοκιμές, ενώ ο SGD Optimizer συγκλίνει γρήγορα σε μεγάλα accurancies. Επίσης ο Adam Optimizer έχει καλύτερη ευστοχία σε σχέση με τον SGD(με εξαίρεση το μοντέλο VGG). Τέλος έγινε και εφαρμογή του Adagrad Optimize, ο οποίος φαίνεται να πετυχαίνει μεγαλύτερο robustness σε σχέση με τον SGD.  "
      ]
    },
    {
      "cell_type": "markdown",
      "metadata": {
        "id": "r78jFiMtlEKq"
      },
      "source": [
        "**3. Επίδραση του μεγέθους δέσμης (batch size)**"
      ]
    },
    {
      "cell_type": "markdown",
      "metadata": {
        "id": "X25BJZe6nC2o"
      },
      "source": [
        "Γενικά, όσο μεγαλύτερο είναι το batch size, τόσο μικρότερο variance θα έχουμε, αφού χρησιμοποιούνται πολλές εικόνες σαν input. Από την άλλη, τα μικρά batch size έχουν μεγάλο θόρυβο και διακυμάνσεις αλλα διευκολύνουν την τοποθέτηση δεδομένων εκπαίδευσης στη μνήμη. Στην εκπαίδευση των μοντέλων παρατηρήθηκε ότι, με μεγαλύτερο batch size οι κύκλοι εποχής ολοκληρώνονται ταχύτερα, ενώ έχουμε πιο αργή σύγκλιση σε μεγάλες τιμες accurancies."
      ]
    },
    {
      "cell_type": "markdown",
      "metadata": {
        "id": "ZpxXrM_vnC51"
      },
      "source": [
        "\n",
        "#### **Βήμα 3: Αξιολόγηση ορθότητας**\n",
        "\n",
        "Αξιολογήστε την ορθότητα για το test set σας."
      ]
    },
    {
      "cell_type": "markdown",
      "metadata": {
        "id": "7NEb6R_yt4vX"
      },
      "source": [
        "Φορτώνουμε τις ιστορίες των μοντέλων που αποθηκεύτηκαν."
      ]
    },
    {
      "cell_type": "code",
      "metadata": {
        "id": "xNZ2zhpTMT_P"
      },
      "source": [
        ""
      ],
      "execution_count": null,
      "outputs": []
    },
    {
      "cell_type": "markdown",
      "metadata": {
        "id": "ZtIW3aTgpXXs"
      },
      "source": [
        "####**Μοντέλο1: LeNet**"
      ]
    },
    {
      "cell_type": "code",
      "metadata": {
        "colab": {
          "base_uri": "https://localhost:8080/"
        },
        "id": "Tbv7HZn5e0If",
        "outputId": "2e8a29d9-17e0-42b1-9eab-3b2cd8530fa6"
      },
      "source": [
        "LeNet1 =  tf.keras.models.load_model('LeNet_1.h5')\n",
        "\n",
        "print(\"LeNet Model1\")\n",
        "LeNet1.evaluate(x_test, y_test)"
      ],
      "execution_count": null,
      "outputs": [
        {
          "output_type": "stream",
          "text": [
            "LeNet Model1\n",
            "63/63 [==============================] - 0s 3ms/step - loss: 1.8548 - accuracy: 0.4275\n"
          ],
          "name": "stdout"
        },
        {
          "output_type": "execute_result",
          "data": {
            "text/plain": [
              "[1.854777216911316, 0.42750000953674316]"
            ]
          },
          "metadata": {
            "tags": []
          },
          "execution_count": 44
        }
      ]
    },
    {
      "cell_type": "code",
      "metadata": {
        "colab": {
          "base_uri": "https://localhost:8080/"
        },
        "id": "wQMHQcGAe0LX",
        "outputId": "2b77c83c-d725-4acc-b621-790fc991260c"
      },
      "source": [
        "LeNet2 =  tf.keras.models.load_model('LeNet_2.h5')\n",
        "\n",
        "print(\"LeNet Model2\")\n",
        "LeNet2.evaluate(x_test, y_test)"
      ],
      "execution_count": null,
      "outputs": [
        {
          "output_type": "stream",
          "text": [
            "LeNet Model2\n",
            "63/63 [==============================] - 0s 3ms/step - loss: 2.9964 - accuracy: 0.0500\n"
          ],
          "name": "stdout"
        },
        {
          "output_type": "execute_result",
          "data": {
            "text/plain": [
              "[2.9964487552642822, 0.05000000074505806]"
            ]
          },
          "metadata": {
            "tags": []
          },
          "execution_count": 49
        }
      ]
    },
    {
      "cell_type": "markdown",
      "metadata": {
        "id": "UXkYpVpsrk0j"
      },
      "source": [
        "####**Μοντέλο2: AlexNet**"
      ]
    },
    {
      "cell_type": "code",
      "metadata": {
        "colab": {
          "base_uri": "https://localhost:8080/"
        },
        "id": "BMtZjJOMe0Oi",
        "outputId": "572f9d14-71c7-4cfa-d64f-a25109287f63"
      },
      "source": [
        "AlexNet1 =  tf.keras.models.load_model('AlexNet_1.h5')\n",
        "\n",
        "print(\"AlexNet Model1\")\n",
        "AlexNet1.evaluate(x_test, y_test)"
      ],
      "execution_count": null,
      "outputs": [
        {
          "output_type": "stream",
          "text": [
            "AlexNet Model1\n",
            "63/63 [==============================] - 3s 46ms/step - loss: 1.3283 - accuracy: 0.6505\n"
          ],
          "name": "stdout"
        },
        {
          "output_type": "execute_result",
          "data": {
            "text/plain": [
              "[1.3282601833343506, 0.6504999995231628]"
            ]
          },
          "metadata": {
            "tags": []
          },
          "execution_count": 86
        }
      ]
    },
    {
      "cell_type": "code",
      "metadata": {
        "colab": {
          "base_uri": "https://localhost:8080/"
        },
        "id": "2tPpJcm3r6GN",
        "outputId": "bd3114ae-ea19-46af-bf68-e01b32584e80"
      },
      "source": [
        "AlexNet2 =  tf.keras.models.load_model('AlexNet_2.h5')\n",
        "\n",
        "print(\"AlexNet Model2\")\n",
        "AlexNet2.evaluate(x_test, y_test)"
      ],
      "execution_count": null,
      "outputs": [
        {
          "output_type": "stream",
          "text": [
            "AlexNet Model2\n",
            "63/63 [==============================] - 3s 48ms/step - loss: 2.3250 - accuracy: 0.5835\n"
          ],
          "name": "stdout"
        },
        {
          "output_type": "execute_result",
          "data": {
            "text/plain": [
              "[2.324951171875, 0.5835000276565552]"
            ]
          },
          "metadata": {
            "tags": []
          },
          "execution_count": 87
        }
      ]
    },
    {
      "cell_type": "markdown",
      "metadata": {
        "id": "zJMgiTxFsC7R"
      },
      "source": [
        "####**Μοντέλο3:VGG**"
      ]
    },
    {
      "cell_type": "code",
      "metadata": {
        "colab": {
          "base_uri": "https://localhost:8080/"
        },
        "id": "mJbuggTzr6Ir",
        "outputId": "cea9ecd1-53dd-4d8e-d131-cf2d25487029"
      },
      "source": [
        "VGG1 =  tf.keras.models.load_model('VGG_1.h5')\n",
        "\n",
        "print(\"VGG Model1\")\n",
        "VGG1.evaluate(x_test, y_test)"
      ],
      "execution_count": null,
      "outputs": [
        {
          "output_type": "stream",
          "text": [
            "VGG Model1\n",
            "63/63 [==============================] - 34s 363ms/step - loss: 2.6966 - accuracy: 0.4870\n"
          ],
          "name": "stdout"
        },
        {
          "output_type": "execute_result",
          "data": {
            "text/plain": [
              "[2.6966395378112793, 0.4869999885559082]"
            ]
          },
          "metadata": {
            "tags": []
          },
          "execution_count": 89
        }
      ]
    },
    {
      "cell_type": "code",
      "metadata": {
        "colab": {
          "base_uri": "https://localhost:8080/"
        },
        "id": "d8k_1-OOr6L4",
        "outputId": "4f2d0917-a105-4c54-9161-a314162fae29"
      },
      "source": [
        "VGG2 =  tf.keras.models.load_model('VGG_2.h5')\n",
        "\n",
        "print(\"VGG Model2\")\n",
        "VGG2.evaluate(x_test, y_test)"
      ],
      "execution_count": null,
      "outputs": [
        {
          "output_type": "stream",
          "text": [
            "VGG Model2\n",
            "63/63 [==============================] - 18s 273ms/step - loss: 1.4895 - accuracy: 0.6480\n"
          ],
          "name": "stdout"
        },
        {
          "output_type": "execute_result",
          "data": {
            "text/plain": [
              "[1.4895334243774414, 0.6480000019073486]"
            ]
          },
          "metadata": {
            "tags": []
          },
          "execution_count": 90
        }
      ]
    },
    {
      "cell_type": "markdown",
      "metadata": {
        "id": "Gs4H2O4EtH6m"
      },
      "source": [
        "####**Μοντέλο4:MyCNN**"
      ]
    },
    {
      "cell_type": "code",
      "metadata": {
        "colab": {
          "base_uri": "https://localhost:8080/"
        },
        "id": "kCEjtnH5r6Pk",
        "outputId": "dc145e34-962b-4e96-8ac0-0b568dfe41e9"
      },
      "source": [
        "MyCNN1 =  tf.keras.models.load_model('MyCNN.h5')\n",
        "\n",
        "print(\"MyCNN Model1\")\n",
        "MyCNN1.evaluate(x_test, y_test)"
      ],
      "execution_count": null,
      "outputs": [
        {
          "output_type": "stream",
          "text": [
            "MyCNN Model1\n",
            "63/63 [==============================] - 1s 9ms/step - loss: 2.3306 - accuracy: 0.6440\n"
          ],
          "name": "stdout"
        },
        {
          "output_type": "execute_result",
          "data": {
            "text/plain": [
              "[2.3306000232696533, 0.6439999938011169]"
            ]
          },
          "metadata": {
            "tags": []
          },
          "execution_count": 50
        }
      ]
    },
    {
      "cell_type": "code",
      "metadata": {
        "colab": {
          "base_uri": "https://localhost:8080/"
        },
        "id": "p1s8AhzitlNg",
        "outputId": "52a4dea8-6205-4bcd-d7ea-4db02c34f0bf"
      },
      "source": [
        "MyCNN2 =  tf.keras.models.load_model('MyCNN2.h5')\n",
        "\n",
        "print(\"MyCNN Model2\")\n",
        "MyCNN2.evaluate(x_test, y_test)"
      ],
      "execution_count": null,
      "outputs": [
        {
          "output_type": "stream",
          "text": [
            "MyCNN Model2\n",
            "63/63 [==============================] - 1s 8ms/step - loss: 2.1785 - accuracy: 0.3590\n"
          ],
          "name": "stdout"
        },
        {
          "output_type": "execute_result",
          "data": {
            "text/plain": [
              "[2.178544759750366, 0.35899999737739563]"
            ]
          },
          "metadata": {
            "tags": []
          },
          "execution_count": 51
        }
      ]
    },
    {
      "cell_type": "markdown",
      "metadata": {
        "id": "fbdWrnEvuiZk"
      },
      "source": [
        "Παρατηρούμε ότι το AlexNet παρουσιάζει την μεγαλύτερη ακρίβεια σε σχέση με τα υπόλοιπα μοντέλα. Αυτό διαπιστώνεται και από τα παραπάνω αποτελέσματα κατά την εκπαίδευση. Επίσης, το πιο υψηλό loss το έχει το δικό μας μοντέλο και ακολουθεί το LeNet(λίγα convolutional layers). Παράλληλα τα accurancies τους, έχουν ικανοποιητικές τιμές."
      ]
    },
    {
      "cell_type": "markdown",
      "metadata": {
        "id": "v8rhgSGOV5pm"
      },
      "source": [
        "\n",
        "## Ερώτημα 2\n",
        "---\n",
        "### Βήμα 1: Έλεγχος υπερεκπαίδευσης\n",
        "\n",
        "Για τον καλύτερο συνδυασμό που λάβατε από το Ερώτημα 1 για μοντέλο σας  (**MyCNN**) και μόνο, δοκιμάστε διάφορους συνδυασμούς των ακόλουθων τεχνικών για τον έλεγχο της υπερεκπαίδευσης (overfitting), όπως: \n",
        "- Πρόωρος τερματισμός (early stopping [tf.keras.callbacks.EarlyStopping](https://www.tensorflow.org/api_docs/python/tf/keras/callbacks/EarlyStoppinghttps://)) \n",
        "\n",
        "- Dropout ([Dropout](https://www.tensorflow.org/tutorials/images/classification#dropout))\n",
        "\n",
        "- Επαύξηση δεδομένων ([Data augmentation](https://www.tensorflow.org/tutorials/images/classification#data_augmentation), [ImageDataGenerator](https://www.tensorflow.org/api_docs/python/tf/keras/preprocessing/image/ImageDataGenerator#class_imagedatagenerator)) \n",
        "\n",
        "\\\\\n",
        ", ώστε το μοντέλο σας να γενικεύει καλύτερα.\n",
        "\n"
      ]
    },
    {
      "cell_type": "markdown",
      "metadata": {
        "id": "By3FoPxO3jvQ"
      },
      "source": [
        "**2. Dropout**"
      ]
    },
    {
      "cell_type": "markdown",
      "metadata": {
        "id": "DID_UXu93zQN"
      },
      "source": [
        "Μέσω της τεχνικής Dropout, αγνοούνται κάποιες μονάδες του νευρωνικού κατά την εκπαίδευση με τυχαίο τρόπο. Επιβάλλεται στα βάρη του νευρωνικού η μηδενική τιμή, ώστε η ολική κατανομή των βαρών να πλησιάζει την κανονική. Έτσι μειώνεται το overfitting. Θα χρησιμοποιήσουμε το μοντέλο MyCNN με τα καλύτερα αποτελέσματα και θα το εκπαιδεύσουμε εξ'αρχής."
      ]
    },
    {
      "cell_type": "code",
      "metadata": {
        "id": "IqMFn-wX56k3",
        "colab": {
          "base_uri": "https://localhost:8080/"
        },
        "outputId": "ada1941b-8a0b-462c-8c6d-1dbec0944398"
      },
      "source": [
        "# MyCNN Using Adam Optimizer\n",
        "mycnn_1 = models.Sequential()\n",
        "mycnn_1.add(layers.Conv2D(128, (3,3), padding=\"same\",input_shape=(32, 32, 3)))\n",
        "mycnn_1.add(tf.keras.layers.LeakyReLU())\n",
        "mycnn_1.add(layers.Conv2D(128, (3, 3), padding='same'))\n",
        "mycnn_1.add(layers.MaxPooling2D((2, 2)))\n",
        "mycnn_1.add(layers.Dropout(0.05))\n",
        "mycnn_1.add(tf.keras.layers.LeakyReLU())\n",
        "mycnn_1.add(layers.Conv2D(256, (3, 3), padding='same'))\n",
        "mycnn_1.add(tf.keras.layers.LeakyReLU())\n",
        "mycnn_1.add(layers.MaxPooling2D((2, 2)))\n",
        "mycnn_1.add(layers.Dropout(0.05))\n",
        "mycnn_1.add(layers.Conv2D(512, (3, 3), padding='same'))\n",
        "mycnn_1.add(tf.keras.layers.LeakyReLU())\n",
        "mycnn_1.add(layers.Conv2D(256, (3, 3)))\n",
        "mycnn_1.add(tf.keras.layers.LeakyReLU())\n",
        "mycnn_1.add(layers.MaxPooling2D((2, 2)))\n",
        "mycnn_1.add(layers.Dropout(0.05))\n",
        "mycnn_1.add(layers.Flatten())\n",
        "mycnn_1.add(layers.Dense(1024))\n",
        "mycnn_1.add(tf.keras.layers.LeakyReLU())\n",
        "mycnn_1.add(layers.Dropout(0.05))\n",
        "mycnn_1.add(layers.Dense(200))\n",
        "mycnn_1.add(tf.keras.layers.LeakyReLU())\n",
        "mycnn_1.add(layers.Dropout(0.05))\n",
        "mycnn_1.add(layers.Dense(classes_num, activation='softmax'))\n",
        "mycnn_1.add(layers.Dropout(0.05))\n",
        "\n",
        "\n",
        "mycnn_1.compile(optimizer='adam', loss=tf.keras.losses.sparse_categorical_crossentropy, metrics=['accuracy'])\n",
        "mycnn_1.summary()\n"
      ],
      "execution_count": null,
      "outputs": [
        {
          "output_type": "stream",
          "text": [
            "Model: \"sequential_10\"\n",
            "_________________________________________________________________\n",
            "Layer (type)                 Output Shape              Param #   \n",
            "=================================================================\n",
            "conv2d_44 (Conv2D)           (None, 32, 32, 128)       3584      \n",
            "_________________________________________________________________\n",
            "leaky_re_lu_50 (LeakyReLU)   (None, 32, 32, 128)       0         \n",
            "_________________________________________________________________\n",
            "conv2d_45 (Conv2D)           (None, 32, 32, 128)       147584    \n",
            "_________________________________________________________________\n",
            "max_pooling2d_28 (MaxPooling (None, 16, 16, 128)       0         \n",
            "_________________________________________________________________\n",
            "dropout_12 (Dropout)         (None, 16, 16, 128)       0         \n",
            "_________________________________________________________________\n",
            "leaky_re_lu_51 (LeakyReLU)   (None, 16, 16, 128)       0         \n",
            "_________________________________________________________________\n",
            "conv2d_46 (Conv2D)           (None, 16, 16, 256)       295168    \n",
            "_________________________________________________________________\n",
            "leaky_re_lu_52 (LeakyReLU)   (None, 16, 16, 256)       0         \n",
            "_________________________________________________________________\n",
            "max_pooling2d_29 (MaxPooling (None, 8, 8, 256)         0         \n",
            "_________________________________________________________________\n",
            "dropout_13 (Dropout)         (None, 8, 8, 256)         0         \n",
            "_________________________________________________________________\n",
            "conv2d_47 (Conv2D)           (None, 8, 8, 512)         1180160   \n",
            "_________________________________________________________________\n",
            "leaky_re_lu_53 (LeakyReLU)   (None, 8, 8, 512)         0         \n",
            "_________________________________________________________________\n",
            "conv2d_48 (Conv2D)           (None, 6, 6, 256)         1179904   \n",
            "_________________________________________________________________\n",
            "leaky_re_lu_54 (LeakyReLU)   (None, 6, 6, 256)         0         \n",
            "_________________________________________________________________\n",
            "max_pooling2d_30 (MaxPooling (None, 3, 3, 256)         0         \n",
            "_________________________________________________________________\n",
            "dropout_14 (Dropout)         (None, 3, 3, 256)         0         \n",
            "_________________________________________________________________\n",
            "flatten_10 (Flatten)         (None, 2304)              0         \n",
            "_________________________________________________________________\n",
            "dense_28 (Dense)             (None, 1024)              2360320   \n",
            "_________________________________________________________________\n",
            "leaky_re_lu_55 (LeakyReLU)   (None, 1024)              0         \n",
            "_________________________________________________________________\n",
            "dropout_15 (Dropout)         (None, 1024)              0         \n",
            "_________________________________________________________________\n",
            "dense_29 (Dense)             (None, 200)               205000    \n",
            "_________________________________________________________________\n",
            "leaky_re_lu_56 (LeakyReLU)   (None, 200)               0         \n",
            "_________________________________________________________________\n",
            "dropout_16 (Dropout)         (None, 200)               0         \n",
            "_________________________________________________________________\n",
            "dense_30 (Dense)             (None, 20)                4020      \n",
            "_________________________________________________________________\n",
            "dropout_17 (Dropout)         (None, 20)                0         \n",
            "=================================================================\n",
            "Total params: 5,375,740\n",
            "Trainable params: 5,375,740\n",
            "Non-trainable params: 0\n",
            "_________________________________________________________________\n"
          ],
          "name": "stdout"
        }
      ]
    },
    {
      "cell_type": "code",
      "metadata": {
        "colab": {
          "base_uri": "https://localhost:8080/"
        },
        "id": "-AgH1hS28WnW",
        "outputId": "d1b9c0bb-8a1b-47b1-a200-38e004ef39a5"
      },
      "source": [
        "# 10 epochs, batch_size = 64\n",
        "history9 = mycnn_1.fit(x_train, y_train, epochs=10, batch_size=64, validation_data=(x_val, y_val))\n",
        "mycnn_1.save('MyCNN_dropout.h5')"
      ],
      "execution_count": null,
      "outputs": [
        {
          "output_type": "stream",
          "text": [
            "Epoch 1/10\n",
            "133/133 [==============================] - 5s 29ms/step - loss: 3.1804 - accuracy: 0.2358 - val_loss: 1.9888 - val_accuracy: 0.3893\n",
            "Epoch 2/10\n",
            "133/133 [==============================] - 4s 28ms/step - loss: 2.4780 - accuracy: 0.4182 - val_loss: 1.7411 - val_accuracy: 0.4593\n",
            "Epoch 3/10\n",
            "133/133 [==============================] - 4s 28ms/step - loss: 2.2006 - accuracy: 0.5026 - val_loss: 1.4789 - val_accuracy: 0.5413\n",
            "Epoch 4/10\n",
            "133/133 [==============================] - 4s 28ms/step - loss: 2.0426 - accuracy: 0.5594 - val_loss: 1.6122 - val_accuracy: 0.5347\n",
            "Epoch 5/10\n",
            "133/133 [==============================] - 4s 28ms/step - loss: 1.8548 - accuracy: 0.6051 - val_loss: 1.4832 - val_accuracy: 0.5800\n",
            "Epoch 6/10\n",
            "133/133 [==============================] - 4s 28ms/step - loss: 1.6938 - accuracy: 0.6456 - val_loss: 1.4199 - val_accuracy: 0.6107\n",
            "Epoch 7/10\n",
            "133/133 [==============================] - 4s 28ms/step - loss: 1.4523 - accuracy: 0.6982 - val_loss: 1.7179 - val_accuracy: 0.5860\n",
            "Epoch 8/10\n",
            "133/133 [==============================] - 4s 28ms/step - loss: 1.4007 - accuracy: 0.7191 - val_loss: 1.9132 - val_accuracy: 0.5807\n",
            "Epoch 9/10\n",
            "133/133 [==============================] - 4s 28ms/step - loss: 1.3411 - accuracy: 0.7382 - val_loss: 2.0630 - val_accuracy: 0.5900\n",
            "Epoch 10/10\n",
            "133/133 [==============================] - 4s 28ms/step - loss: 1.3277 - accuracy: 0.7429 - val_loss: 2.0620 - val_accuracy: 0.6007\n"
          ],
          "name": "stdout"
        }
      ]
    },
    {
      "cell_type": "markdown",
      "metadata": {
        "id": "9td8hDjGwRLh"
      },
      "source": [
        "**1. Early Stopping**"
      ]
    },
    {
      "cell_type": "markdown",
      "metadata": {
        "id": "xvrp3t2tw003"
      },
      "source": [
        "Η τεχνική αυτή χρησιμοποιείται για την αποφυγή του overfitting, ενώ εκπαιδεύεται κάποιο μοντέλο με επαναληπτική μέθοδο. Καθορίζει έναν επαρκή αριθμό εποχών εκπαίδευσης, εφόσον η διαδικασία της εκπαίδευσης διακόπτεται όταν η απόδοση του μοντέλου σταματά να παρουσιάζει βελτίωση. Στο παρακάτω πείραμα θα σταματάμε την εξαγωγή του όταν η απόδοση θα παρουσιάσει 5 διαδοχικές φορές μείωση."
      ]
    },
    {
      "cell_type": "code",
      "metadata": {
        "id": "aAmPhl6RnKq6",
        "colab": {
          "base_uri": "https://localhost:8080/"
        },
        "outputId": "386ddd7d-fb95-45af-a86f-fbd40b282776"
      },
      "source": [
        "# 60 epochs\n",
        "early = tf.keras.callbacks.EarlyStopping(monitor='loss', patience=5)\n",
        "history10 = mycnn_1.fit(x_train, y_train, epochs=60, batch_size=128, validation_data=(x_val, y_val)\n",
        "                           ,callbacks = early) \n",
        "mycnn_1.save('mycnn1_early.h5')"
      ],
      "execution_count": null,
      "outputs": [
        {
          "output_type": "stream",
          "text": [
            "Epoch 1/60\n",
            "67/67 [==============================] - 3s 52ms/step - loss: 0.7252 - accuracy: 0.8560 - val_loss: 2.2252 - val_accuracy: 0.6660\n",
            "Epoch 2/60\n",
            "67/67 [==============================] - 3s 50ms/step - loss: 0.5261 - accuracy: 0.8902 - val_loss: 2.9359 - val_accuracy: 0.6500\n",
            "Epoch 3/60\n",
            "67/67 [==============================] - 3s 50ms/step - loss: 0.4852 - accuracy: 0.8998 - val_loss: 2.7867 - val_accuracy: 0.6667\n",
            "Epoch 4/60\n",
            "67/67 [==============================] - 3s 50ms/step - loss: 0.5136 - accuracy: 0.8951 - val_loss: 3.0899 - val_accuracy: 0.6360\n",
            "Epoch 5/60\n",
            "67/67 [==============================] - 3s 50ms/step - loss: 0.5989 - accuracy: 0.8876 - val_loss: 3.2655 - val_accuracy: 0.6453\n",
            "Epoch 6/60\n",
            "67/67 [==============================] - 3s 50ms/step - loss: 0.6431 - accuracy: 0.8831 - val_loss: 3.6001 - val_accuracy: 0.6307\n",
            "Epoch 7/60\n",
            "67/67 [==============================] - 3s 50ms/step - loss: 0.5968 - accuracy: 0.8899 - val_loss: 3.3290 - val_accuracy: 0.6380\n",
            "Epoch 8/60\n",
            "67/67 [==============================] - 3s 50ms/step - loss: 0.6196 - accuracy: 0.8856 - val_loss: 3.4620 - val_accuracy: 0.6347\n"
          ],
          "name": "stdout"
        }
      ]
    },
    {
      "cell_type": "markdown",
      "metadata": {
        "id": "hKXouFjxFgXc"
      },
      "source": [
        "**Data Augmentation**"
      ]
    },
    {
      "cell_type": "markdown",
      "metadata": {
        "id": "zaUTVWx6FonA"
      },
      "source": [
        "Με την τεχνική αυτή δημιουργούνται νέα δεδομένα εκπαίδευσης με χρήση τυχαίων μετασχηματισμών σε αυτά που ήδη υπάρχουν. Ο στόχος είναι το μοντέλο να εκπαιδευτεί σε περισσότερες εικόνες, ορισμένες εκ των οποίων θα προκύπτουν από τους μετασχηματισμούς, αλλά θα αντιστοιχούν στις ίδιες κλάσεις."
      ]
    },
    {
      "cell_type": "code",
      "metadata": {
        "id": "3T41j30QHIFQ"
      },
      "source": [
        "from keras.utils import np_utils"
      ],
      "execution_count": null,
      "outputs": []
    },
    {
      "cell_type": "code",
      "metadata": {
        "id": "PAFnd8EpFo_q"
      },
      "source": [
        "# data augmentation\n",
        "y_train_categ = np_utils.to_categorical(y_train, classes_num)\n",
        "y_test_categ = np_utils.to_categorical(y_test, classes_num)\n",
        "y_val_categ = np_utils.to_categorical(y_val, classes_num)\n",
        "\n",
        "# define a  data generator for train and validation set\n",
        "data_gen = tf.keras.preprocessing.image.ImageDataGenerator(\n",
        "    featurewise_center=True,\n",
        "    featurewise_std_normalization=True,\n",
        "    rotation_range=10,\n",
        "    width_shift_range=0.1,\n",
        "    height_shift_range=0.1,\n",
        "    horizontal_flip=True,\n",
        "    zoom_range=0.2)\n",
        "\n",
        "# define a data generator for test set\n",
        "test_datagen = tf.keras.preprocessing.image.ImageDataGenerator(rescale=1./255)\n",
        "\n",
        "# compute quantities required for featurewise normalization\n",
        "# (std, mean, and principal components if ZCA whitening is applied)\n",
        "data_gen.fit(x_train)"
      ],
      "execution_count": null,
      "outputs": []
    },
    {
      "cell_type": "markdown",
      "metadata": {
        "id": "S4grzEqZID6g"
      },
      "source": [
        "Με τη χρήση των δύο παραπάνω τεχνικών εκπαιδεύουμε το μοντέλο MyCNN."
      ]
    },
    {
      "cell_type": "code",
      "metadata": {
        "id": "BQWgWf0qFpCD",
        "colab": {
          "base_uri": "https://localhost:8080/"
        },
        "outputId": "48fe842e-1e0a-4b9b-9e41-a2da0c63871f"
      },
      "source": [
        "# MyCNN Using Adam Optimizer\n",
        "mycnn_2 = models.Sequential()\n",
        "mycnn_2.add(layers.Conv2D(128, (3,3), padding=\"same\",input_shape=(32, 32, 3)))\n",
        "mycnn_2.add(tf.keras.layers.LeakyReLU())\n",
        "mycnn_2.add(layers.Conv2D(128, (3, 3), padding='same'))\n",
        "mycnn_2.add(layers.MaxPooling2D((2, 2)))\n",
        "mycnn_2.add(layers.Dropout(0.05))\n",
        "mycnn_2.add(tf.keras.layers.LeakyReLU())\n",
        "mycnn_2.add(layers.Conv2D(256, (3, 3), padding='same'))\n",
        "mycnn_2.add(tf.keras.layers.LeakyReLU())\n",
        "mycnn_2.add(layers.MaxPooling2D((2, 2)))\n",
        "mycnn_2.add(layers.Dropout(0.05))\n",
        "mycnn_2.add(layers.Conv2D(512, (3, 3), padding='same'))\n",
        "mycnn_2.add(tf.keras.layers.LeakyReLU())\n",
        "mycnn_2.add(layers.Conv2D(256, (3, 3)))\n",
        "mycnn_2.add(tf.keras.layers.LeakyReLU())\n",
        "mycnn_2.add(layers.MaxPooling2D((2, 2)))\n",
        "mycnn_2.add(layers.Dropout(0.05))\n",
        "mycnn_2.add(layers.Flatten())\n",
        "mycnn_2.add(layers.Dense(1024))\n",
        "mycnn_2.add(tf.keras.layers.LeakyReLU())\n",
        "mycnn_2.add(layers.Dropout(0.05))\n",
        "mycnn_2.add(layers.Dense(200))\n",
        "mycnn_2.add(tf.keras.layers.LeakyReLU())\n",
        "mycnn_2.add(layers.Dropout(0.05))\n",
        "mycnn_2.add(layers.Dense(classes_num, activation='softmax'))\n",
        "mycnn_2.add(layers.Dropout(0.05))\n",
        "\n",
        "\n",
        "mycnn_2.compile(optimizer='adam', loss=tf.keras.losses.categorical_crossentropy, metrics=['accuracy'])\n",
        "mycnn_2.summary()\n"
      ],
      "execution_count": null,
      "outputs": [
        {
          "output_type": "stream",
          "text": [
            "Model: \"sequential_11\"\n",
            "_________________________________________________________________\n",
            "Layer (type)                 Output Shape              Param #   \n",
            "=================================================================\n",
            "conv2d_49 (Conv2D)           (None, 32, 32, 128)       3584      \n",
            "_________________________________________________________________\n",
            "leaky_re_lu_57 (LeakyReLU)   (None, 32, 32, 128)       0         \n",
            "_________________________________________________________________\n",
            "conv2d_50 (Conv2D)           (None, 32, 32, 128)       147584    \n",
            "_________________________________________________________________\n",
            "max_pooling2d_31 (MaxPooling (None, 16, 16, 128)       0         \n",
            "_________________________________________________________________\n",
            "dropout_18 (Dropout)         (None, 16, 16, 128)       0         \n",
            "_________________________________________________________________\n",
            "leaky_re_lu_58 (LeakyReLU)   (None, 16, 16, 128)       0         \n",
            "_________________________________________________________________\n",
            "conv2d_51 (Conv2D)           (None, 16, 16, 256)       295168    \n",
            "_________________________________________________________________\n",
            "leaky_re_lu_59 (LeakyReLU)   (None, 16, 16, 256)       0         \n",
            "_________________________________________________________________\n",
            "max_pooling2d_32 (MaxPooling (None, 8, 8, 256)         0         \n",
            "_________________________________________________________________\n",
            "dropout_19 (Dropout)         (None, 8, 8, 256)         0         \n",
            "_________________________________________________________________\n",
            "conv2d_52 (Conv2D)           (None, 8, 8, 512)         1180160   \n",
            "_________________________________________________________________\n",
            "leaky_re_lu_60 (LeakyReLU)   (None, 8, 8, 512)         0         \n",
            "_________________________________________________________________\n",
            "conv2d_53 (Conv2D)           (None, 6, 6, 256)         1179904   \n",
            "_________________________________________________________________\n",
            "leaky_re_lu_61 (LeakyReLU)   (None, 6, 6, 256)         0         \n",
            "_________________________________________________________________\n",
            "max_pooling2d_33 (MaxPooling (None, 3, 3, 256)         0         \n",
            "_________________________________________________________________\n",
            "dropout_20 (Dropout)         (None, 3, 3, 256)         0         \n",
            "_________________________________________________________________\n",
            "flatten_11 (Flatten)         (None, 2304)              0         \n",
            "_________________________________________________________________\n",
            "dense_31 (Dense)             (None, 1024)              2360320   \n",
            "_________________________________________________________________\n",
            "leaky_re_lu_62 (LeakyReLU)   (None, 1024)              0         \n",
            "_________________________________________________________________\n",
            "dropout_21 (Dropout)         (None, 1024)              0         \n",
            "_________________________________________________________________\n",
            "dense_32 (Dense)             (None, 200)               205000    \n",
            "_________________________________________________________________\n",
            "leaky_re_lu_63 (LeakyReLU)   (None, 200)               0         \n",
            "_________________________________________________________________\n",
            "dropout_22 (Dropout)         (None, 200)               0         \n",
            "_________________________________________________________________\n",
            "dense_33 (Dense)             (None, 20)                4020      \n",
            "_________________________________________________________________\n",
            "dropout_23 (Dropout)         (None, 20)                0         \n",
            "=================================================================\n",
            "Total params: 5,375,740\n",
            "Trainable params: 5,375,740\n",
            "Non-trainable params: 0\n",
            "_________________________________________________________________\n"
          ],
          "name": "stdout"
        }
      ]
    },
    {
      "cell_type": "code",
      "metadata": {
        "colab": {
          "base_uri": "https://localhost:8080/"
        },
        "id": "NfevJPGgJQ9j",
        "outputId": "02486bfc-1320-476f-9cd0-a52766147d69"
      },
      "source": [
        "#define early stopping after 5 consecutive epochs with increasing loss  \n",
        "callback = tf.keras.callbacks.EarlyStopping(monitor='loss', patience=5)\n",
        "\n",
        "# fits the model on batches with real-time data augmentation\n",
        "mycnn_2.compile(optimizer='adam',\n",
        "                  loss='categorical_crossentropy',\n",
        "                  metrics=['accuracy'])\n",
        "\n",
        "history11 = mycnn_2.fit(data_gen.flow(x_train, y_train_categ, batch_size=64),\n",
        "                    steps_per_epoch=len(x_train)/64, epochs=50,\n",
        "                     validation_data=data_gen.flow(x_val, y_val_categ, batch_size=64),\n",
        "                    validation_steps = len(x_val)/64, callbacks=callback)\n",
        "\n",
        "mycnn_2.save('MyCNN_2.h5')"
      ],
      "execution_count": null,
      "outputs": [
        {
          "output_type": "stream",
          "text": [
            "Epoch 1/50\n",
            "132/132 [==============================] - 7s 50ms/step - loss: 3.0887 - accuracy: 0.2614 - val_loss: 2.0880 - val_accuracy: 0.3560\n",
            "Epoch 2/50\n",
            "132/132 [==============================] - 7s 49ms/step - loss: 2.6072 - accuracy: 0.4033 - val_loss: 1.7949 - val_accuracy: 0.4507\n",
            "Epoch 3/50\n",
            "132/132 [==============================] - 7s 50ms/step - loss: 2.3881 - accuracy: 0.4565 - val_loss: 1.6666 - val_accuracy: 0.4887\n",
            "Epoch 4/50\n",
            "132/132 [==============================] - 7s 54ms/step - loss: 2.3368 - accuracy: 0.4896 - val_loss: 1.5223 - val_accuracy: 0.5347\n",
            "Epoch 5/50\n",
            "132/132 [==============================] - 7s 54ms/step - loss: 2.2158 - accuracy: 0.5340 - val_loss: 1.4810 - val_accuracy: 0.5547\n",
            "Epoch 6/50\n",
            "132/132 [==============================] - 7s 54ms/step - loss: 2.0148 - accuracy: 0.5634 - val_loss: 1.5104 - val_accuracy: 0.5400\n",
            "Epoch 7/50\n",
            "132/132 [==============================] - 7s 49ms/step - loss: 2.0289 - accuracy: 0.5776 - val_loss: 1.3888 - val_accuracy: 0.5940\n",
            "Epoch 8/50\n",
            "132/132 [==============================] - 7s 49ms/step - loss: 1.9574 - accuracy: 0.5981 - val_loss: 1.2218 - val_accuracy: 0.6273\n",
            "Epoch 9/50\n",
            "132/132 [==============================] - 6s 48ms/step - loss: 1.8778 - accuracy: 0.6168 - val_loss: 1.3748 - val_accuracy: 0.5873\n",
            "Epoch 10/50\n",
            "132/132 [==============================] - 7s 49ms/step - loss: 1.8421 - accuracy: 0.6206 - val_loss: 1.4018 - val_accuracy: 0.6240\n",
            "Epoch 11/50\n",
            "132/132 [==============================] - 6s 49ms/step - loss: 1.7601 - accuracy: 0.6472 - val_loss: 1.3109 - val_accuracy: 0.6240\n",
            "Epoch 12/50\n",
            "132/132 [==============================] - 6s 48ms/step - loss: 1.7337 - accuracy: 0.6556 - val_loss: 1.3700 - val_accuracy: 0.6013\n",
            "Epoch 13/50\n",
            "132/132 [==============================] - 7s 54ms/step - loss: 1.7537 - accuracy: 0.6626 - val_loss: 1.4547 - val_accuracy: 0.6127\n",
            "Epoch 14/50\n",
            "132/132 [==============================] - 7s 54ms/step - loss: 1.7061 - accuracy: 0.6692 - val_loss: 1.1813 - val_accuracy: 0.6600\n",
            "Epoch 15/50\n",
            "132/132 [==============================] - 8s 57ms/step - loss: 1.6225 - accuracy: 0.6758 - val_loss: 1.1457 - val_accuracy: 0.6640\n",
            "Epoch 16/50\n",
            "132/132 [==============================] - 7s 52ms/step - loss: 1.6612 - accuracy: 0.6839 - val_loss: 1.1313 - val_accuracy: 0.6567\n",
            "Epoch 17/50\n",
            "132/132 [==============================] - 6s 48ms/step - loss: 1.6253 - accuracy: 0.6960 - val_loss: 1.1896 - val_accuracy: 0.6607\n",
            "Epoch 18/50\n",
            "132/132 [==============================] - 6s 48ms/step - loss: 1.5809 - accuracy: 0.7013 - val_loss: 1.3136 - val_accuracy: 0.6453\n",
            "Epoch 19/50\n",
            "132/132 [==============================] - 7s 50ms/step - loss: 1.6617 - accuracy: 0.7007 - val_loss: 1.1250 - val_accuracy: 0.6780\n",
            "Epoch 20/50\n",
            "132/132 [==============================] - 6s 48ms/step - loss: 1.5849 - accuracy: 0.7120 - val_loss: 1.3746 - val_accuracy: 0.6467\n",
            "Epoch 21/50\n",
            "132/132 [==============================] - 6s 47ms/step - loss: 1.5816 - accuracy: 0.7114 - val_loss: 1.1662 - val_accuracy: 0.6833\n",
            "Epoch 22/50\n",
            "132/132 [==============================] - 6s 48ms/step - loss: 1.5514 - accuracy: 0.7219 - val_loss: 1.1482 - val_accuracy: 0.6813\n",
            "Epoch 23/50\n",
            "132/132 [==============================] - 7s 54ms/step - loss: 1.5357 - accuracy: 0.7156 - val_loss: 1.2005 - val_accuracy: 0.6607\n",
            "Epoch 24/50\n",
            "132/132 [==============================] - 7s 54ms/step - loss: 1.4984 - accuracy: 0.7293 - val_loss: 1.0921 - val_accuracy: 0.6993\n",
            "Epoch 25/50\n",
            "132/132 [==============================] - 7s 54ms/step - loss: 1.4964 - accuracy: 0.7391 - val_loss: 1.1146 - val_accuracy: 0.6927\n",
            "Epoch 26/50\n",
            "132/132 [==============================] - 7s 51ms/step - loss: 1.5206 - accuracy: 0.7368 - val_loss: 1.0710 - val_accuracy: 0.6947\n",
            "Epoch 27/50\n",
            "132/132 [==============================] - 6s 48ms/step - loss: 1.5031 - accuracy: 0.7364 - val_loss: 1.2172 - val_accuracy: 0.6833\n",
            "Epoch 28/50\n",
            "132/132 [==============================] - 7s 50ms/step - loss: 1.4584 - accuracy: 0.7449 - val_loss: 1.0642 - val_accuracy: 0.7167\n",
            "Epoch 29/50\n",
            "132/132 [==============================] - 6s 48ms/step - loss: 1.4465 - accuracy: 0.7507 - val_loss: 1.2702 - val_accuracy: 0.6947\n",
            "Epoch 30/50\n",
            "132/132 [==============================] - 6s 48ms/step - loss: 1.4698 - accuracy: 0.7464 - val_loss: 1.1579 - val_accuracy: 0.6927\n",
            "Epoch 31/50\n",
            "132/132 [==============================] - 6s 48ms/step - loss: 1.4310 - accuracy: 0.7584 - val_loss: 1.1365 - val_accuracy: 0.7113\n",
            "Epoch 32/50\n",
            "132/132 [==============================] - 7s 49ms/step - loss: 1.4294 - accuracy: 0.7561 - val_loss: 1.1765 - val_accuracy: 0.6727\n",
            "Epoch 33/50\n",
            "132/132 [==============================] - 7s 54ms/step - loss: 1.4112 - accuracy: 0.7628 - val_loss: 1.0435 - val_accuracy: 0.7227\n",
            "Epoch 34/50\n",
            "132/132 [==============================] - 7s 53ms/step - loss: 1.3798 - accuracy: 0.7687 - val_loss: 1.1974 - val_accuracy: 0.7127\n",
            "Epoch 35/50\n",
            "132/132 [==============================] - 7s 53ms/step - loss: 1.3725 - accuracy: 0.7691 - val_loss: 1.2019 - val_accuracy: 0.7020\n",
            "Epoch 36/50\n",
            "132/132 [==============================] - 7s 50ms/step - loss: 1.3914 - accuracy: 0.7649 - val_loss: 1.2057 - val_accuracy: 0.6960\n",
            "Epoch 37/50\n",
            "132/132 [==============================] - 7s 51ms/step - loss: 1.4231 - accuracy: 0.7666 - val_loss: 1.2388 - val_accuracy: 0.7073\n",
            "Epoch 38/50\n",
            "132/132 [==============================] - 7s 53ms/step - loss: 1.3158 - accuracy: 0.7745 - val_loss: 1.2307 - val_accuracy: 0.6893\n",
            "Epoch 39/50\n",
            "132/132 [==============================] - 7s 53ms/step - loss: 1.4065 - accuracy: 0.7705 - val_loss: 1.0736 - val_accuracy: 0.7227\n",
            "Epoch 40/50\n",
            "132/132 [==============================] - 7s 54ms/step - loss: 1.4128 - accuracy: 0.7739 - val_loss: 1.1788 - val_accuracy: 0.7107\n",
            "Epoch 41/50\n",
            "132/132 [==============================] - 7s 49ms/step - loss: 1.3282 - accuracy: 0.7911 - val_loss: 1.1281 - val_accuracy: 0.7207\n",
            "Epoch 42/50\n",
            "132/132 [==============================] - 6s 49ms/step - loss: 1.3296 - accuracy: 0.7795 - val_loss: 1.2932 - val_accuracy: 0.7047\n",
            "Epoch 43/50\n",
            "132/132 [==============================] - 6s 48ms/step - loss: 1.3629 - accuracy: 0.7742 - val_loss: 1.2780 - val_accuracy: 0.6767\n"
          ],
          "name": "stdout"
        }
      ]
    },
    {
      "cell_type": "markdown",
      "metadata": {
        "id": "tsAjwus5L_ru"
      },
      "source": [
        "---\n",
        "### Βήμα 2: Αξιολόγηση\n",
        "Αξιολογήστε της ορθότητας για το validation και το test set σας."
      ]
    },
    {
      "cell_type": "code",
      "metadata": {
        "colab": {
          "base_uri": "https://localhost:8080/",
          "height": 279
        },
        "id": "ffWWpYMlMBAQ",
        "outputId": "258040f3-f86b-4863-c8ea-23d06c69ba21"
      },
      "source": [
        "# Plot Implementation in MyCNN of Dropout and Early Stopping\n",
        "plot_acc(history10)\n",
        "plt.show()"
      ],
      "execution_count": null,
      "outputs": [
        {
          "output_type": "display_data",
          "data": {
            "image/png": "[encoded data removed]",
            "text/plain": [
              "<Figure size 432x288 with 1 Axes>"
            ]
          },
          "metadata": {
            "tags": [],
            "needs_background": "light"
          }
        }
      ]
    },
    {
      "cell_type": "code",
      "metadata": {
        "colab": {
          "base_uri": "https://localhost:8080/"
        },
        "id": "VJp3WPU5NbmR",
        "outputId": "eeac50bb-c98a-4d08-9d9a-be6a09843a8c"
      },
      "source": [
        "mycnn1 =  tf.keras.models.load_model('mycnn1_early.h5')\n",
        "\n",
        "print(\"MyCNN using Dropout and Early Stopping\")\n",
        "\n",
        "print('Validation Analytics')\n",
        "loss, accuracy = mycnn1.evaluate(x_val, y_val)\n",
        "print(\"Loss: {:.2f}\".format(loss))\n",
        "print(\"Accuracy: {:.2f}\".format(accuracy))\n",
        "print('\\nTest set Analytics')\n",
        "loss, accuracy = mycnn1.evaluate(x_test, y_test)\n",
        "print(\"Loss: {:.2f}\".format(loss))\n",
        "print(\"Accuracy: {:.2f}\".format(accuracy))"
      ],
      "execution_count": null,
      "outputs": [
        {
          "output_type": "stream",
          "text": [
            "MyCNN using Dropout and Early Stopping\n",
            "Validation Analytics\n",
            "47/47 [==============================] - 1s 8ms/step - loss: 3.4620 - accuracy: 0.6347\n",
            "Loss: 3.46\n",
            "Accuracy: 0.63\n",
            "\n",
            "Test set Analytics\n",
            "63/63 [==============================] - 0s 6ms/step - loss: 3.5701 - accuracy: 0.6345\n",
            "Loss: 3.57\n",
            "Accuracy: 0.63\n"
          ],
          "name": "stdout"
        }
      ]
    },
    {
      "cell_type": "markdown",
      "metadata": {
        "id": "z-f8fRU3OGih"
      },
      "source": [
        ""
      ]
    },
    {
      "cell_type": "code",
      "metadata": {
        "colab": {
          "base_uri": "https://localhost:8080/",
          "height": 279
        },
        "id": "TDezGLZYMo7d",
        "outputId": "55889635-4184-4753-8b66-13f28a0b3155"
      },
      "source": [
        "# Plot Implementation in MyCNN of Dropout,Early Stopping and Augmentation\n",
        "plot_acc(history11)\n",
        "plt.show()"
      ],
      "execution_count": null,
      "outputs": [
        {
          "output_type": "display_data",
          "data": {
            "image/png": "[encoded data removed]",
            "text/plain": [
              "<Figure size 432x288 with 1 Axes>"
            ]
          },
          "metadata": {
            "tags": [],
            "needs_background": "light"
          }
        }
      ]
    },
    {
      "cell_type": "code",
      "metadata": {
        "colab": {
          "base_uri": "https://localhost:8080/"
        },
        "id": "gsJ5AkQT3U0q",
        "outputId": "07ec6d31-ee13-4822-ecd0-094304eec829"
      },
      "source": [
        "print(\"MyCNN Model using Dropout, Early Stopping, Data Augmentation\")\n",
        "\n",
        "print('Validation Analytics')\n",
        "validation_loss, validation_accuracy = mycnn_2.evaluate(x_val, y_val_categ)\n",
        "\n",
        "print(\"Loss: {:.2f}\".format(validation_loss))\n",
        "print(\"Accuracy: {:.2f}\".format(validation_accuracy))\n",
        "\n",
        "print('Test set Analytics')\n",
        "test_loss, test_accuracy = mycnn_2.evaluate(x_test, y_test_categ)\n",
        "print(\"Loss: {:.2f}\".format(test_loss))\n",
        "print(\"Accuracy: {:.2f}\".format(test_accuracy))"
      ],
      "execution_count": null,
      "outputs": [
        {
          "output_type": "stream",
          "text": [
            "MyCNN Model using Dropout, Early Stopping, Data Augmentation\n",
            "Validation Analytics\n",
            "47/47 [==============================] - 0s 8ms/step - loss: 2.9077 - accuracy: 0.2713\n",
            "Loss: 2.91\n",
            "Accuracy: 0.27\n",
            "Test set Analytics\n",
            "63/63 [==============================] - 0s 7ms/step - loss: 2.8156 - accuracy: 0.2915\n",
            "Loss: 2.82\n",
            "Accuracy: 0.29\n"
          ],
          "name": "stdout"
        }
      ]
    },
    {
      "cell_type": "markdown",
      "metadata": {
        "id": "LAPz4ivrWamW"
      },
      "source": [
        "Παρατηρούμε μείωση στο φαινόμενο του overfit. Επίσης ο υπολογισμός του  validation accuracy γίνεται με απενεργοποιημένα τα dropout layers και επομένως παράγει πιο ομαλά και καλύτερα αποτελέσματα από αυτά στο test. Επιπλέον, τα αποτελέσματα από την εκπαίδευση με χρήση των μεθόδων του ερωτήματος αυτού φαίνεται να έχει καλύτερα αποτελέσματα σε σχέση με το 1ο (όπου δεν τα χρησιμοποιήσαμε)."
      ]
    },
    {
      "cell_type": "markdown",
      "metadata": {
        "id": "jTxKRNEHWfGs"
      },
      "source": [
        "## Ερώτημα 3\n",
        "---\n",
        "### Βήμα 1: Μεταφορά γνώσης\n",
        "Εφαρμόστε μεταφορά γνώσης (transfer learning) στο δικό σας μοντέλο (**MyCNN**), που αξιολογήσατε ως καλύτερο προς την ακρίβεια στην αντιμετώπιση της υπερεκπαίδεσης. \n",
        "\n",
        "Για το transfer learning επιλέξτε το [VGG16](https://www.tensorflow.org/api_docs/python/tf/keras/applications/vgg16) για μεταφορά μάθησης.\n",
        "\n",
        "1. \"Παγώστε\" τη συνελικτική βάση και εκπαιδεύστε την κεφαλή ταξινόμησης (classification head - σημαία trainable = False).  \n",
        "\n",
        "2. Εκπαιδέστε μόνο ένα ποσοστό των επιπέδων, το οποίο βρίσκεται προς την έξοδο του δικτύου. Οι σημαίες trainable εδώ θα πρέπει να οριστούν ανά επίπεδο.\n",
        "\n",
        "3. Αξιολογήστε τα αποτελέσματά σας, βάσει της ορθότητας του validation set και του test set σας."
      ]
    },
    {
      "cell_type": "markdown",
      "metadata": {
        "id": "OMAtb8hspOto"
      },
      "source": [
        "**Βήμα 1**"
      ]
    },
    {
      "cell_type": "code",
      "metadata": {
        "id": "zkI-D-hLOxvj",
        "colab": {
          "base_uri": "https://localhost:8080/"
        },
        "outputId": "044054a8-6449-4510-c457-71aedc01b852"
      },
      "source": [
        "# Pretrained Model and Freeze Weights\n",
        "pretr_model = tf.keras.applications.VGG16(\n",
        "    include_top=False, weights='imagenet', input_tensor=None, input_shape=(32,32,3),\n",
        "    pooling=max, classes=classes_num\n",
        ")\n",
        "pretr_model.trainable=False "
      ],
      "execution_count": null,
      "outputs": [
        {
          "output_type": "stream",
          "text": [
            "Downloading data from https://storage.googleapis.com/tensorflow/keras-applications/vgg16/vgg16_weights_tf_dim_ordering_tf_kernels_notop.h5\n",
            "58892288/58889256 [==============================] - 0s 0us/step\n"
          ],
          "name": "stdout"
        }
      ]
    },
    {
      "cell_type": "code",
      "metadata": {
        "colab": {
          "base_uri": "https://localhost:8080/"
        },
        "id": "A2pnFNtbOno9",
        "outputId": "0f03b84f-0192-4aad-ad2b-7491c36f87a4"
      },
      "source": [
        "# Using the above pretrained model and CNN2, create full sequential model\n",
        "transf_model = models.Sequential([\n",
        "    pretr_model\n",
        "])\n",
        "transf_model.add(layers.Flatten()),\n",
        "transf_model.add(layers.Dense(1024)),\n",
        "transf_model.add(tf.keras.layers.LeakyReLU()),\n",
        "transf_model.add(layers.Dropout(0.15)),\n",
        "transf_model.add(layers.Dense(200))\n",
        "transf_model.add(tf.keras.layers.LeakyReLU())\n",
        "transf_model.add(layers.Dropout(0.18))\n",
        "transf_model.add(layers.Dense(classes_num, activation='softmax'))\n",
        "transf_model.add(layers.Dropout(0.2))\n",
        "transf_model.summary()"
      ],
      "execution_count": null,
      "outputs": [
        {
          "output_type": "stream",
          "text": [
            "Model: \"sequential_1\"\n",
            "_________________________________________________________________\n",
            "Layer (type)                 Output Shape              Param #   \n",
            "=================================================================\n",
            "vgg16 (Functional)           (None, 1, 1, 512)         14714688  \n",
            "_________________________________________________________________\n",
            "flatten_1 (Flatten)          (None, 512)               0         \n",
            "_________________________________________________________________\n",
            "dense_3 (Dense)              (None, 1024)              525312    \n",
            "_________________________________________________________________\n",
            "leaky_re_lu_2 (LeakyReLU)    (None, 1024)              0         \n",
            "_________________________________________________________________\n",
            "dropout_3 (Dropout)          (None, 1024)              0         \n",
            "_________________________________________________________________\n",
            "dense_4 (Dense)              (None, 200)               205000    \n",
            "_________________________________________________________________\n",
            "leaky_re_lu_3 (LeakyReLU)    (None, 200)               0         \n",
            "_________________________________________________________________\n",
            "dropout_4 (Dropout)          (None, 200)               0         \n",
            "_________________________________________________________________\n",
            "dense_5 (Dense)              (None, 20)                4020      \n",
            "_________________________________________________________________\n",
            "dropout_5 (Dropout)          (None, 20)                0         \n",
            "=================================================================\n",
            "Total params: 15,449,020\n",
            "Trainable params: 734,332\n",
            "Non-trainable params: 14,714,688\n",
            "_________________________________________________________________\n"
          ],
          "name": "stdout"
        }
      ]
    },
    {
      "cell_type": "code",
      "metadata": {
        "colab": {
          "base_uri": "https://localhost:8080/"
        },
        "id": "gz_UK2UGOntC",
        "outputId": "f2a0c170-7c6d-446e-f594-a1aeefc72a27"
      },
      "source": [
        "# early Stopping = 3, 20 epochs \n",
        "c = tf.keras.callbacks.EarlyStopping(monitor='loss', patience=3)\n",
        "\n",
        "# define batch size\n",
        "bs = 32\n",
        "\n",
        "# fits the model on batches with real-time data augmentation\n",
        "transf_model.compile(optimizer='adam',\n",
        "                  loss='categorical_crossentropy',\n",
        "                  metrics=['accuracy'])\n",
        "\n",
        "history12 = transf_model.fit(data_gen.flow(x_train, y_train_categ, batch_size=bs),\n",
        "                    steps_per_epoch=len(x_train)/bs, epochs=20,\n",
        "                     validation_data=data_gen.flow(x_val, y_val_categ, batch_size=bs),\n",
        "                    validation_steps = len(x_val)/bs, callbacks=c)\n",
        "transf_model.save('transf.h5')"
      ],
      "execution_count": null,
      "outputs": [
        {
          "output_type": "stream",
          "text": [
            "Epoch 1/20\n",
            "265/265 [==============================] - 37s 26ms/step - loss: 4.5946 - accuracy: 0.3860 - val_loss: 1.4973 - val_accuracy: 0.5373\n",
            "Epoch 2/20\n",
            "265/265 [==============================] - 6s 23ms/step - loss: 4.1702 - accuracy: 0.4747 - val_loss: 1.4503 - val_accuracy: 0.5467\n",
            "Epoch 3/20\n",
            "265/265 [==============================] - 6s 23ms/step - loss: 4.2789 - accuracy: 0.4865 - val_loss: 1.4079 - val_accuracy: 0.5680\n",
            "Epoch 4/20\n",
            "265/265 [==============================] - 6s 24ms/step - loss: 4.2349 - accuracy: 0.4959 - val_loss: 1.4057 - val_accuracy: 0.5793\n",
            "Epoch 5/20\n",
            "265/265 [==============================] - 6s 24ms/step - loss: 4.0429 - accuracy: 0.5196 - val_loss: 1.3945 - val_accuracy: 0.5687\n",
            "Epoch 6/20\n",
            "265/265 [==============================] - 6s 23ms/step - loss: 4.1417 - accuracy: 0.5195 - val_loss: 1.4592 - val_accuracy: 0.5667\n",
            "Epoch 7/20\n",
            "265/265 [==============================] - 6s 23ms/step - loss: 4.0123 - accuracy: 0.5399 - val_loss: 1.3764 - val_accuracy: 0.5767\n",
            "Epoch 8/20\n",
            "265/265 [==============================] - 6s 23ms/step - loss: 4.0316 - accuracy: 0.5345 - val_loss: 1.4308 - val_accuracy: 0.5800\n",
            "Epoch 9/20\n",
            "265/265 [==============================] - 6s 23ms/step - loss: 4.0214 - accuracy: 0.5387 - val_loss: 1.4435 - val_accuracy: 0.5647\n",
            "Epoch 10/20\n",
            "265/265 [==============================] - 6s 23ms/step - loss: 4.0811 - accuracy: 0.5335 - val_loss: 1.4215 - val_accuracy: 0.5733\n"
          ],
          "name": "stdout"
        }
      ]
    },
    {
      "cell_type": "markdown",
      "metadata": {
        "id": "d-wZH0dBUQz8"
      },
      "source": [
        "Παρατηρούμε ότι το αποτέλεσμα συγκλίνει γρήγορα, κάτι το οποίο είναι και λογικό αφού εφαρμόσαμε ένα εκπαιδευμένο νευρωνικό δίκτυο. Επίσης σε σχέση με το μέγεθος του δικτύου αυτού, η εκπαίδευση τελειώνει γρήγορα αφού δεν εκπαιδεύονται τα layers της συνελικτικής βάσης."
      ]
    },
    {
      "cell_type": "markdown",
      "metadata": {
        "id": "jw1RgB6DpSCF"
      },
      "source": [
        "**Βήμα 2**"
      ]
    },
    {
      "cell_type": "markdown",
      "metadata": {
        "id": "v2ozryvYVY4K"
      },
      "source": [
        "Έπειτα εκπαιδεύουμε μόνο ένα ποσοστό των επιπέδων, το οποίο βρίσκεται προς την έξοδο του δικτύου. Οι σημαίες trainable εδώ θα πρέπει να οριστούν ανά επίπεδο."
      ]
    },
    {
      "cell_type": "code",
      "metadata": {
        "colab": {
          "base_uri": "https://localhost:8080/"
        },
        "id": "54RZzHaJOnwN",
        "outputId": "435f9135-c37c-461f-c4dc-3b77da5e6479"
      },
      "source": [
        "# Full sequential model \n",
        "transf_model2 = models.Sequential([pretr_model])\n",
        "transf_model2.add(layers.Flatten()),\n",
        "transf_model2.add(layers.Dense(1024)),\n",
        "transf_model2.add(tf.keras.layers.LeakyReLU()),\n",
        "transf_model2.add(layers.Dropout(0.15)),\n",
        "transf_model2.add(layers.Dense(200, trainable=False))\n",
        "transf_model2.add(tf.keras.layers.LeakyReLU())\n",
        "transf_model2.add(layers.Dropout(0.18))\n",
        "transf_model2.add(layers.Dense(classes_num, activation='softmax'))\n",
        "transf_model2.add(layers.Dropout(0.2))\n",
        "transf_model2.summary()"
      ],
      "execution_count": null,
      "outputs": [
        {
          "output_type": "stream",
          "text": [
            "Model: \"sequential_2\"\n",
            "_________________________________________________________________\n",
            "Layer (type)                 Output Shape              Param #   \n",
            "=================================================================\n",
            "vgg16 (Functional)           (None, 1, 1, 512)         14714688  \n",
            "_________________________________________________________________\n",
            "flatten_2 (Flatten)          (None, 512)               0         \n",
            "_________________________________________________________________\n",
            "dense_6 (Dense)              (None, 1024)              525312    \n",
            "_________________________________________________________________\n",
            "leaky_re_lu_4 (LeakyReLU)    (None, 1024)              0         \n",
            "_________________________________________________________________\n",
            "dropout_6 (Dropout)          (None, 1024)              0         \n",
            "_________________________________________________________________\n",
            "dense_7 (Dense)              (None, 200)               205000    \n",
            "_________________________________________________________________\n",
            "leaky_re_lu_5 (LeakyReLU)    (None, 200)               0         \n",
            "_________________________________________________________________\n",
            "dropout_7 (Dropout)          (None, 200)               0         \n",
            "_________________________________________________________________\n",
            "dense_8 (Dense)              (None, 20)                4020      \n",
            "_________________________________________________________________\n",
            "dropout_8 (Dropout)          (None, 20)                0         \n",
            "=================================================================\n",
            "Total params: 15,449,020\n",
            "Trainable params: 529,332\n",
            "Non-trainable params: 14,919,688\n",
            "_________________________________________________________________\n"
          ],
          "name": "stdout"
        }
      ]
    },
    {
      "cell_type": "code",
      "metadata": {
        "id": "0sKZAMLuWSXS"
      },
      "source": [
        "# with pretrained weights \n",
        "w = transf_model.layers[-5].get_weights()  \n",
        "transf_model2.layers[5].set_weights(w)"
      ],
      "execution_count": null,
      "outputs": []
    },
    {
      "cell_type": "code",
      "metadata": {
        "colab": {
          "base_uri": "https://localhost:8080/"
        },
        "id": "ap854YZhWSaL",
        "outputId": "82fca19f-2205-4f91-83b7-a8ea4ced6202"
      },
      "source": [
        "# Eearly stopping: 3, increasing loss, 20 epochs\n",
        "c = tf.keras.callbacks.EarlyStopping(monitor='loss', patience=3)\n",
        "\n",
        "# fits the model on batches with real-time data augmentation\n",
        "transf_model2.compile(optimizer='adam',\n",
        "                  loss='categorical_crossentropy',\n",
        "                  metrics=['accuracy'])\n",
        "\n",
        "history13 = transf_model2.fit(data_gen.flow(x_train, y_train_categ, batch_size=32),\n",
        "                    steps_per_epoch=len(x_train)/32, epochs=20,\n",
        "                     validation_data=data_gen.flow(x_val, y_val_categ, batch_size=32),\n",
        "                    validation_steps = len(x_val)/32, callbacks=c)\n",
        "\n",
        "transf_model2.save('transf_v2.h5')"
      ],
      "execution_count": null,
      "outputs": [
        {
          "output_type": "stream",
          "text": [
            "Epoch 1/20\n",
            "265/265 [==============================] - 7s 24ms/step - loss: 4.5589 - accuracy: 0.3844 - val_loss: 1.5617 - val_accuracy: 0.5080\n",
            "Epoch 2/20\n",
            "265/265 [==============================] - 6s 23ms/step - loss: 4.2107 - accuracy: 0.4694 - val_loss: 1.4094 - val_accuracy: 0.5773\n",
            "Epoch 3/20\n",
            "265/265 [==============================] - 6s 23ms/step - loss: 4.1253 - accuracy: 0.4984 - val_loss: 1.3479 - val_accuracy: 0.5793\n",
            "Epoch 4/20\n",
            "265/265 [==============================] - 6s 24ms/step - loss: 4.1293 - accuracy: 0.5007 - val_loss: 1.3166 - val_accuracy: 0.5947\n",
            "Epoch 5/20\n",
            "265/265 [==============================] - 6s 24ms/step - loss: 4.1673 - accuracy: 0.5065 - val_loss: 1.3025 - val_accuracy: 0.5927\n",
            "Epoch 6/20\n",
            "265/265 [==============================] - 6s 23ms/step - loss: 4.0339 - accuracy: 0.5212 - val_loss: 1.3494 - val_accuracy: 0.5793\n",
            "Epoch 7/20\n",
            "265/265 [==============================] - 6s 23ms/step - loss: 4.0349 - accuracy: 0.5300 - val_loss: 1.3220 - val_accuracy: 0.5940\n",
            "Epoch 8/20\n",
            "265/265 [==============================] - 6s 24ms/step - loss: 3.9600 - accuracy: 0.5404 - val_loss: 1.3371 - val_accuracy: 0.5940\n",
            "Epoch 9/20\n",
            "265/265 [==============================] - 6s 23ms/step - loss: 3.9151 - accuracy: 0.5475 - val_loss: 1.3120 - val_accuracy: 0.6047\n",
            "Epoch 10/20\n",
            "265/265 [==============================] - 6s 24ms/step - loss: 4.0057 - accuracy: 0.5484 - val_loss: 1.3033 - val_accuracy: 0.5880\n",
            "Epoch 11/20\n",
            "265/265 [==============================] - 6s 23ms/step - loss: 3.9292 - accuracy: 0.5496 - val_loss: 1.3242 - val_accuracy: 0.5993\n",
            "Epoch 12/20\n",
            "265/265 [==============================] - 6s 23ms/step - loss: 3.9164 - accuracy: 0.5588 - val_loss: 1.3220 - val_accuracy: 0.6000\n"
          ],
          "name": "stdout"
        }
      ]
    },
    {
      "cell_type": "markdown",
      "metadata": {
        "id": "Y9EarqKrXX5-"
      },
      "source": [
        "Σε σχέση με το προηγούμενο βήμα, παρατηρούμε ότι η σύγκλιση είναι πιο γρήγορη. Επίσης τα αποτελέσματα φαίνονται βελτιωμένα. Αυτό οφείλεται στο γεγονός ότι εκπαιδεύεται μόνο το τελευταίο επίπεδο της ταξινόμησης, που ορίζει και την κατηγοριοποίηση στον ζητούμενο αριθμό κλάσσεων. Τέλος, παρατηρούμε σημαντική επίδραση των dropout layers στο αποτέλεσμα, αλλά και τον τυχαίο τρόπο μηδενισμού ποσοστού των νευρώνων στο layer που εφαρμόζονται."
      ]
    },
    {
      "cell_type": "markdown",
      "metadata": {
        "id": "pWyalqgipUyC"
      },
      "source": [
        "**Βήμα 3**"
      ]
    },
    {
      "cell_type": "markdown",
      "metadata": {
        "id": "GlR_vS9TpaZ5"
      },
      "source": [
        "Αξιολόγηση αποτελεσμάτων:"
      ]
    },
    {
      "cell_type": "code",
      "metadata": {
        "colab": {
          "base_uri": "https://localhost:8080/",
          "height": 279
        },
        "id": "rTRWL-xvpZl-",
        "outputId": "6890a697-8f94-45bf-ef4a-00ed04a7cf49"
      },
      "source": [
        "# Plot Implementation in MyCNN using transfer learning and freeze weights of VGG16\n",
        "plot_acc(history12)\n",
        "plt.show()"
      ],
      "execution_count": null,
      "outputs": [
        {
          "output_type": "display_data",
          "data": {
            "image/png": "[encoded data removed]",
            "text/plain": [
              "<Figure size 432x288 with 1 Axes>"
            ]
          },
          "metadata": {
            "tags": [],
            "needs_background": "light"
          }
        }
      ]
    },
    {
      "cell_type": "code",
      "metadata": {
        "colab": {
          "base_uri": "https://localhost:8080/"
        },
        "id": "5GfF8vzTMqGZ",
        "outputId": "a0da8db3-a72c-4850-e5c9-e9b862edf0ed"
      },
      "source": [
        "print(\"Trander Learning - First Attempt\")\n",
        "test_loss, test_accuracy = transf_model.evaluate(x_test, y_test_categ)\n",
        "validation_loss, validation_accuracy = transf_model.evaluate(x_val, y_val_categ)\n",
        "print(\"Test loss:\", test_loss)\n",
        "print(\"Test accuracy:\", test_accuracy)\n",
        "print(\"Validation loss:\", validation_loss)\n",
        "print(\"Validation accuracy:\",validation_accuracy)"
      ],
      "execution_count": null,
      "outputs": [
        {
          "output_type": "stream",
          "text": [
            "Trander Learning - First Attempt\n",
            "63/63 [==============================] - 1s 15ms/step - loss: 2.6366 - accuracy: 0.3345\n",
            "47/47 [==============================] - 0s 9ms/step - loss: 2.7125 - accuracy: 0.3247\n",
            "Test loss: 2.6365771293640137\n",
            "Test accuracy: 0.3345000147819519\n",
            "Validation loss: 2.7124595642089844\n",
            "Validation accuracy: 0.32466667890548706\n"
          ],
          "name": "stdout"
        }
      ]
    },
    {
      "cell_type": "code",
      "metadata": {
        "colab": {
          "base_uri": "https://localhost:8080/",
          "height": 279
        },
        "id": "fjlXekIkWSdj",
        "outputId": "ce056a04-42d7-46d3-9f81-f4113bbff240"
      },
      "source": [
        "# Plot Implementation in MyCNN using transfer learning and freeze weights of VGG16 and third to last dense layer\n",
        "plot_acc(history13)\n",
        "plt.show()"
      ],
      "execution_count": null,
      "outputs": [
        {
          "output_type": "display_data",
          "data": {
            "image/png": "[encoded data removed]",
            "text/plain": [
              "<Figure size 432x288 with 1 Axes>"
            ]
          },
          "metadata": {
            "tags": [],
            "needs_background": "light"
          }
        }
      ]
    },
    {
      "cell_type": "code",
      "metadata": {
        "colab": {
          "base_uri": "https://localhost:8080/"
        },
        "id": "HqthLKKSM32s",
        "outputId": "761356eb-8dd7-4826-9aa5-89ac826c582b"
      },
      "source": [
        "print(\"Trander Learning - Second Attempt\")\n",
        "test_loss, test_accuracy = transf_model2.evaluate(x_test, y_test_categ)\n",
        "validation_loss, validation_accuracy = transf_model2.evaluate(x_val, y_val_categ)\n",
        "print(\"Test loss:\", test_loss)\n",
        "print(\"Test accuracy:\", test_accuracy)\n",
        "print(\"Validation loss:\", validation_loss)\n",
        "print(\"Validation accuracy:\",validation_accuracy)"
      ],
      "execution_count": null,
      "outputs": [
        {
          "output_type": "stream",
          "text": [
            "Trander Learning - Second Attempt\n",
            "63/63 [==============================] - 1s 12ms/step - loss: 2.1705 - accuracy: 0.3535\n",
            "47/47 [==============================] - 1s 11ms/step - loss: 2.2178 - accuracy: 0.3540\n",
            "Test loss: 2.170492649078369\n",
            "Test accuracy: 0.35350000858306885\n",
            "Validation loss: 2.217787504196167\n",
            "Validation accuracy: 0.3540000021457672\n"
          ],
          "name": "stdout"
        }
      ]
    },
    {
      "cell_type": "markdown",
      "metadata": {
        "id": "Ad0xJgG3NCTQ"
      },
      "source": [
        "Παρατηρούμε ότι τα test accurancy και validation accurancy έχουν παρόμοιες τιμές αναλογικά με τα προηγούμενα βήματα. Επίσης το evaluation accurancy που προκύπτει από την fit σε σχέση με αυτό που προκύπτει από την evaluate είναι διαφορετικό."
      ]
    },
    {
      "cell_type": "code",
      "metadata": {
        "id": "m09FA2dgOnyx"
      },
      "source": [
        ""
      ],
      "execution_count": null,
      "outputs": []
    },
    {
      "cell_type": "markdown",
      "metadata": {
        "id": "M_T6Y9EJDuOu"
      },
      "source": [
        "## Διαχείριση μνήμης (TFRecord)\n",
        "Η φόρτωση δεδομένων με τον τρόπο που το κάναμε παραπάνω στο απλό παράδειγμα υλοποίησης είναι πολύ βολική αλλά δεν είναι αποτελεσματική ως προς τη διαχείριση της μνήμης. Συγκεκριμένα, με τον τρόπο αυτό, τα δεδομένα αποθηκεύονται απευθείας σε μεταβλητές, οι οποίες όλες μαζί καταλαμβάνουν τη RAM της CPU ή της GPU, κάτι που κάνει αδύνατη τη διαχείριση μεγάλων datasets ή τον μεταχηματισμό των δεδομένων όπως όταν κάνουμε αύξηση δεδομένων (data augmentation).\n",
        "\n",
        "Για να παρακαμφθεί αυτό το πρόβλημα, υπάρχει η δυνατότητα της σειριοποίησης των δεδομένων (serialization) και της αποθήκευσής τους σε αρχεία μεσαίου μεγέθους (κάποιων MB) τα οποία μπορούν να αναγνωστούν γραμμικά.\n",
        "\n",
        "Το φορμάτ TFRecord είναι ένα φορμάτ που επιτρέπει την αποθήκευση σειράς δυαδικών εγγραφών. Διαβάστε σχετικά για το [TFRecord and tf.Example](https://www.tensorflow.org/tutorials/load_data/tfrecord) και [tf.data: Build TensorFlow input pipelines](https://www.tensorflow.org/guide/data). \n",
        "\n",
        "Σημειώστε ότι με τη μέθοδο αυτή θα πρέπει να γίνει import η `tensorflow_datasets` και να χρησιμοποιήσουμε την `tfds.load` ώστε να αποθηκευθεί το σύνολο δεδομένων σε αρχεία tfrecord στο δίσκο (δείτε [εδώ](https://colab.research.google.com/github/tensorflow/datasets/blob/master/docs/overview.ipynb) ένα παράδειγμα). Φυσικά μπορούμε να μετατρέψουμε και τα πρωτογενή δεδομένα (raw data) του dataset όπως αρχεία jpg σε φορματ tfrecord όπως [εδώ](https://towardsdatascience.com/working-with-tfrecords-and-tf-train-example-36d111b3ff4d).\n"
      ]
    }
  ]
}